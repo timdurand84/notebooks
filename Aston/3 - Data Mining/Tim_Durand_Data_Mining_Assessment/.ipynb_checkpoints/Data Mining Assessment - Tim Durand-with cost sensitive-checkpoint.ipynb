{
 "cells": [
  {
   "cell_type": "code",
   "execution_count": 1,
   "metadata": {},
   "outputs": [],
   "source": [
    "import warnings\n",
    "warnings.filterwarnings('ignore')\n",
    "\n",
    "# Data Wrangling\n",
    "import numpy as np\n",
    "import pandas as pd\n",
    "pd.set_option('display.max_columns', 999)\n",
    "\n",
    "# Data Import\n",
    "from scipy.io.arff import loadarff \n",
    "\n",
    "# Helper Functions\n",
    "import AnalyseHelpers as a\n",
    "import CleanseHelpers as c\n",
    "\n",
    "# Visualisation\n",
    "import matplotlib.pyplot as plt\n",
    "plt.rcParams['figure.figsize'] = [8.0, 5.0]\n",
    "import seaborn as sns\n",
    "sns.set(font_scale=1)\n",
    "# Set the styling for dataframes\n",
    "dfstyles = [dict(selector=\"caption\", props=[(\"font-size\", \"120%\"),(\"color\", \"black\"),(\"text-align\", \"center\")])]\n",
    "from IPython.display import display,HTML, display_html\n",
    "\n",
    "\n",
    "# Model Pre-processing\n",
    "from sklearn.preprocessing import MinMaxScaler\n",
    "from sklearn.model_selection import train_test_split, GridSearchCV\n",
    "\n",
    "#Model Metrics\n",
    "from sklearn.metrics import accuracy_score, balanced_accuracy_score, confusion_matrix, roc_auc_score, classification_report, roc_curve, plot_confusion_matrix\n",
    "\n",
    "#Models\n",
    "from sklearn.tree import DecisionTreeClassifier\n",
    "from sklearn.neighbors import KNeighborsClassifier\n",
    "from sklearn.ensemble import BaggingClassifier, RandomForestClassifier\n",
    "from sklearn.naive_bayes import GaussianNB\n",
    "from sklearn.linear_model import LogisticRegression\n",
    "\n",
    "# Cost Sensitive Models\n",
    "from costcla.metrics import cost_loss, savings_score\n",
    "from costcla.models import CostSensitiveLogisticRegression, CostSensitiveDecisionTreeClassifier, CostSensitiveRandomForestClassifier\n",
    "from imblearn.ensemble import BalancedBaggingClassifier\n",
    "from imblearn.ensemble import BalancedRandomForestClassifier\n",
    "\n",
    "# Model Params\n",
    "classweight = \"balanced\" #{0:0.2,1:0.8} {0:1,1:5}\n",
    "randomstate = 4325"
   ]
  },
  {
   "cell_type": "markdown",
   "metadata": {},
   "source": [
    "HTML('''<script>\n",
    "code_show=true; \n",
    "function code_toggle() {\n",
    " if (code_show){\n",
    " $('div.input').hide();\n",
    " } else {\n",
    " $('div.input').show();\n",
    " }\n",
    " code_show = !code_show\n",
    "} \n",
    "$( document ).ready(code_toggle);\n",
    "</script>\n",
    "<b>NOTE</b>: AnalyseHelpers and CleanseHelpers are supplementary modules, and should reside in the same directory as this notebook\n",
    "<br>\n",
    "The code for this notebook is, by default, hidden. To display the code cells, click <a href=\"javascript:code_toggle()\">here</a>.\\r\\n''')"
   ]
  },
  {
   "cell_type": "code",
   "execution_count": 2,
   "metadata": {},
   "outputs": [],
   "source": [
    "# Import training data to df from arff file\n",
    "trainingdata = 'C:/Users/emspocmgmttd/Documents/Aston/Data Mining/Assessment/CWdata/CWdata_train.arff'\n",
    "testdata = 'C:/Users/emspocmgmttd/Documents/Aston/Data Mining/Assessment/CWdata/CWdata_test.arff'\n",
    "raw_training_data = loadarff(trainingdata)\n",
    "traindf = pd.DataFrame(raw_training_data[0])"
   ]
  },
  {
   "cell_type": "markdown",
   "metadata": {},
   "source": [
    "## Data Exploration"
   ]
  },
  {
   "cell_type": "markdown",
   "metadata": {},
   "source": [
    "### Preliminary cleansing"
   ]
  },
  {
   "cell_type": "code",
   "execution_count": 3,
   "metadata": {},
   "outputs": [
    {
     "data": {
      "text/html": [
       "<style  type=\"text/css\" >\n",
       "    #T_b7a7919e_1a56_11ea_9918_000d3a64a493 caption {\n",
       "          font-size: 120%;\n",
       "          color: black;\n",
       "          text-align: center;\n",
       "    }</style><table id=\"T_b7a7919e_1a56_11ea_9918_000d3a64a493\" ><caption>Data profile: Training data</caption><thead>    <tr>        <th class=\"blank level0\" ></th>        <th class=\"col_heading level0 col0\" >Column</th>        <th class=\"col_heading level0 col1\" >Max Length Value</th>        <th class=\"col_heading level0 col2\" >Max Length</th>        <th class=\"col_heading level0 col3\" >Min Length Value</th>        <th class=\"col_heading level0 col4\" >Min Length</th>        <th class=\"col_heading level0 col5\" >Null #</th>        <th class=\"col_heading level0 col6\" >Null %</th>        <th class=\"col_heading level0 col7\" >Data Type</th>        <th class=\"col_heading level0 col8\" >Unique Values</th>        <th class=\"col_heading level0 col9\" >Row Count</th>        <th class=\"col_heading level0 col10\" >Mean</th>        <th class=\"col_heading level0 col11\" >Max</th>        <th class=\"col_heading level0 col12\" >Min</th>    </tr></thead><tbody>\n",
       "                <tr>\n",
       "                        <th id=\"T_b7a7919e_1a56_11ea_9918_000d3a64a493level0_row0\" class=\"row_heading level0 row0\" >0</th>\n",
       "                        <td id=\"T_b7a7919e_1a56_11ea_9918_000d3a64a493row0_col0\" class=\"data row0 col0\" >LIMIT_BAL</td>\n",
       "                        <td id=\"T_b7a7919e_1a56_11ea_9918_000d3a64a493row0_col1\" class=\"data row0 col1\" >1e+06</td>\n",
       "                        <td id=\"T_b7a7919e_1a56_11ea_9918_000d3a64a493row0_col2\" class=\"data row0 col2\" >9</td>\n",
       "                        <td id=\"T_b7a7919e_1a56_11ea_9918_000d3a64a493row0_col3\" class=\"data row0 col3\" >50000</td>\n",
       "                        <td id=\"T_b7a7919e_1a56_11ea_9918_000d3a64a493row0_col4\" class=\"data row0 col4\" >7</td>\n",
       "                        <td id=\"T_b7a7919e_1a56_11ea_9918_000d3a64a493row0_col5\" class=\"data row0 col5\" >0</td>\n",
       "                        <td id=\"T_b7a7919e_1a56_11ea_9918_000d3a64a493row0_col6\" class=\"data row0 col6\" >0</td>\n",
       "                        <td id=\"T_b7a7919e_1a56_11ea_9918_000d3a64a493row0_col7\" class=\"data row0 col7\" >float64</td>\n",
       "                        <td id=\"T_b7a7919e_1a56_11ea_9918_000d3a64a493row0_col8\" class=\"data row0 col8\" >80</td>\n",
       "                        <td id=\"T_b7a7919e_1a56_11ea_9918_000d3a64a493row0_col9\" class=\"data row0 col9\" >25000</td>\n",
       "                        <td id=\"T_b7a7919e_1a56_11ea_9918_000d3a64a493row0_col10\" class=\"data row0 col10\" >167589</td>\n",
       "                        <td id=\"T_b7a7919e_1a56_11ea_9918_000d3a64a493row0_col11\" class=\"data row0 col11\" >1e+06</td>\n",
       "                        <td id=\"T_b7a7919e_1a56_11ea_9918_000d3a64a493row0_col12\" class=\"data row0 col12\" >10000</td>\n",
       "            </tr>\n",
       "            <tr>\n",
       "                        <th id=\"T_b7a7919e_1a56_11ea_9918_000d3a64a493level0_row1\" class=\"row_heading level0 row1\" >1</th>\n",
       "                        <td id=\"T_b7a7919e_1a56_11ea_9918_000d3a64a493row1_col0\" class=\"data row1 col0\" >SEX</td>\n",
       "                        <td id=\"T_b7a7919e_1a56_11ea_9918_000d3a64a493row1_col1\" class=\"data row1 col1\" >b'M'</td>\n",
       "                        <td id=\"T_b7a7919e_1a56_11ea_9918_000d3a64a493row1_col2\" class=\"data row1 col2\" >4</td>\n",
       "                        <td id=\"T_b7a7919e_1a56_11ea_9918_000d3a64a493row1_col3\" class=\"data row1 col3\" >b'M'</td>\n",
       "                        <td id=\"T_b7a7919e_1a56_11ea_9918_000d3a64a493row1_col4\" class=\"data row1 col4\" >4</td>\n",
       "                        <td id=\"T_b7a7919e_1a56_11ea_9918_000d3a64a493row1_col5\" class=\"data row1 col5\" >0</td>\n",
       "                        <td id=\"T_b7a7919e_1a56_11ea_9918_000d3a64a493row1_col6\" class=\"data row1 col6\" >0</td>\n",
       "                        <td id=\"T_b7a7919e_1a56_11ea_9918_000d3a64a493row1_col7\" class=\"data row1 col7\" >string</td>\n",
       "                        <td id=\"T_b7a7919e_1a56_11ea_9918_000d3a64a493row1_col8\" class=\"data row1 col8\" >2</td>\n",
       "                        <td id=\"T_b7a7919e_1a56_11ea_9918_000d3a64a493row1_col9\" class=\"data row1 col9\" >25000</td>\n",
       "                        <td id=\"T_b7a7919e_1a56_11ea_9918_000d3a64a493row1_col10\" class=\"data row1 col10\" >N/A</td>\n",
       "                        <td id=\"T_b7a7919e_1a56_11ea_9918_000d3a64a493row1_col11\" class=\"data row1 col11\" >N/A</td>\n",
       "                        <td id=\"T_b7a7919e_1a56_11ea_9918_000d3a64a493row1_col12\" class=\"data row1 col12\" >N/A</td>\n",
       "            </tr>\n",
       "            <tr>\n",
       "                        <th id=\"T_b7a7919e_1a56_11ea_9918_000d3a64a493level0_row2\" class=\"row_heading level0 row2\" >2</th>\n",
       "                        <td id=\"T_b7a7919e_1a56_11ea_9918_000d3a64a493row2_col0\" class=\"data row2 col0\" >EDUCATION</td>\n",
       "                        <td id=\"T_b7a7919e_1a56_11ea_9918_000d3a64a493row2_col1\" class=\"data row2 col1\" >b'2'</td>\n",
       "                        <td id=\"T_b7a7919e_1a56_11ea_9918_000d3a64a493row2_col2\" class=\"data row2 col2\" >4</td>\n",
       "                        <td id=\"T_b7a7919e_1a56_11ea_9918_000d3a64a493row2_col3\" class=\"data row2 col3\" >b'2'</td>\n",
       "                        <td id=\"T_b7a7919e_1a56_11ea_9918_000d3a64a493row2_col4\" class=\"data row2 col4\" >4</td>\n",
       "                        <td id=\"T_b7a7919e_1a56_11ea_9918_000d3a64a493row2_col5\" class=\"data row2 col5\" >0</td>\n",
       "                        <td id=\"T_b7a7919e_1a56_11ea_9918_000d3a64a493row2_col6\" class=\"data row2 col6\" >0</td>\n",
       "                        <td id=\"T_b7a7919e_1a56_11ea_9918_000d3a64a493row2_col7\" class=\"data row2 col7\" >string</td>\n",
       "                        <td id=\"T_b7a7919e_1a56_11ea_9918_000d3a64a493row2_col8\" class=\"data row2 col8\" >7</td>\n",
       "                        <td id=\"T_b7a7919e_1a56_11ea_9918_000d3a64a493row2_col9\" class=\"data row2 col9\" >25000</td>\n",
       "                        <td id=\"T_b7a7919e_1a56_11ea_9918_000d3a64a493row2_col10\" class=\"data row2 col10\" >N/A</td>\n",
       "                        <td id=\"T_b7a7919e_1a56_11ea_9918_000d3a64a493row2_col11\" class=\"data row2 col11\" >N/A</td>\n",
       "                        <td id=\"T_b7a7919e_1a56_11ea_9918_000d3a64a493row2_col12\" class=\"data row2 col12\" >N/A</td>\n",
       "            </tr>\n",
       "            <tr>\n",
       "                        <th id=\"T_b7a7919e_1a56_11ea_9918_000d3a64a493level0_row3\" class=\"row_heading level0 row3\" >3</th>\n",
       "                        <td id=\"T_b7a7919e_1a56_11ea_9918_000d3a64a493row3_col0\" class=\"data row3 col0\" >MARRIAGE</td>\n",
       "                        <td id=\"T_b7a7919e_1a56_11ea_9918_000d3a64a493row3_col1\" class=\"data row3 col1\" >b'Divorced'</td>\n",
       "                        <td id=\"T_b7a7919e_1a56_11ea_9918_000d3a64a493row3_col2\" class=\"data row3 col2\" >11</td>\n",
       "                        <td id=\"T_b7a7919e_1a56_11ea_9918_000d3a64a493row3_col3\" class=\"data row3 col3\" >b'Single'</td>\n",
       "                        <td id=\"T_b7a7919e_1a56_11ea_9918_000d3a64a493row3_col4\" class=\"data row3 col4\" >9</td>\n",
       "                        <td id=\"T_b7a7919e_1a56_11ea_9918_000d3a64a493row3_col5\" class=\"data row3 col5\" >0</td>\n",
       "                        <td id=\"T_b7a7919e_1a56_11ea_9918_000d3a64a493row3_col6\" class=\"data row3 col6\" >0</td>\n",
       "                        <td id=\"T_b7a7919e_1a56_11ea_9918_000d3a64a493row3_col7\" class=\"data row3 col7\" >string</td>\n",
       "                        <td id=\"T_b7a7919e_1a56_11ea_9918_000d3a64a493row3_col8\" class=\"data row3 col8\" >4</td>\n",
       "                        <td id=\"T_b7a7919e_1a56_11ea_9918_000d3a64a493row3_col9\" class=\"data row3 col9\" >25000</td>\n",
       "                        <td id=\"T_b7a7919e_1a56_11ea_9918_000d3a64a493row3_col10\" class=\"data row3 col10\" >N/A</td>\n",
       "                        <td id=\"T_b7a7919e_1a56_11ea_9918_000d3a64a493row3_col11\" class=\"data row3 col11\" >N/A</td>\n",
       "                        <td id=\"T_b7a7919e_1a56_11ea_9918_000d3a64a493row3_col12\" class=\"data row3 col12\" >N/A</td>\n",
       "            </tr>\n",
       "            <tr>\n",
       "                        <th id=\"T_b7a7919e_1a56_11ea_9918_000d3a64a493level0_row4\" class=\"row_heading level0 row4\" >4</th>\n",
       "                        <td id=\"T_b7a7919e_1a56_11ea_9918_000d3a64a493row4_col0\" class=\"data row4 col0\" >AGE</td>\n",
       "                        <td id=\"T_b7a7919e_1a56_11ea_9918_000d3a64a493row4_col1\" class=\"data row4 col1\" >49</td>\n",
       "                        <td id=\"T_b7a7919e_1a56_11ea_9918_000d3a64a493row4_col2\" class=\"data row4 col2\" >4</td>\n",
       "                        <td id=\"T_b7a7919e_1a56_11ea_9918_000d3a64a493row4_col3\" class=\"data row4 col3\" >49</td>\n",
       "                        <td id=\"T_b7a7919e_1a56_11ea_9918_000d3a64a493row4_col4\" class=\"data row4 col4\" >4</td>\n",
       "                        <td id=\"T_b7a7919e_1a56_11ea_9918_000d3a64a493row4_col5\" class=\"data row4 col5\" >0</td>\n",
       "                        <td id=\"T_b7a7919e_1a56_11ea_9918_000d3a64a493row4_col6\" class=\"data row4 col6\" >0</td>\n",
       "                        <td id=\"T_b7a7919e_1a56_11ea_9918_000d3a64a493row4_col7\" class=\"data row4 col7\" >float64</td>\n",
       "                        <td id=\"T_b7a7919e_1a56_11ea_9918_000d3a64a493row4_col8\" class=\"data row4 col8\" >54</td>\n",
       "                        <td id=\"T_b7a7919e_1a56_11ea_9918_000d3a64a493row4_col9\" class=\"data row4 col9\" >25000</td>\n",
       "                        <td id=\"T_b7a7919e_1a56_11ea_9918_000d3a64a493row4_col10\" class=\"data row4 col10\" >35.4732</td>\n",
       "                        <td id=\"T_b7a7919e_1a56_11ea_9918_000d3a64a493row4_col11\" class=\"data row4 col11\" >75</td>\n",
       "                        <td id=\"T_b7a7919e_1a56_11ea_9918_000d3a64a493row4_col12\" class=\"data row4 col12\" >21</td>\n",
       "            </tr>\n",
       "            <tr>\n",
       "                        <th id=\"T_b7a7919e_1a56_11ea_9918_000d3a64a493level0_row5\" class=\"row_heading level0 row5\" >5</th>\n",
       "                        <td id=\"T_b7a7919e_1a56_11ea_9918_000d3a64a493row5_col0\" class=\"data row5 col0\" >PAY_0</td>\n",
       "                        <td id=\"T_b7a7919e_1a56_11ea_9918_000d3a64a493row5_col1\" class=\"data row5 col1\" >-1</td>\n",
       "                        <td id=\"T_b7a7919e_1a56_11ea_9918_000d3a64a493row5_col2\" class=\"data row5 col2\" >4</td>\n",
       "                        <td id=\"T_b7a7919e_1a56_11ea_9918_000d3a64a493row5_col3\" class=\"data row5 col3\" >2</td>\n",
       "                        <td id=\"T_b7a7919e_1a56_11ea_9918_000d3a64a493row5_col4\" class=\"data row5 col4\" >3</td>\n",
       "                        <td id=\"T_b7a7919e_1a56_11ea_9918_000d3a64a493row5_col5\" class=\"data row5 col5\" >0</td>\n",
       "                        <td id=\"T_b7a7919e_1a56_11ea_9918_000d3a64a493row5_col6\" class=\"data row5 col6\" >0</td>\n",
       "                        <td id=\"T_b7a7919e_1a56_11ea_9918_000d3a64a493row5_col7\" class=\"data row5 col7\" >float64</td>\n",
       "                        <td id=\"T_b7a7919e_1a56_11ea_9918_000d3a64a493row5_col8\" class=\"data row5 col8\" >11</td>\n",
       "                        <td id=\"T_b7a7919e_1a56_11ea_9918_000d3a64a493row5_col9\" class=\"data row5 col9\" >25000</td>\n",
       "                        <td id=\"T_b7a7919e_1a56_11ea_9918_000d3a64a493row5_col10\" class=\"data row5 col10\" >-0.01508</td>\n",
       "                        <td id=\"T_b7a7919e_1a56_11ea_9918_000d3a64a493row5_col11\" class=\"data row5 col11\" >8</td>\n",
       "                        <td id=\"T_b7a7919e_1a56_11ea_9918_000d3a64a493row5_col12\" class=\"data row5 col12\" >-2</td>\n",
       "            </tr>\n",
       "            <tr>\n",
       "                        <th id=\"T_b7a7919e_1a56_11ea_9918_000d3a64a493level0_row6\" class=\"row_heading level0 row6\" >6</th>\n",
       "                        <td id=\"T_b7a7919e_1a56_11ea_9918_000d3a64a493row6_col0\" class=\"data row6 col0\" >PAY_2</td>\n",
       "                        <td id=\"T_b7a7919e_1a56_11ea_9918_000d3a64a493row6_col1\" class=\"data row6 col1\" >-1</td>\n",
       "                        <td id=\"T_b7a7919e_1a56_11ea_9918_000d3a64a493row6_col2\" class=\"data row6 col2\" >4</td>\n",
       "                        <td id=\"T_b7a7919e_1a56_11ea_9918_000d3a64a493row6_col3\" class=\"data row6 col3\" >2</td>\n",
       "                        <td id=\"T_b7a7919e_1a56_11ea_9918_000d3a64a493row6_col4\" class=\"data row6 col4\" >3</td>\n",
       "                        <td id=\"T_b7a7919e_1a56_11ea_9918_000d3a64a493row6_col5\" class=\"data row6 col5\" >0</td>\n",
       "                        <td id=\"T_b7a7919e_1a56_11ea_9918_000d3a64a493row6_col6\" class=\"data row6 col6\" >0</td>\n",
       "                        <td id=\"T_b7a7919e_1a56_11ea_9918_000d3a64a493row6_col7\" class=\"data row6 col7\" >float64</td>\n",
       "                        <td id=\"T_b7a7919e_1a56_11ea_9918_000d3a64a493row6_col8\" class=\"data row6 col8\" >11</td>\n",
       "                        <td id=\"T_b7a7919e_1a56_11ea_9918_000d3a64a493row6_col9\" class=\"data row6 col9\" >25000</td>\n",
       "                        <td id=\"T_b7a7919e_1a56_11ea_9918_000d3a64a493row6_col10\" class=\"data row6 col10\" >-0.13528</td>\n",
       "                        <td id=\"T_b7a7919e_1a56_11ea_9918_000d3a64a493row6_col11\" class=\"data row6 col11\" >8</td>\n",
       "                        <td id=\"T_b7a7919e_1a56_11ea_9918_000d3a64a493row6_col12\" class=\"data row6 col12\" >-2</td>\n",
       "            </tr>\n",
       "            <tr>\n",
       "                        <th id=\"T_b7a7919e_1a56_11ea_9918_000d3a64a493level0_row7\" class=\"row_heading level0 row7\" >7</th>\n",
       "                        <td id=\"T_b7a7919e_1a56_11ea_9918_000d3a64a493row7_col0\" class=\"data row7 col0\" >PAY_3</td>\n",
       "                        <td id=\"T_b7a7919e_1a56_11ea_9918_000d3a64a493row7_col1\" class=\"data row7 col1\" >-1</td>\n",
       "                        <td id=\"T_b7a7919e_1a56_11ea_9918_000d3a64a493row7_col2\" class=\"data row7 col2\" >4</td>\n",
       "                        <td id=\"T_b7a7919e_1a56_11ea_9918_000d3a64a493row7_col3\" class=\"data row7 col3\" >2</td>\n",
       "                        <td id=\"T_b7a7919e_1a56_11ea_9918_000d3a64a493row7_col4\" class=\"data row7 col4\" >3</td>\n",
       "                        <td id=\"T_b7a7919e_1a56_11ea_9918_000d3a64a493row7_col5\" class=\"data row7 col5\" >0</td>\n",
       "                        <td id=\"T_b7a7919e_1a56_11ea_9918_000d3a64a493row7_col6\" class=\"data row7 col6\" >0</td>\n",
       "                        <td id=\"T_b7a7919e_1a56_11ea_9918_000d3a64a493row7_col7\" class=\"data row7 col7\" >float64</td>\n",
       "                        <td id=\"T_b7a7919e_1a56_11ea_9918_000d3a64a493row7_col8\" class=\"data row7 col8\" >11</td>\n",
       "                        <td id=\"T_b7a7919e_1a56_11ea_9918_000d3a64a493row7_col9\" class=\"data row7 col9\" >25000</td>\n",
       "                        <td id=\"T_b7a7919e_1a56_11ea_9918_000d3a64a493row7_col10\" class=\"data row7 col10\" >-0.16656</td>\n",
       "                        <td id=\"T_b7a7919e_1a56_11ea_9918_000d3a64a493row7_col11\" class=\"data row7 col11\" >8</td>\n",
       "                        <td id=\"T_b7a7919e_1a56_11ea_9918_000d3a64a493row7_col12\" class=\"data row7 col12\" >-2</td>\n",
       "            </tr>\n",
       "            <tr>\n",
       "                        <th id=\"T_b7a7919e_1a56_11ea_9918_000d3a64a493level0_row8\" class=\"row_heading level0 row8\" >8</th>\n",
       "                        <td id=\"T_b7a7919e_1a56_11ea_9918_000d3a64a493row8_col0\" class=\"data row8 col0\" >PAY_4</td>\n",
       "                        <td id=\"T_b7a7919e_1a56_11ea_9918_000d3a64a493row8_col1\" class=\"data row8 col1\" >-2</td>\n",
       "                        <td id=\"T_b7a7919e_1a56_11ea_9918_000d3a64a493row8_col2\" class=\"data row8 col2\" >4</td>\n",
       "                        <td id=\"T_b7a7919e_1a56_11ea_9918_000d3a64a493row8_col3\" class=\"data row8 col3\" >2</td>\n",
       "                        <td id=\"T_b7a7919e_1a56_11ea_9918_000d3a64a493row8_col4\" class=\"data row8 col4\" >3</td>\n",
       "                        <td id=\"T_b7a7919e_1a56_11ea_9918_000d3a64a493row8_col5\" class=\"data row8 col5\" >0</td>\n",
       "                        <td id=\"T_b7a7919e_1a56_11ea_9918_000d3a64a493row8_col6\" class=\"data row8 col6\" >0</td>\n",
       "                        <td id=\"T_b7a7919e_1a56_11ea_9918_000d3a64a493row8_col7\" class=\"data row8 col7\" >float64</td>\n",
       "                        <td id=\"T_b7a7919e_1a56_11ea_9918_000d3a64a493row8_col8\" class=\"data row8 col8\" >11</td>\n",
       "                        <td id=\"T_b7a7919e_1a56_11ea_9918_000d3a64a493row8_col9\" class=\"data row8 col9\" >25000</td>\n",
       "                        <td id=\"T_b7a7919e_1a56_11ea_9918_000d3a64a493row8_col10\" class=\"data row8 col10\" >-0.22184</td>\n",
       "                        <td id=\"T_b7a7919e_1a56_11ea_9918_000d3a64a493row8_col11\" class=\"data row8 col11\" >8</td>\n",
       "                        <td id=\"T_b7a7919e_1a56_11ea_9918_000d3a64a493row8_col12\" class=\"data row8 col12\" >-2</td>\n",
       "            </tr>\n",
       "            <tr>\n",
       "                        <th id=\"T_b7a7919e_1a56_11ea_9918_000d3a64a493level0_row9\" class=\"row_heading level0 row9\" >9</th>\n",
       "                        <td id=\"T_b7a7919e_1a56_11ea_9918_000d3a64a493row9_col0\" class=\"data row9 col0\" >PAY_5</td>\n",
       "                        <td id=\"T_b7a7919e_1a56_11ea_9918_000d3a64a493row9_col1\" class=\"data row9 col1\" >-1</td>\n",
       "                        <td id=\"T_b7a7919e_1a56_11ea_9918_000d3a64a493row9_col2\" class=\"data row9 col2\" >4</td>\n",
       "                        <td id=\"T_b7a7919e_1a56_11ea_9918_000d3a64a493row9_col3\" class=\"data row9 col3\" >2</td>\n",
       "                        <td id=\"T_b7a7919e_1a56_11ea_9918_000d3a64a493row9_col4\" class=\"data row9 col4\" >3</td>\n",
       "                        <td id=\"T_b7a7919e_1a56_11ea_9918_000d3a64a493row9_col5\" class=\"data row9 col5\" >0</td>\n",
       "                        <td id=\"T_b7a7919e_1a56_11ea_9918_000d3a64a493row9_col6\" class=\"data row9 col6\" >0</td>\n",
       "                        <td id=\"T_b7a7919e_1a56_11ea_9918_000d3a64a493row9_col7\" class=\"data row9 col7\" >float64</td>\n",
       "                        <td id=\"T_b7a7919e_1a56_11ea_9918_000d3a64a493row9_col8\" class=\"data row9 col8\" >10</td>\n",
       "                        <td id=\"T_b7a7919e_1a56_11ea_9918_000d3a64a493row9_col9\" class=\"data row9 col9\" >25000</td>\n",
       "                        <td id=\"T_b7a7919e_1a56_11ea_9918_000d3a64a493row9_col10\" class=\"data row9 col10\" >-0.26608</td>\n",
       "                        <td id=\"T_b7a7919e_1a56_11ea_9918_000d3a64a493row9_col11\" class=\"data row9 col11\" >8</td>\n",
       "                        <td id=\"T_b7a7919e_1a56_11ea_9918_000d3a64a493row9_col12\" class=\"data row9 col12\" >-2</td>\n",
       "            </tr>\n",
       "            <tr>\n",
       "                        <th id=\"T_b7a7919e_1a56_11ea_9918_000d3a64a493level0_row10\" class=\"row_heading level0 row10\" >10</th>\n",
       "                        <td id=\"T_b7a7919e_1a56_11ea_9918_000d3a64a493row10_col0\" class=\"data row10 col0\" >PAY_6</td>\n",
       "                        <td id=\"T_b7a7919e_1a56_11ea_9918_000d3a64a493row10_col1\" class=\"data row10 col1\" >-2</td>\n",
       "                        <td id=\"T_b7a7919e_1a56_11ea_9918_000d3a64a493row10_col2\" class=\"data row10 col2\" >4</td>\n",
       "                        <td id=\"T_b7a7919e_1a56_11ea_9918_000d3a64a493row10_col3\" class=\"data row10 col3\" >2</td>\n",
       "                        <td id=\"T_b7a7919e_1a56_11ea_9918_000d3a64a493row10_col4\" class=\"data row10 col4\" >3</td>\n",
       "                        <td id=\"T_b7a7919e_1a56_11ea_9918_000d3a64a493row10_col5\" class=\"data row10 col5\" >0</td>\n",
       "                        <td id=\"T_b7a7919e_1a56_11ea_9918_000d3a64a493row10_col6\" class=\"data row10 col6\" >0</td>\n",
       "                        <td id=\"T_b7a7919e_1a56_11ea_9918_000d3a64a493row10_col7\" class=\"data row10 col7\" >float64</td>\n",
       "                        <td id=\"T_b7a7919e_1a56_11ea_9918_000d3a64a493row10_col8\" class=\"data row10 col8\" >10</td>\n",
       "                        <td id=\"T_b7a7919e_1a56_11ea_9918_000d3a64a493row10_col9\" class=\"data row10 col9\" >25000</td>\n",
       "                        <td id=\"T_b7a7919e_1a56_11ea_9918_000d3a64a493row10_col10\" class=\"data row10 col10\" >-0.28972</td>\n",
       "                        <td id=\"T_b7a7919e_1a56_11ea_9918_000d3a64a493row10_col11\" class=\"data row10 col11\" >8</td>\n",
       "                        <td id=\"T_b7a7919e_1a56_11ea_9918_000d3a64a493row10_col12\" class=\"data row10 col12\" >-2</td>\n",
       "            </tr>\n",
       "            <tr>\n",
       "                        <th id=\"T_b7a7919e_1a56_11ea_9918_000d3a64a493level0_row11\" class=\"row_heading level0 row11\" >11</th>\n",
       "                        <td id=\"T_b7a7919e_1a56_11ea_9918_000d3a64a493row11_col0\" class=\"data row11 col0\" >BILL_AMT1</td>\n",
       "                        <td id=\"T_b7a7919e_1a56_11ea_9918_000d3a64a493row11_col1\" class=\"data row11 col1\" >-165580</td>\n",
       "                        <td id=\"T_b7a7919e_1a56_11ea_9918_000d3a64a493row11_col2\" class=\"data row11 col2\" >9</td>\n",
       "                        <td id=\"T_b7a7919e_1a56_11ea_9918_000d3a64a493row11_col3\" class=\"data row11 col3\" >0</td>\n",
       "                        <td id=\"T_b7a7919e_1a56_11ea_9918_000d3a64a493row11_col4\" class=\"data row11 col4\" >3</td>\n",
       "                        <td id=\"T_b7a7919e_1a56_11ea_9918_000d3a64a493row11_col5\" class=\"data row11 col5\" >0</td>\n",
       "                        <td id=\"T_b7a7919e_1a56_11ea_9918_000d3a64a493row11_col6\" class=\"data row11 col6\" >0</td>\n",
       "                        <td id=\"T_b7a7919e_1a56_11ea_9918_000d3a64a493row11_col7\" class=\"data row11 col7\" >float64</td>\n",
       "                        <td id=\"T_b7a7919e_1a56_11ea_9918_000d3a64a493row11_col8\" class=\"data row11 col8\" >19389</td>\n",
       "                        <td id=\"T_b7a7919e_1a56_11ea_9918_000d3a64a493row11_col9\" class=\"data row11 col9\" >25000</td>\n",
       "                        <td id=\"T_b7a7919e_1a56_11ea_9918_000d3a64a493row11_col10\" class=\"data row11 col10\" >51143.6</td>\n",
       "                        <td id=\"T_b7a7919e_1a56_11ea_9918_000d3a64a493row11_col11\" class=\"data row11 col11\" >964511</td>\n",
       "                        <td id=\"T_b7a7919e_1a56_11ea_9918_000d3a64a493row11_col12\" class=\"data row11 col12\" >-165580</td>\n",
       "            </tr>\n",
       "            <tr>\n",
       "                        <th id=\"T_b7a7919e_1a56_11ea_9918_000d3a64a493level0_row12\" class=\"row_heading level0 row12\" >12</th>\n",
       "                        <td id=\"T_b7a7919e_1a56_11ea_9918_000d3a64a493row12_col0\" class=\"data row12 col0\" >BILL_AMT2</td>\n",
       "                        <td id=\"T_b7a7919e_1a56_11ea_9918_000d3a64a493row12_col1\" class=\"data row12 col1\" >223205</td>\n",
       "                        <td id=\"T_b7a7919e_1a56_11ea_9918_000d3a64a493row12_col2\" class=\"data row12 col2\" >8</td>\n",
       "                        <td id=\"T_b7a7919e_1a56_11ea_9918_000d3a64a493row12_col3\" class=\"data row12 col3\" >0</td>\n",
       "                        <td id=\"T_b7a7919e_1a56_11ea_9918_000d3a64a493row12_col4\" class=\"data row12 col4\" >3</td>\n",
       "                        <td id=\"T_b7a7919e_1a56_11ea_9918_000d3a64a493row12_col5\" class=\"data row12 col5\" >0</td>\n",
       "                        <td id=\"T_b7a7919e_1a56_11ea_9918_000d3a64a493row12_col6\" class=\"data row12 col6\" >0</td>\n",
       "                        <td id=\"T_b7a7919e_1a56_11ea_9918_000d3a64a493row12_col7\" class=\"data row12 col7\" >float64</td>\n",
       "                        <td id=\"T_b7a7919e_1a56_11ea_9918_000d3a64a493row12_col8\" class=\"data row12 col8\" >19078</td>\n",
       "                        <td id=\"T_b7a7919e_1a56_11ea_9918_000d3a64a493row12_col9\" class=\"data row12 col9\" >25000</td>\n",
       "                        <td id=\"T_b7a7919e_1a56_11ea_9918_000d3a64a493row12_col10\" class=\"data row12 col10\" >49093.2</td>\n",
       "                        <td id=\"T_b7a7919e_1a56_11ea_9918_000d3a64a493row12_col11\" class=\"data row12 col11\" >983931</td>\n",
       "                        <td id=\"T_b7a7919e_1a56_11ea_9918_000d3a64a493row12_col12\" class=\"data row12 col12\" >-69777</td>\n",
       "            </tr>\n",
       "            <tr>\n",
       "                        <th id=\"T_b7a7919e_1a56_11ea_9918_000d3a64a493level0_row13\" class=\"row_heading level0 row13\" >13</th>\n",
       "                        <td id=\"T_b7a7919e_1a56_11ea_9918_000d3a64a493row13_col0\" class=\"data row13 col0\" >BILL_AMT3</td>\n",
       "                        <td id=\"T_b7a7919e_1a56_11ea_9918_000d3a64a493row13_col1\" class=\"data row13 col1\" >1.66409e+06</td>\n",
       "                        <td id=\"T_b7a7919e_1a56_11ea_9918_000d3a64a493row13_col2\" class=\"data row13 col2\" >9</td>\n",
       "                        <td id=\"T_b7a7919e_1a56_11ea_9918_000d3a64a493row13_col3\" class=\"data row13 col3\" >0</td>\n",
       "                        <td id=\"T_b7a7919e_1a56_11ea_9918_000d3a64a493row13_col4\" class=\"data row13 col4\" >3</td>\n",
       "                        <td id=\"T_b7a7919e_1a56_11ea_9918_000d3a64a493row13_col5\" class=\"data row13 col5\" >0</td>\n",
       "                        <td id=\"T_b7a7919e_1a56_11ea_9918_000d3a64a493row13_col6\" class=\"data row13 col6\" >0</td>\n",
       "                        <td id=\"T_b7a7919e_1a56_11ea_9918_000d3a64a493row13_col7\" class=\"data row13 col7\" >float64</td>\n",
       "                        <td id=\"T_b7a7919e_1a56_11ea_9918_000d3a64a493row13_col8\" class=\"data row13 col8\" >18796</td>\n",
       "                        <td id=\"T_b7a7919e_1a56_11ea_9918_000d3a64a493row13_col9\" class=\"data row13 col9\" >25000</td>\n",
       "                        <td id=\"T_b7a7919e_1a56_11ea_9918_000d3a64a493row13_col10\" class=\"data row13 col10\" >47020.6</td>\n",
       "                        <td id=\"T_b7a7919e_1a56_11ea_9918_000d3a64a493row13_col11\" class=\"data row13 col11\" >1.66409e+06</td>\n",
       "                        <td id=\"T_b7a7919e_1a56_11ea_9918_000d3a64a493row13_col12\" class=\"data row13 col12\" >-157264</td>\n",
       "            </tr>\n",
       "            <tr>\n",
       "                        <th id=\"T_b7a7919e_1a56_11ea_9918_000d3a64a493level0_row14\" class=\"row_heading level0 row14\" >14</th>\n",
       "                        <td id=\"T_b7a7919e_1a56_11ea_9918_000d3a64a493row14_col0\" class=\"data row14 col0\" >BILL_AMT4</td>\n",
       "                        <td id=\"T_b7a7919e_1a56_11ea_9918_000d3a64a493row14_col1\" class=\"data row14 col1\" >-170000</td>\n",
       "                        <td id=\"T_b7a7919e_1a56_11ea_9918_000d3a64a493row14_col2\" class=\"data row14 col2\" >9</td>\n",
       "                        <td id=\"T_b7a7919e_1a56_11ea_9918_000d3a64a493row14_col3\" class=\"data row14 col3\" >0</td>\n",
       "                        <td id=\"T_b7a7919e_1a56_11ea_9918_000d3a64a493row14_col4\" class=\"data row14 col4\" >3</td>\n",
       "                        <td id=\"T_b7a7919e_1a56_11ea_9918_000d3a64a493row14_col5\" class=\"data row14 col5\" >0</td>\n",
       "                        <td id=\"T_b7a7919e_1a56_11ea_9918_000d3a64a493row14_col6\" class=\"data row14 col6\" >0</td>\n",
       "                        <td id=\"T_b7a7919e_1a56_11ea_9918_000d3a64a493row14_col7\" class=\"data row14 col7\" >float64</td>\n",
       "                        <td id=\"T_b7a7919e_1a56_11ea_9918_000d3a64a493row14_col8\" class=\"data row14 col8\" >18395</td>\n",
       "                        <td id=\"T_b7a7919e_1a56_11ea_9918_000d3a64a493row14_col9\" class=\"data row14 col9\" >25000</td>\n",
       "                        <td id=\"T_b7a7919e_1a56_11ea_9918_000d3a64a493row14_col10\" class=\"data row14 col10\" >43151.5</td>\n",
       "                        <td id=\"T_b7a7919e_1a56_11ea_9918_000d3a64a493row14_col11\" class=\"data row14 col11\" >891586</td>\n",
       "                        <td id=\"T_b7a7919e_1a56_11ea_9918_000d3a64a493row14_col12\" class=\"data row14 col12\" >-170000</td>\n",
       "            </tr>\n",
       "            <tr>\n",
       "                        <th id=\"T_b7a7919e_1a56_11ea_9918_000d3a64a493level0_row15\" class=\"row_heading level0 row15\" >15</th>\n",
       "                        <td id=\"T_b7a7919e_1a56_11ea_9918_000d3a64a493row15_col0\" class=\"data row15 col0\" >BILL_AMT5</td>\n",
       "                        <td id=\"T_b7a7919e_1a56_11ea_9918_000d3a64a493row15_col1\" class=\"data row15 col1\" >205730</td>\n",
       "                        <td id=\"T_b7a7919e_1a56_11ea_9918_000d3a64a493row15_col2\" class=\"data row15 col2\" >8</td>\n",
       "                        <td id=\"T_b7a7919e_1a56_11ea_9918_000d3a64a493row15_col3\" class=\"data row15 col3\" >0</td>\n",
       "                        <td id=\"T_b7a7919e_1a56_11ea_9918_000d3a64a493row15_col4\" class=\"data row15 col4\" >3</td>\n",
       "                        <td id=\"T_b7a7919e_1a56_11ea_9918_000d3a64a493row15_col5\" class=\"data row15 col5\" >0</td>\n",
       "                        <td id=\"T_b7a7919e_1a56_11ea_9918_000d3a64a493row15_col6\" class=\"data row15 col6\" >0</td>\n",
       "                        <td id=\"T_b7a7919e_1a56_11ea_9918_000d3a64a493row15_col7\" class=\"data row15 col7\" >float64</td>\n",
       "                        <td id=\"T_b7a7919e_1a56_11ea_9918_000d3a64a493row15_col8\" class=\"data row15 col8\" >17964</td>\n",
       "                        <td id=\"T_b7a7919e_1a56_11ea_9918_000d3a64a493row15_col9\" class=\"data row15 col9\" >25000</td>\n",
       "                        <td id=\"T_b7a7919e_1a56_11ea_9918_000d3a64a493row15_col10\" class=\"data row15 col10\" >40306.9</td>\n",
       "                        <td id=\"T_b7a7919e_1a56_11ea_9918_000d3a64a493row15_col11\" class=\"data row15 col11\" >927171</td>\n",
       "                        <td id=\"T_b7a7919e_1a56_11ea_9918_000d3a64a493row15_col12\" class=\"data row15 col12\" >-61372</td>\n",
       "            </tr>\n",
       "            <tr>\n",
       "                        <th id=\"T_b7a7919e_1a56_11ea_9918_000d3a64a493level0_row16\" class=\"row_heading level0 row16\" >16</th>\n",
       "                        <td id=\"T_b7a7919e_1a56_11ea_9918_000d3a64a493row16_col0\" class=\"data row16 col0\" >BILL_AMT6</td>\n",
       "                        <td id=\"T_b7a7919e_1a56_11ea_9918_000d3a64a493row16_col1\" class=\"data row16 col1\" >-209051</td>\n",
       "                        <td id=\"T_b7a7919e_1a56_11ea_9918_000d3a64a493row16_col2\" class=\"data row16 col2\" >9</td>\n",
       "                        <td id=\"T_b7a7919e_1a56_11ea_9918_000d3a64a493row16_col3\" class=\"data row16 col3\" >0</td>\n",
       "                        <td id=\"T_b7a7919e_1a56_11ea_9918_000d3a64a493row16_col4\" class=\"data row16 col4\" >3</td>\n",
       "                        <td id=\"T_b7a7919e_1a56_11ea_9918_000d3a64a493row16_col5\" class=\"data row16 col5\" >0</td>\n",
       "                        <td id=\"T_b7a7919e_1a56_11ea_9918_000d3a64a493row16_col6\" class=\"data row16 col6\" >0</td>\n",
       "                        <td id=\"T_b7a7919e_1a56_11ea_9918_000d3a64a493row16_col7\" class=\"data row16 col7\" >float64</td>\n",
       "                        <td id=\"T_b7a7919e_1a56_11ea_9918_000d3a64a493row16_col8\" class=\"data row16 col8\" >17611</td>\n",
       "                        <td id=\"T_b7a7919e_1a56_11ea_9918_000d3a64a493row16_col9\" class=\"data row16 col9\" >25000</td>\n",
       "                        <td id=\"T_b7a7919e_1a56_11ea_9918_000d3a64a493row16_col10\" class=\"data row16 col10\" >38795.1</td>\n",
       "                        <td id=\"T_b7a7919e_1a56_11ea_9918_000d3a64a493row16_col11\" class=\"data row16 col11\" >961664</td>\n",
       "                        <td id=\"T_b7a7919e_1a56_11ea_9918_000d3a64a493row16_col12\" class=\"data row16 col12\" >-339603</td>\n",
       "            </tr>\n",
       "            <tr>\n",
       "                        <th id=\"T_b7a7919e_1a56_11ea_9918_000d3a64a493level0_row17\" class=\"row_heading level0 row17\" >17</th>\n",
       "                        <td id=\"T_b7a7919e_1a56_11ea_9918_000d3a64a493row17_col0\" class=\"data row17 col0\" >PAY_AMT1</td>\n",
       "                        <td id=\"T_b7a7919e_1a56_11ea_9918_000d3a64a493row17_col1\" class=\"data row17 col1\" >100467</td>\n",
       "                        <td id=\"T_b7a7919e_1a56_11ea_9918_000d3a64a493row17_col2\" class=\"data row17 col2\" >8</td>\n",
       "                        <td id=\"T_b7a7919e_1a56_11ea_9918_000d3a64a493row17_col3\" class=\"data row17 col3\" >0</td>\n",
       "                        <td id=\"T_b7a7919e_1a56_11ea_9918_000d3a64a493row17_col4\" class=\"data row17 col4\" >3</td>\n",
       "                        <td id=\"T_b7a7919e_1a56_11ea_9918_000d3a64a493row17_col5\" class=\"data row17 col5\" >0</td>\n",
       "                        <td id=\"T_b7a7919e_1a56_11ea_9918_000d3a64a493row17_col6\" class=\"data row17 col6\" >0</td>\n",
       "                        <td id=\"T_b7a7919e_1a56_11ea_9918_000d3a64a493row17_col7\" class=\"data row17 col7\" >float64</td>\n",
       "                        <td id=\"T_b7a7919e_1a56_11ea_9918_000d3a64a493row17_col8\" class=\"data row17 col8\" >7077</td>\n",
       "                        <td id=\"T_b7a7919e_1a56_11ea_9918_000d3a64a493row17_col9\" class=\"data row17 col9\" >25000</td>\n",
       "                        <td id=\"T_b7a7919e_1a56_11ea_9918_000d3a64a493row17_col10\" class=\"data row17 col10\" >5636.15</td>\n",
       "                        <td id=\"T_b7a7919e_1a56_11ea_9918_000d3a64a493row17_col11\" class=\"data row17 col11\" >873552</td>\n",
       "                        <td id=\"T_b7a7919e_1a56_11ea_9918_000d3a64a493row17_col12\" class=\"data row17 col12\" >0</td>\n",
       "            </tr>\n",
       "            <tr>\n",
       "                        <th id=\"T_b7a7919e_1a56_11ea_9918_000d3a64a493level0_row18\" class=\"row_heading level0 row18\" >18</th>\n",
       "                        <td id=\"T_b7a7919e_1a56_11ea_9918_000d3a64a493row18_col0\" class=\"data row18 col0\" >PAY_AMT2</td>\n",
       "                        <td id=\"T_b7a7919e_1a56_11ea_9918_000d3a64a493row18_col1\" class=\"data row18 col1\" >1.21547e+06</td>\n",
       "                        <td id=\"T_b7a7919e_1a56_11ea_9918_000d3a64a493row18_col2\" class=\"data row18 col2\" >9</td>\n",
       "                        <td id=\"T_b7a7919e_1a56_11ea_9918_000d3a64a493row18_col3\" class=\"data row18 col3\" >0</td>\n",
       "                        <td id=\"T_b7a7919e_1a56_11ea_9918_000d3a64a493row18_col4\" class=\"data row18 col4\" >3</td>\n",
       "                        <td id=\"T_b7a7919e_1a56_11ea_9918_000d3a64a493row18_col5\" class=\"data row18 col5\" >0</td>\n",
       "                        <td id=\"T_b7a7919e_1a56_11ea_9918_000d3a64a493row18_col6\" class=\"data row18 col6\" >0</td>\n",
       "                        <td id=\"T_b7a7919e_1a56_11ea_9918_000d3a64a493row18_col7\" class=\"data row18 col7\" >float64</td>\n",
       "                        <td id=\"T_b7a7919e_1a56_11ea_9918_000d3a64a493row18_col8\" class=\"data row18 col8\" >7058</td>\n",
       "                        <td id=\"T_b7a7919e_1a56_11ea_9918_000d3a64a493row18_col9\" class=\"data row18 col9\" >25000</td>\n",
       "                        <td id=\"T_b7a7919e_1a56_11ea_9918_000d3a64a493row18_col10\" class=\"data row18 col10\" >5967.8</td>\n",
       "                        <td id=\"T_b7a7919e_1a56_11ea_9918_000d3a64a493row18_col11\" class=\"data row18 col11\" >1.68426e+06</td>\n",
       "                        <td id=\"T_b7a7919e_1a56_11ea_9918_000d3a64a493row18_col12\" class=\"data row18 col12\" >0</td>\n",
       "            </tr>\n",
       "            <tr>\n",
       "                        <th id=\"T_b7a7919e_1a56_11ea_9918_000d3a64a493level0_row19\" class=\"row_heading level0 row19\" >19</th>\n",
       "                        <td id=\"T_b7a7919e_1a56_11ea_9918_000d3a64a493row19_col0\" class=\"data row19 col0\" >PAY_AMT3</td>\n",
       "                        <td id=\"T_b7a7919e_1a56_11ea_9918_000d3a64a493row19_col1\" class=\"data row19 col1\" >130000</td>\n",
       "                        <td id=\"T_b7a7919e_1a56_11ea_9918_000d3a64a493row19_col2\" class=\"data row19 col2\" >8</td>\n",
       "                        <td id=\"T_b7a7919e_1a56_11ea_9918_000d3a64a493row19_col3\" class=\"data row19 col3\" >0</td>\n",
       "                        <td id=\"T_b7a7919e_1a56_11ea_9918_000d3a64a493row19_col4\" class=\"data row19 col4\" >3</td>\n",
       "                        <td id=\"T_b7a7919e_1a56_11ea_9918_000d3a64a493row19_col5\" class=\"data row19 col5\" >0</td>\n",
       "                        <td id=\"T_b7a7919e_1a56_11ea_9918_000d3a64a493row19_col6\" class=\"data row19 col6\" >0</td>\n",
       "                        <td id=\"T_b7a7919e_1a56_11ea_9918_000d3a64a493row19_col7\" class=\"data row19 col7\" >float64</td>\n",
       "                        <td id=\"T_b7a7919e_1a56_11ea_9918_000d3a64a493row19_col8\" class=\"data row19 col8\" >6709</td>\n",
       "                        <td id=\"T_b7a7919e_1a56_11ea_9918_000d3a64a493row19_col9\" class=\"data row19 col9\" >25000</td>\n",
       "                        <td id=\"T_b7a7919e_1a56_11ea_9918_000d3a64a493row19_col10\" class=\"data row19 col10\" >5191.67</td>\n",
       "                        <td id=\"T_b7a7919e_1a56_11ea_9918_000d3a64a493row19_col11\" class=\"data row19 col11\" >896040</td>\n",
       "                        <td id=\"T_b7a7919e_1a56_11ea_9918_000d3a64a493row19_col12\" class=\"data row19 col12\" >0</td>\n",
       "            </tr>\n",
       "            <tr>\n",
       "                        <th id=\"T_b7a7919e_1a56_11ea_9918_000d3a64a493level0_row20\" class=\"row_heading level0 row20\" >20</th>\n",
       "                        <td id=\"T_b7a7919e_1a56_11ea_9918_000d3a64a493row20_col0\" class=\"data row20 col0\" >PAY_AMT4</td>\n",
       "                        <td id=\"T_b7a7919e_1a56_11ea_9918_000d3a64a493row20_col1\" class=\"data row20 col1\" >138355</td>\n",
       "                        <td id=\"T_b7a7919e_1a56_11ea_9918_000d3a64a493row20_col2\" class=\"data row20 col2\" >8</td>\n",
       "                        <td id=\"T_b7a7919e_1a56_11ea_9918_000d3a64a493row20_col3\" class=\"data row20 col3\" >0</td>\n",
       "                        <td id=\"T_b7a7919e_1a56_11ea_9918_000d3a64a493row20_col4\" class=\"data row20 col4\" >3</td>\n",
       "                        <td id=\"T_b7a7919e_1a56_11ea_9918_000d3a64a493row20_col5\" class=\"data row20 col5\" >0</td>\n",
       "                        <td id=\"T_b7a7919e_1a56_11ea_9918_000d3a64a493row20_col6\" class=\"data row20 col6\" >0</td>\n",
       "                        <td id=\"T_b7a7919e_1a56_11ea_9918_000d3a64a493row20_col7\" class=\"data row20 col7\" >float64</td>\n",
       "                        <td id=\"T_b7a7919e_1a56_11ea_9918_000d3a64a493row20_col8\" class=\"data row20 col8\" >6201</td>\n",
       "                        <td id=\"T_b7a7919e_1a56_11ea_9918_000d3a64a493row20_col9\" class=\"data row20 col9\" >25000</td>\n",
       "                        <td id=\"T_b7a7919e_1a56_11ea_9918_000d3a64a493row20_col10\" class=\"data row20 col10\" >4892.38</td>\n",
       "                        <td id=\"T_b7a7919e_1a56_11ea_9918_000d3a64a493row20_col11\" class=\"data row20 col11\" >621000</td>\n",
       "                        <td id=\"T_b7a7919e_1a56_11ea_9918_000d3a64a493row20_col12\" class=\"data row20 col12\" >0</td>\n",
       "            </tr>\n",
       "            <tr>\n",
       "                        <th id=\"T_b7a7919e_1a56_11ea_9918_000d3a64a493level0_row21\" class=\"row_heading level0 row21\" >21</th>\n",
       "                        <td id=\"T_b7a7919e_1a56_11ea_9918_000d3a64a493row21_col0\" class=\"data row21 col0\" >PAY_AMT5</td>\n",
       "                        <td id=\"T_b7a7919e_1a56_11ea_9918_000d3a64a493row21_col1\" class=\"data row21 col1\" >100486</td>\n",
       "                        <td id=\"T_b7a7919e_1a56_11ea_9918_000d3a64a493row21_col2\" class=\"data row21 col2\" >8</td>\n",
       "                        <td id=\"T_b7a7919e_1a56_11ea_9918_000d3a64a493row21_col3\" class=\"data row21 col3\" >0</td>\n",
       "                        <td id=\"T_b7a7919e_1a56_11ea_9918_000d3a64a493row21_col4\" class=\"data row21 col4\" >3</td>\n",
       "                        <td id=\"T_b7a7919e_1a56_11ea_9918_000d3a64a493row21_col5\" class=\"data row21 col5\" >0</td>\n",
       "                        <td id=\"T_b7a7919e_1a56_11ea_9918_000d3a64a493row21_col6\" class=\"data row21 col6\" >0</td>\n",
       "                        <td id=\"T_b7a7919e_1a56_11ea_9918_000d3a64a493row21_col7\" class=\"data row21 col7\" >float64</td>\n",
       "                        <td id=\"T_b7a7919e_1a56_11ea_9918_000d3a64a493row21_col8\" class=\"data row21 col8\" >6101</td>\n",
       "                        <td id=\"T_b7a7919e_1a56_11ea_9918_000d3a64a493row21_col9\" class=\"data row21 col9\" >25000</td>\n",
       "                        <td id=\"T_b7a7919e_1a56_11ea_9918_000d3a64a493row21_col10\" class=\"data row21 col10\" >4753.7</td>\n",
       "                        <td id=\"T_b7a7919e_1a56_11ea_9918_000d3a64a493row21_col11\" class=\"data row21 col11\" >388071</td>\n",
       "                        <td id=\"T_b7a7919e_1a56_11ea_9918_000d3a64a493row21_col12\" class=\"data row21 col12\" >0</td>\n",
       "            </tr>\n",
       "            <tr>\n",
       "                        <th id=\"T_b7a7919e_1a56_11ea_9918_000d3a64a493level0_row22\" class=\"row_heading level0 row22\" >22</th>\n",
       "                        <td id=\"T_b7a7919e_1a56_11ea_9918_000d3a64a493row22_col0\" class=\"data row22 col0\" >PAY_AMT6</td>\n",
       "                        <td id=\"T_b7a7919e_1a56_11ea_9918_000d3a64a493row22_col1\" class=\"data row22 col1\" >232972</td>\n",
       "                        <td id=\"T_b7a7919e_1a56_11ea_9918_000d3a64a493row22_col2\" class=\"data row22 col2\" >8</td>\n",
       "                        <td id=\"T_b7a7919e_1a56_11ea_9918_000d3a64a493row22_col3\" class=\"data row22 col3\" >0</td>\n",
       "                        <td id=\"T_b7a7919e_1a56_11ea_9918_000d3a64a493row22_col4\" class=\"data row22 col4\" >3</td>\n",
       "                        <td id=\"T_b7a7919e_1a56_11ea_9918_000d3a64a493row22_col5\" class=\"data row22 col5\" >0</td>\n",
       "                        <td id=\"T_b7a7919e_1a56_11ea_9918_000d3a64a493row22_col6\" class=\"data row22 col6\" >0</td>\n",
       "                        <td id=\"T_b7a7919e_1a56_11ea_9918_000d3a64a493row22_col7\" class=\"data row22 col7\" >float64</td>\n",
       "                        <td id=\"T_b7a7919e_1a56_11ea_9918_000d3a64a493row22_col8\" class=\"data row22 col8\" >6175</td>\n",
       "                        <td id=\"T_b7a7919e_1a56_11ea_9918_000d3a64a493row22_col9\" class=\"data row22 col9\" >25000</td>\n",
       "                        <td id=\"T_b7a7919e_1a56_11ea_9918_000d3a64a493row22_col10\" class=\"data row22 col10\" >5249.19</td>\n",
       "                        <td id=\"T_b7a7919e_1a56_11ea_9918_000d3a64a493row22_col11\" class=\"data row22 col11\" >528666</td>\n",
       "                        <td id=\"T_b7a7919e_1a56_11ea_9918_000d3a64a493row22_col12\" class=\"data row22 col12\" >0</td>\n",
       "            </tr>\n",
       "            <tr>\n",
       "                        <th id=\"T_b7a7919e_1a56_11ea_9918_000d3a64a493level0_row23\" class=\"row_heading level0 row23\" >23</th>\n",
       "                        <td id=\"T_b7a7919e_1a56_11ea_9918_000d3a64a493row23_col0\" class=\"data row23 col0\" >DEFAULT</td>\n",
       "                        <td id=\"T_b7a7919e_1a56_11ea_9918_000d3a64a493row23_col1\" class=\"data row23 col1\" >b'Yes'</td>\n",
       "                        <td id=\"T_b7a7919e_1a56_11ea_9918_000d3a64a493row23_col2\" class=\"data row23 col2\" >6</td>\n",
       "                        <td id=\"T_b7a7919e_1a56_11ea_9918_000d3a64a493row23_col3\" class=\"data row23 col3\" >b'No'</td>\n",
       "                        <td id=\"T_b7a7919e_1a56_11ea_9918_000d3a64a493row23_col4\" class=\"data row23 col4\" >5</td>\n",
       "                        <td id=\"T_b7a7919e_1a56_11ea_9918_000d3a64a493row23_col5\" class=\"data row23 col5\" >0</td>\n",
       "                        <td id=\"T_b7a7919e_1a56_11ea_9918_000d3a64a493row23_col6\" class=\"data row23 col6\" >0</td>\n",
       "                        <td id=\"T_b7a7919e_1a56_11ea_9918_000d3a64a493row23_col7\" class=\"data row23 col7\" >string</td>\n",
       "                        <td id=\"T_b7a7919e_1a56_11ea_9918_000d3a64a493row23_col8\" class=\"data row23 col8\" >2</td>\n",
       "                        <td id=\"T_b7a7919e_1a56_11ea_9918_000d3a64a493row23_col9\" class=\"data row23 col9\" >25000</td>\n",
       "                        <td id=\"T_b7a7919e_1a56_11ea_9918_000d3a64a493row23_col10\" class=\"data row23 col10\" >N/A</td>\n",
       "                        <td id=\"T_b7a7919e_1a56_11ea_9918_000d3a64a493row23_col11\" class=\"data row23 col11\" >N/A</td>\n",
       "                        <td id=\"T_b7a7919e_1a56_11ea_9918_000d3a64a493row23_col12\" class=\"data row23 col12\" >N/A</td>\n",
       "            </tr>\n",
       "    </tbody></table>"
      ],
      "text/plain": [
       "<pandas.io.formats.style.Styler at 0x14dd3411b38>"
      ]
     },
     "metadata": {},
     "output_type": "display_data"
    }
   ],
   "source": [
    "# Profile the data using helper function\n",
    "display(a.dataprofile(traindf).style.set_table_styles(dfstyles).set_caption('Data profile: Training data'))"
   ]
  },
  {
   "cell_type": "markdown",
   "metadata": {},
   "source": [
    "One can see from the above table that there are 24 columns and 25000 observations, none of the features have missing values, and there are two data types: object and float.\n",
    "The object columns are encoded and therefore required decoding using a UTF-8 decoder."
   ]
  },
  {
   "cell_type": "code",
   "execution_count": 4,
   "metadata": {},
   "outputs": [
    {
     "data": {
      "text/plain": [
       "SEX          object\n",
       "EDUCATION    object\n",
       "MARRIAGE     object\n",
       "DEFAULT      object\n",
       "dtype: object"
      ]
     },
     "execution_count": 4,
     "metadata": {},
     "output_type": "execute_result"
    }
   ],
   "source": [
    "traindf[['SEX', 'EDUCATION', 'MARRIAGE','DEFAULT']].dtypes"
   ]
  },
  {
   "cell_type": "code",
   "execution_count": 5,
   "metadata": {
    "scrolled": true
   },
   "outputs": [
    {
     "data": {
      "text/html": [
       "<style  type=\"text/css\" >\n",
       "    #T_b7bc2abe_1a56_11ea_a8bd_000d3a64a493 caption {\n",
       "          font-size: 120%;\n",
       "          color: black;\n",
       "          text-align: center;\n",
       "    }</style><table id=\"T_b7bc2abe_1a56_11ea_a8bd_000d3a64a493\" ><caption>Cleansed String Columns</caption><thead>    <tr>        <th class=\"blank level0\" ></th>        <th class=\"col_heading level0 col0\" >SEX</th>        <th class=\"col_heading level0 col1\" >EDUCATION</th>        <th class=\"col_heading level0 col2\" >MARRIAGE</th>        <th class=\"col_heading level0 col3\" >DEFAULT</th>    </tr></thead><tbody>\n",
       "                <tr>\n",
       "                        <th id=\"T_b7bc2abe_1a56_11ea_a8bd_000d3a64a493level0_row0\" class=\"row_heading level0 row0\" >0</th>\n",
       "                        <td id=\"T_b7bc2abe_1a56_11ea_a8bd_000d3a64a493row0_col0\" class=\"data row0 col0\" >M</td>\n",
       "                        <td id=\"T_b7bc2abe_1a56_11ea_a8bd_000d3a64a493row0_col1\" class=\"data row0 col1\" >2</td>\n",
       "                        <td id=\"T_b7bc2abe_1a56_11ea_a8bd_000d3a64a493row0_col2\" class=\"data row0 col2\" >Married</td>\n",
       "                        <td id=\"T_b7bc2abe_1a56_11ea_a8bd_000d3a64a493row0_col3\" class=\"data row0 col3\" >Yes</td>\n",
       "            </tr>\n",
       "            <tr>\n",
       "                        <th id=\"T_b7bc2abe_1a56_11ea_a8bd_000d3a64a493level0_row1\" class=\"row_heading level0 row1\" >1</th>\n",
       "                        <td id=\"T_b7bc2abe_1a56_11ea_a8bd_000d3a64a493row1_col0\" class=\"data row1 col0\" >F</td>\n",
       "                        <td id=\"T_b7bc2abe_1a56_11ea_a8bd_000d3a64a493row1_col1\" class=\"data row1 col1\" >2</td>\n",
       "                        <td id=\"T_b7bc2abe_1a56_11ea_a8bd_000d3a64a493row1_col2\" class=\"data row1 col2\" >Married</td>\n",
       "                        <td id=\"T_b7bc2abe_1a56_11ea_a8bd_000d3a64a493row1_col3\" class=\"data row1 col3\" >No</td>\n",
       "            </tr>\n",
       "            <tr>\n",
       "                        <th id=\"T_b7bc2abe_1a56_11ea_a8bd_000d3a64a493level0_row2\" class=\"row_heading level0 row2\" >2</th>\n",
       "                        <td id=\"T_b7bc2abe_1a56_11ea_a8bd_000d3a64a493row2_col0\" class=\"data row2 col0\" >F</td>\n",
       "                        <td id=\"T_b7bc2abe_1a56_11ea_a8bd_000d3a64a493row2_col1\" class=\"data row2 col1\" >2</td>\n",
       "                        <td id=\"T_b7bc2abe_1a56_11ea_a8bd_000d3a64a493row2_col2\" class=\"data row2 col2\" >Married</td>\n",
       "                        <td id=\"T_b7bc2abe_1a56_11ea_a8bd_000d3a64a493row2_col3\" class=\"data row2 col3\" >No</td>\n",
       "            </tr>\n",
       "    </tbody></table>"
      ],
      "text/plain": [
       "<pandas.io.formats.style.Styler at 0x14dd49ebb38>"
      ]
     },
     "metadata": {},
     "output_type": "display_data"
    }
   ],
   "source": [
    "# Decode character string columns \n",
    "\n",
    "objectcols = ['SEX', 'EDUCATION', 'MARRIAGE','DEFAULT']\n",
    "for i in objectcols:\n",
    "    traindf[i] = traindf[i].str.decode(encoding = 'UTF-8')\n",
    "display(traindf[['SEX', 'EDUCATION', 'MARRIAGE','DEFAULT']].head(3).style.set_table_styles(dfstyles).set_caption('Cleansed String Columns'))"
   ]
  },
  {
   "cell_type": "markdown",
   "metadata": {},
   "source": [
    "Based on the data description, the EDUCATION variable requires some cleansing.\n",
    "The numerical values were converted to a description of the education level to provide better interpretability later.\n",
    "As 4=others, 5=unknown, 6=unknown; these attribute values were grouped together as Others. There is also a category of 0 present in the data that was not present in the description, this was also set to Others.\n"
   ]
  },
  {
   "cell_type": "code",
   "execution_count": 6,
   "metadata": {},
   "outputs": [
    {
     "name": "stdout",
     "output_type": "stream",
     "text": [
      "Initial unique values in EDUCATION:  ['2' '3' '1' '0' '5' '4' '6']\n"
     ]
    }
   ],
   "source": [
    "print(\"Initial unique values in EDUCATION: \",traindf['EDUCATION'].unique())"
   ]
  },
  {
   "cell_type": "code",
   "execution_count": 7,
   "metadata": {},
   "outputs": [],
   "source": [
    "# Cleanse Eductation column with replace\n",
    "traindf['EDUCATION'] = traindf['EDUCATION'].replace('0','Others').replace('1','Graduate_School').replace('2','University')\\\n",
    "    .replace('3','High_School').replace('4','Others').replace('5','Others').replace('6','Others')"
   ]
  },
  {
   "cell_type": "code",
   "execution_count": 8,
   "metadata": {},
   "outputs": [
    {
     "name": "stdout",
     "output_type": "stream",
     "text": [
      "Post cleanse unique values in EDUCATION:  ['University' 'High_School' 'Graduate_School' 'Others']\n"
     ]
    }
   ],
   "source": [
    "# Check results\n",
    "print(\"Post cleanse unique values in EDUCATION: \",traindf['EDUCATION'].unique())"
   ]
  },
  {
   "cell_type": "markdown",
   "metadata": {},
   "source": [
    "Anything below 0 in the PAY_n columns is equivalent to 0; therefore any value less than 0 was set to 0."
   ]
  },
  {
   "cell_type": "code",
   "execution_count": 9,
   "metadata": {},
   "outputs": [],
   "source": [
    "# Create list of parameter groups\n",
    "paylist = ['PAY_0', 'PAY_2','PAY_3', 'PAY_4', 'PAY_5', 'PAY_6']\n",
    "\n",
    "# Cleanse paylist\n",
    "for p in paylist:\n",
    "    traindf[p] = traindf[p].apply(c.cleanseltzero)"
   ]
  },
  {
   "cell_type": "markdown",
   "metadata": {},
   "source": [
    "### Exploration"
   ]
  },
  {
   "cell_type": "markdown",
   "metadata": {},
   "source": [
    "#### Class Imbalance"
   ]
  },
  {
   "cell_type": "code",
   "execution_count": 10,
   "metadata": {
    "scrolled": false
   },
   "outputs": [
    {
     "data": {
      "image/png": "[encoded data removed]",
      "text/plain": [
       "<Figure size 432x288 with 1 Axes>"
      ]
     },
     "metadata": {
      "needs_background": "light"
     },
     "output_type": "display_data"
    },
    {
     "name": "stdout",
     "output_type": "stream",
     "text": [
      "Percentage of Defaults:  22.06 %\n"
     ]
    }
   ],
   "source": [
    "ax = sns.countplot(x=\"DEFAULT\", data=traindf).set_title('Default Frequency', size = 14)\n",
    "plt.show()\n",
    "traindf['DEFAULT_NUM'] = traindf['DEFAULT'].replace('Yes',1).replace('No',0)\n",
    "print(\"Percentage of Defaults: \",sum(traindf['DEFAULT_NUM']) / len(traindf['DEFAULT_NUM']) * 100,'%')"
   ]
  },
  {
   "cell_type": "markdown",
   "metadata": {},
   "source": [
    "#### Demographic Analysis"
   ]
  },
  {
   "cell_type": "code",
   "execution_count": 11,
   "metadata": {
    "scrolled": false
   },
   "outputs": [
    {
     "data": {
      "image/png": "[encoded data removed]",
      "text/plain": [
       "<Figure size 1008x360 with 1 Axes>"
      ]
     },
     "metadata": {
      "needs_background": "light"
     },
     "output_type": "display_data"
    },
    {
     "data": {
      "image/png": "[encoded data removed]",
      "text/plain": [
       "<Figure size 1008x360 with 1 Axes>"
      ]
     },
     "metadata": {
      "needs_background": "light"
     },
     "output_type": "display_data"
    },
    {
     "data": {
      "image/png": "[encoded data removed]",
      "text/plain": [
       "<Figure size 1008x360 with 1 Axes>"
      ]
     },
     "metadata": {
      "needs_background": "light"
     },
     "output_type": "display_data"
    },
    {
     "data": {
      "image/png": "[encoded data removed]",
      "text/plain": [
       "<Figure size 1008x360 with 3 Axes>"
      ]
     },
     "metadata": {
      "needs_background": "light"
     },
     "output_type": "display_data"
    }
   ],
   "source": [
    "plt.rcParams['figure.figsize'] = [14.0, 5.0]\n",
    "ax = sns.boxplot(y='AGE', x=\"MARRIAGE\",hue=\"SEX\" ,data=traindf, palette=\"Set2\", showfliers=False).set_title(\"Box Plot: Marriage, Age and Sex\", size=14)\n",
    "plt.show()\n",
    "\n",
    "ax = sns.boxplot(y='AGE', x=\"MARRIAGE\",hue=\"EDUCATION\" ,data=traindf, palette=\"Set2\",showfliers=False).set_title(\"Box Plot: Marriage, Age and Education\", size=14)\n",
    "plt.show()\n",
    "\n",
    "ax = sns.boxplot(y='LIMIT_BAL', x=\"MARRIAGE\",hue=\"EDUCATION\" ,data=traindf, palette=\"Set2\",showfliers=False).set_title(\"Box Plot: Marriage, Education and Balance Limit\", size=14)\n",
    "plt.show()\n",
    "\n",
    "fig, axes = plt.subplots(1, 3, sharey=True)\n",
    "axes = axes.flatten()\n",
    "fig.suptitle('Stacked bar charts: Education and Marriage with relation to Default', size =14)\n",
    "\n",
    "stable=pd.crosstab(traindf.SEX,traindf.DEFAULT)\n",
    "stable.div(stable.sum(1).astype(float), axis=0).plot(kind='bar', stacked=True, ax = axes[0], legend=False)\n",
    "plt.xlabel('SEX')\n",
    "axes[0].set_xticklabels(axes[0].get_xticklabels(),rotation=0, horizontalalignment='right')\n",
    "\n",
    "etable=pd.crosstab(traindf.EDUCATION,traindf.DEFAULT)\n",
    "etable.div(etable.sum(1).astype(float), axis=0).plot(kind='bar', stacked=True, ax = axes[1], legend=False)\n",
    "plt.xlabel('EDUCATION')\n",
    "axes[1].set_xticklabels(axes[1].get_xticklabels(),rotation=45, horizontalalignment='right')\n",
    "\n",
    "mtable=pd.crosstab(traindf.MARRIAGE,traindf.DEFAULT)\n",
    "mtable.div(mtable.sum(1).astype(float), axis=0).plot(kind='bar', stacked=True, ax = axes[2], legend=False)\n",
    "plt.xlabel('MARRIAGE')\n",
    "axes[2].set_xticklabels(axes[2].get_xticklabels(),rotation=45, horizontalalignment='right')\n",
    "fig.legend(stable,loc = 5)\n",
    "fig.text(0.08, 0.5, 'Default', va='center', rotation='vertical', size=14)\n",
    "plt.show()"
   ]
  },
  {
   "cell_type": "markdown",
   "metadata": {},
   "source": [
    "Sex and Marriage are nominal variables and Education is ordinal.\n",
    "One can see from the above, that Sex does not appear to be a good predictor of whether a person will default, but Education, and Marriage do seem to have some importance."
   ]
  },
  {
   "cell_type": "markdown",
   "metadata": {},
   "source": [
    "#### Correlation"
   ]
  },
  {
   "cell_type": "code",
   "execution_count": 12,
   "metadata": {
    "scrolled": false
   },
   "outputs": [
    {
     "data": {
      "text/html": [
       "<style  type=\"text/css\" >\n",
       "    #T_b9121de8_1a56_11ea_8e87_000d3a64a493 caption {\n",
       "          font-size: 120%;\n",
       "          color: black;\n",
       "          text-align: center;\n",
       "    }</style><table id=\"T_b9121de8_1a56_11ea_8e87_000d3a64a493\" ><caption>Mean of numerical variables in relation to default</caption><thead>    <tr>        <th class=\"blank level0\" ></th>        <th class=\"col_heading level0 col0\" >LIMIT_BAL</th>        <th class=\"col_heading level0 col1\" >AGE</th>        <th class=\"col_heading level0 col2\" >PAY_0</th>        <th class=\"col_heading level0 col3\" >PAY_2</th>        <th class=\"col_heading level0 col4\" >PAY_3</th>        <th class=\"col_heading level0 col5\" >PAY_4</th>        <th class=\"col_heading level0 col6\" >PAY_5</th>        <th class=\"col_heading level0 col7\" >PAY_6</th>        <th class=\"col_heading level0 col8\" >BILL_AMT1</th>        <th class=\"col_heading level0 col9\" >BILL_AMT2</th>        <th class=\"col_heading level0 col10\" >BILL_AMT3</th>        <th class=\"col_heading level0 col11\" >BILL_AMT4</th>        <th class=\"col_heading level0 col12\" >BILL_AMT5</th>        <th class=\"col_heading level0 col13\" >BILL_AMT6</th>        <th class=\"col_heading level0 col14\" >PAY_AMT1</th>        <th class=\"col_heading level0 col15\" >PAY_AMT2</th>        <th class=\"col_heading level0 col16\" >PAY_AMT3</th>        <th class=\"col_heading level0 col17\" >PAY_AMT4</th>        <th class=\"col_heading level0 col18\" >PAY_AMT5</th>        <th class=\"col_heading level0 col19\" >PAY_AMT6</th>        <th class=\"col_heading level0 col20\" >DEFAULT_NUM</th>    </tr>    <tr>        <th class=\"index_name level0\" >DEFAULT</th>        <th class=\"blank\" ></th>        <th class=\"blank\" ></th>        <th class=\"blank\" ></th>        <th class=\"blank\" ></th>        <th class=\"blank\" ></th>        <th class=\"blank\" ></th>        <th class=\"blank\" ></th>        <th class=\"blank\" ></th>        <th class=\"blank\" ></th>        <th class=\"blank\" ></th>        <th class=\"blank\" ></th>        <th class=\"blank\" ></th>        <th class=\"blank\" ></th>        <th class=\"blank\" ></th>        <th class=\"blank\" ></th>        <th class=\"blank\" ></th>        <th class=\"blank\" ></th>        <th class=\"blank\" ></th>        <th class=\"blank\" ></th>        <th class=\"blank\" ></th>        <th class=\"blank\" ></th>    </tr></thead><tbody>\n",
       "                <tr>\n",
       "                        <th id=\"T_b9121de8_1a56_11ea_8e87_000d3a64a493level0_row0\" class=\"row_heading level0 row0\" >No</th>\n",
       "                        <td id=\"T_b9121de8_1a56_11ea_8e87_000d3a64a493row0_col0\" class=\"data row0 col0\" >177897</td>\n",
       "                        <td id=\"T_b9121de8_1a56_11ea_8e87_000d3a64a493row0_col1\" class=\"data row0 col1\" >35.3831</td>\n",
       "                        <td id=\"T_b9121de8_1a56_11ea_8e87_000d3a64a493row0_col2\" class=\"data row0 col2\" >0.194047</td>\n",
       "                        <td id=\"T_b9121de8_1a56_11ea_8e87_000d3a64a493row0_col3\" class=\"data row0 col3\" >0.177726</td>\n",
       "                        <td id=\"T_b9121de8_1a56_11ea_8e87_000d3a64a493row0_col4\" class=\"data row0 col4\" >0.182448</td>\n",
       "                        <td id=\"T_b9121de8_1a56_11ea_8e87_000d3a64a493row0_col5\" class=\"data row0 col5\" >0.148781</td>\n",
       "                        <td id=\"T_b9121de8_1a56_11ea_8e87_000d3a64a493row0_col6\" class=\"data row0 col6\" >0.121324</td>\n",
       "                        <td id=\"T_b9121de8_1a56_11ea_8e87_000d3a64a493row0_col7\" class=\"data row0 col7\" >0.133333</td>\n",
       "                        <td id=\"T_b9121de8_1a56_11ea_8e87_000d3a64a493row0_col8\" class=\"data row0 col8\" >51802.6</td>\n",
       "                        <td id=\"T_b9121de8_1a56_11ea_8e87_000d3a64a493row0_col9\" class=\"data row0 col9\" >49536.3</td>\n",
       "                        <td id=\"T_b9121de8_1a56_11ea_8e87_000d3a64a493row0_col10\" class=\"data row0 col10\" >47479.9</td>\n",
       "                        <td id=\"T_b9121de8_1a56_11ea_8e87_000d3a64a493row0_col11\" class=\"data row0 col11\" >43373.7</td>\n",
       "                        <td id=\"T_b9121de8_1a56_11ea_8e87_000d3a64a493row0_col12\" class=\"data row0 col12\" >40457.7</td>\n",
       "                        <td id=\"T_b9121de8_1a56_11ea_8e87_000d3a64a493row0_col13\" class=\"data row0 col13\" >38876.3</td>\n",
       "                        <td id=\"T_b9121de8_1a56_11ea_8e87_000d3a64a493row0_col14\" class=\"data row0 col14\" >6271.78</td>\n",
       "                        <td id=\"T_b9121de8_1a56_11ea_8e87_000d3a64a493row0_col15\" class=\"data row0 col15\" >6690.66</td>\n",
       "                        <td id=\"T_b9121de8_1a56_11ea_8e87_000d3a64a493row0_col16\" class=\"data row0 col16\" >5676.3</td>\n",
       "                        <td id=\"T_b9121de8_1a56_11ea_8e87_000d3a64a493row0_col17\" class=\"data row0 col17\" >5393.51</td>\n",
       "                        <td id=\"T_b9121de8_1a56_11ea_8e87_000d3a64a493row0_col18\" class=\"data row0 col18\" >5165.3</td>\n",
       "                        <td id=\"T_b9121de8_1a56_11ea_8e87_000d3a64a493row0_col19\" class=\"data row0 col19\" >5750.73</td>\n",
       "                        <td id=\"T_b9121de8_1a56_11ea_8e87_000d3a64a493row0_col20\" class=\"data row0 col20\" >0</td>\n",
       "            </tr>\n",
       "            <tr>\n",
       "                        <th id=\"T_b9121de8_1a56_11ea_8e87_000d3a64a493level0_row1\" class=\"row_heading level0 row1\" >Yes</th>\n",
       "                        <td id=\"T_b9121de8_1a56_11ea_8e87_000d3a64a493row1_col0\" class=\"data row1 col0\" >131170</td>\n",
       "                        <td id=\"T_b9121de8_1a56_11ea_8e87_000d3a64a493row1_col1\" class=\"data row1 col1\" >35.7917</td>\n",
       "                        <td id=\"T_b9121de8_1a56_11ea_8e87_000d3a64a493row1_col2\" class=\"data row1 col2\" >0.928015</td>\n",
       "                        <td id=\"T_b9121de8_1a56_11ea_8e87_000d3a64a493row1_col3\" class=\"data row1 col3\" >0.81505</td>\n",
       "                        <td id=\"T_b9121de8_1a56_11ea_8e87_000d3a64a493row1_col4\" class=\"data row1 col4\" >0.725113</td>\n",
       "                        <td id=\"T_b9121de8_1a56_11ea_8e87_000d3a64a493row1_col5\" class=\"data row1 col5\" >0.640798</td>\n",
       "                        <td id=\"T_b9121de8_1a56_11ea_8e87_000d3a64a493row1_col6\" class=\"data row1 col6\" >0.574615</td>\n",
       "                        <td id=\"T_b9121de8_1a56_11ea_8e87_000d3a64a493row1_col7\" class=\"data row1 col7\" >0.553762</td>\n",
       "                        <td id=\"T_b9121de8_1a56_11ea_8e87_000d3a64a493row1_col8\" class=\"data row1 col8\" >48815.4</td>\n",
       "                        <td id=\"T_b9121de8_1a56_11ea_8e87_000d3a64a493row1_col9\" class=\"data row1 col9\" >47527.3</td>\n",
       "                        <td id=\"T_b9121de8_1a56_11ea_8e87_000d3a64a493row1_col10\" class=\"data row1 col10\" >45397.9</td>\n",
       "                        <td id=\"T_b9121de8_1a56_11ea_8e87_000d3a64a493row1_col11\" class=\"data row1 col11\" >42366.6</td>\n",
       "                        <td id=\"T_b9121de8_1a56_11ea_8e87_000d3a64a493row1_col12\" class=\"data row1 col12\" >39774.2</td>\n",
       "                        <td id=\"T_b9121de8_1a56_11ea_8e87_000d3a64a493row1_col13\" class=\"data row1 col13\" >38508.3</td>\n",
       "                        <td id=\"T_b9121de8_1a56_11ea_8e87_000d3a64a493row1_col14\" class=\"data row1 col14\" >3390.38</td>\n",
       "                        <td id=\"T_b9121de8_1a56_11ea_8e87_000d3a64a493row1_col15\" class=\"data row1 col15\" >3413.87</td>\n",
       "                        <td id=\"T_b9121de8_1a56_11ea_8e87_000d3a64a493row1_col16\" class=\"data row1 col16\" >3479.44</td>\n",
       "                        <td id=\"T_b9121de8_1a56_11ea_8e87_000d3a64a493row1_col17\" class=\"data row1 col17\" >3121.85</td>\n",
       "                        <td id=\"T_b9121de8_1a56_11ea_8e87_000d3a64a493row1_col18\" class=\"data row1 col18\" >3299.47</td>\n",
       "                        <td id=\"T_b9121de8_1a56_11ea_8e87_000d3a64a493row1_col19\" class=\"data row1 col19\" >3477.21</td>\n",
       "                        <td id=\"T_b9121de8_1a56_11ea_8e87_000d3a64a493row1_col20\" class=\"data row1 col20\" >1</td>\n",
       "            </tr>\n",
       "    </tbody></table>"
      ],
      "text/plain": [
       "<pandas.io.formats.style.Styler at 0x14dd579ad68>"
      ]
     },
     "metadata": {},
     "output_type": "display_data"
    }
   ],
   "source": [
    "display(traindf.groupby('DEFAULT').mean().style.set_table_styles(dfstyles).\\\n",
    "        set_caption('Mean of numerical variables in relation to default'))"
   ]
  },
  {
   "cell_type": "code",
   "execution_count": 13,
   "metadata": {
    "scrolled": false
   },
   "outputs": [
    {
     "data": {
      "image/png": "[encoded data removed]",
      "text/plain": [
       "<Figure size 936x936 with 2 Axes>"
      ]
     },
     "metadata": {
      "needs_background": "light"
     },
     "output_type": "display_data"
    }
   ],
   "source": [
    "plt.rcParams['figure.figsize'] = [13.0, 13.0]\n",
    "# Correlation plot for Numerical variables\n",
    "ax = sns.heatmap(\n",
    "    traindf.corr(), \n",
    "    vmin=-1, vmax=1, center=0,\n",
    "    cmap=sns.diverging_palette(20, 220, n=200),\n",
    "    square=True,\n",
    "    linewidths=0.5 , cbar_kws={\"shrink\": 0.5}\n",
    ")\n",
    "\n",
    "ax.set_title(\"Correlation Plot\",size= 14)\n",
    "\n",
    "ax.set_xticklabels(\n",
    "    ax.get_xticklabels(),\n",
    "    rotation=45,\n",
    "    horizontalalignment='right'\n",
    ")\n",
    "plt.show()"
   ]
  },
  {
   "cell_type": "code",
   "execution_count": 14,
   "metadata": {},
   "outputs": [
    {
     "data": {
      "image/png": "[encoded data removed]",
      "text/plain": [
       "<Figure size 1008x576 with 1 Axes>"
      ]
     },
     "metadata": {
      "needs_background": "light"
     },
     "output_type": "display_data"
    }
   ],
   "source": [
    "NoDefault = traindf[traindf['DEFAULT_NUM'] == 0][\"LIMIT_BAL\"]\n",
    "Default = traindf[traindf['DEFAULT_NUM'] == 1][\"LIMIT_BAL\"]\n",
    "plt.rcParams['figure.figsize'] = [14,8]\n",
    "plt.title('Distribution: Limit Balance with relation to Default', size=14)\n",
    "sns.distplot(NoDefault,kde=True,bins=50, color=\"blue\", kde_kws={\"label\": \"Default = False\"}, hist=False)\n",
    "sns.distplot(Default,kde=True,bins=50, color=\"red\",kde_kws={\"label\": \"Default = True\"})\n",
    "plt.show()"
   ]
  },
  {
   "cell_type": "markdown",
   "metadata": {},
   "source": [
    "### Preprocessing for modelling"
   ]
  },
  {
   "cell_type": "markdown",
   "metadata": {},
   "source": [
    "#### One Hot Encoding\n",
    "Machine learning algorithms cannot work with categorical variables directly; the one hot encoding method was employed to convert categorical data to a binary attribute for each category."
   ]
  },
  {
   "cell_type": "code",
   "execution_count": 15,
   "metadata": {},
   "outputs": [],
   "source": [
    "# Create dummy varibles from the categorical observations\n",
    "catlist = ['SEX', 'EDUCATION', 'MARRIAGE']\n",
    "dummylist = catlist\n",
    "traindf_prepared = pd.get_dummies(data=traindf, columns=dummylist)"
   ]
  },
  {
   "cell_type": "markdown",
   "metadata": {},
   "source": [
    "#### Scaling"
   ]
  },
  {
   "cell_type": "code",
   "execution_count": 16,
   "metadata": {},
   "outputs": [],
   "source": [
    "scalelist = ['PAY_0','PAY_2','PAY_3','PAY_4','PAY_5', 'PAY_6','LIMIT_BAL', 'AGE','BILL_AMT1', 'BILL_AMT2', 'BILL_AMT3', 'BILL_AMT4', 'BILL_AMT5', 'BILL_AMT6', 'PAY_AMT1', 'PAY_AMT2', 'PAY_AMT3', 'PAY_AMT4', 'PAY_AMT5', 'PAY_AMT6']\n",
    "newcols = list([x+'_scaled' for x in scalelist])\n",
    "scaler = MinMaxScaler()\n",
    "traindf_prepared[newcols] = pd.DataFrame(scaler.fit_transform(traindf_prepared[scalelist]),columns=newcols)"
   ]
  },
  {
   "cell_type": "code",
   "execution_count": 17,
   "metadata": {
    "scrolled": true
   },
   "outputs": [
    {
     "name": "stdout",
     "output_type": "stream",
     "text": [
      "Training Shape: X = (17500, 30) y = (17500,)\n",
      "Validation Shape: X = (7500, 30) y = (7500,)\n"
     ]
    }
   ],
   "source": [
    "# Independent columns\n",
    "X = traindf_prepared.drop(scalelist, axis=1) # Drop the prescaled columns\n",
    "X = X.drop(['DEFAULT', 'DEFAULT_NUM'], axis=1) # Drop the target variables\n",
    "\n",
    "# Target column\n",
    "y = traindf_prepared['DEFAULT_NUM'].astype(int)\n",
    "\n",
    "# Split Data into training and test\n",
    "X_train, X_test, y_train, y_test = train_test_split(X, y, test_size=0.3, random_state = randomstate)\n",
    "print(\"Training Shape: X =\", X_train.shape, \"y =\", y_train.shape)\n",
    "print(\"Validation Shape: X =\", X_test.shape, \"y =\",y_test.shape)"
   ]
  },
  {
   "cell_type": "code",
   "execution_count": 18,
   "metadata": {},
   "outputs": [
    {
     "data": {
      "text/html": [
       "<style  type=\"text/css\" >\n",
       "    #T_ba7d46ee_1a56_11ea_804d_000d3a64a493 caption {\n",
       "          font-size: 120%;\n",
       "          color: black;\n",
       "          text-align: center;\n",
       "    }</style><table id=\"T_ba7d46ee_1a56_11ea_804d_000d3a64a493\" ><caption>Data profile: Independent Columns</caption><thead>    <tr>        <th class=\"blank level0\" ></th>        <th class=\"col_heading level0 col0\" >Column</th>        <th class=\"col_heading level0 col1\" >Max Length Value</th>        <th class=\"col_heading level0 col2\" >Max Length</th>        <th class=\"col_heading level0 col3\" >Min Length Value</th>        <th class=\"col_heading level0 col4\" >Min Length</th>        <th class=\"col_heading level0 col5\" >Null #</th>        <th class=\"col_heading level0 col6\" >Null %</th>        <th class=\"col_heading level0 col7\" >Data Type</th>        <th class=\"col_heading level0 col8\" >Unique Values</th>        <th class=\"col_heading level0 col9\" >Row Count</th>        <th class=\"col_heading level0 col10\" >Mean</th>        <th class=\"col_heading level0 col11\" >Max</th>        <th class=\"col_heading level0 col12\" >Min</th>    </tr></thead><tbody>\n",
       "                <tr>\n",
       "                        <th id=\"T_ba7d46ee_1a56_11ea_804d_000d3a64a493level0_row0\" class=\"row_heading level0 row0\" >0</th>\n",
       "                        <td id=\"T_ba7d46ee_1a56_11ea_804d_000d3a64a493row0_col0\" class=\"data row0 col0\" >SEX_F</td>\n",
       "                        <td id=\"T_ba7d46ee_1a56_11ea_804d_000d3a64a493row0_col1\" class=\"data row0 col1\" >0</td>\n",
       "                        <td id=\"T_ba7d46ee_1a56_11ea_804d_000d3a64a493row0_col2\" class=\"data row0 col2\" >1</td>\n",
       "                        <td id=\"T_ba7d46ee_1a56_11ea_804d_000d3a64a493row0_col3\" class=\"data row0 col3\" >0</td>\n",
       "                        <td id=\"T_ba7d46ee_1a56_11ea_804d_000d3a64a493row0_col4\" class=\"data row0 col4\" >1</td>\n",
       "                        <td id=\"T_ba7d46ee_1a56_11ea_804d_000d3a64a493row0_col5\" class=\"data row0 col5\" >0</td>\n",
       "                        <td id=\"T_ba7d46ee_1a56_11ea_804d_000d3a64a493row0_col6\" class=\"data row0 col6\" >0</td>\n",
       "                        <td id=\"T_ba7d46ee_1a56_11ea_804d_000d3a64a493row0_col7\" class=\"data row0 col7\" >uint8</td>\n",
       "                        <td id=\"T_ba7d46ee_1a56_11ea_804d_000d3a64a493row0_col8\" class=\"data row0 col8\" >2</td>\n",
       "                        <td id=\"T_ba7d46ee_1a56_11ea_804d_000d3a64a493row0_col9\" class=\"data row0 col9\" >25000</td>\n",
       "                        <td id=\"T_ba7d46ee_1a56_11ea_804d_000d3a64a493row0_col10\" class=\"data row0 col10\" >0.60356</td>\n",
       "                        <td id=\"T_ba7d46ee_1a56_11ea_804d_000d3a64a493row0_col11\" class=\"data row0 col11\" >1</td>\n",
       "                        <td id=\"T_ba7d46ee_1a56_11ea_804d_000d3a64a493row0_col12\" class=\"data row0 col12\" >0</td>\n",
       "            </tr>\n",
       "            <tr>\n",
       "                        <th id=\"T_ba7d46ee_1a56_11ea_804d_000d3a64a493level0_row1\" class=\"row_heading level0 row1\" >1</th>\n",
       "                        <td id=\"T_ba7d46ee_1a56_11ea_804d_000d3a64a493row1_col0\" class=\"data row1 col0\" >SEX_M</td>\n",
       "                        <td id=\"T_ba7d46ee_1a56_11ea_804d_000d3a64a493row1_col1\" class=\"data row1 col1\" >1</td>\n",
       "                        <td id=\"T_ba7d46ee_1a56_11ea_804d_000d3a64a493row1_col2\" class=\"data row1 col2\" >1</td>\n",
       "                        <td id=\"T_ba7d46ee_1a56_11ea_804d_000d3a64a493row1_col3\" class=\"data row1 col3\" >1</td>\n",
       "                        <td id=\"T_ba7d46ee_1a56_11ea_804d_000d3a64a493row1_col4\" class=\"data row1 col4\" >1</td>\n",
       "                        <td id=\"T_ba7d46ee_1a56_11ea_804d_000d3a64a493row1_col5\" class=\"data row1 col5\" >0</td>\n",
       "                        <td id=\"T_ba7d46ee_1a56_11ea_804d_000d3a64a493row1_col6\" class=\"data row1 col6\" >0</td>\n",
       "                        <td id=\"T_ba7d46ee_1a56_11ea_804d_000d3a64a493row1_col7\" class=\"data row1 col7\" >uint8</td>\n",
       "                        <td id=\"T_ba7d46ee_1a56_11ea_804d_000d3a64a493row1_col8\" class=\"data row1 col8\" >2</td>\n",
       "                        <td id=\"T_ba7d46ee_1a56_11ea_804d_000d3a64a493row1_col9\" class=\"data row1 col9\" >25000</td>\n",
       "                        <td id=\"T_ba7d46ee_1a56_11ea_804d_000d3a64a493row1_col10\" class=\"data row1 col10\" >0.39644</td>\n",
       "                        <td id=\"T_ba7d46ee_1a56_11ea_804d_000d3a64a493row1_col11\" class=\"data row1 col11\" >1</td>\n",
       "                        <td id=\"T_ba7d46ee_1a56_11ea_804d_000d3a64a493row1_col12\" class=\"data row1 col12\" >0</td>\n",
       "            </tr>\n",
       "            <tr>\n",
       "                        <th id=\"T_ba7d46ee_1a56_11ea_804d_000d3a64a493level0_row2\" class=\"row_heading level0 row2\" >2</th>\n",
       "                        <td id=\"T_ba7d46ee_1a56_11ea_804d_000d3a64a493row2_col0\" class=\"data row2 col0\" >EDUCATION_Graduate_School</td>\n",
       "                        <td id=\"T_ba7d46ee_1a56_11ea_804d_000d3a64a493row2_col1\" class=\"data row2 col1\" >0</td>\n",
       "                        <td id=\"T_ba7d46ee_1a56_11ea_804d_000d3a64a493row2_col2\" class=\"data row2 col2\" >1</td>\n",
       "                        <td id=\"T_ba7d46ee_1a56_11ea_804d_000d3a64a493row2_col3\" class=\"data row2 col3\" >0</td>\n",
       "                        <td id=\"T_ba7d46ee_1a56_11ea_804d_000d3a64a493row2_col4\" class=\"data row2 col4\" >1</td>\n",
       "                        <td id=\"T_ba7d46ee_1a56_11ea_804d_000d3a64a493row2_col5\" class=\"data row2 col5\" >0</td>\n",
       "                        <td id=\"T_ba7d46ee_1a56_11ea_804d_000d3a64a493row2_col6\" class=\"data row2 col6\" >0</td>\n",
       "                        <td id=\"T_ba7d46ee_1a56_11ea_804d_000d3a64a493row2_col7\" class=\"data row2 col7\" >uint8</td>\n",
       "                        <td id=\"T_ba7d46ee_1a56_11ea_804d_000d3a64a493row2_col8\" class=\"data row2 col8\" >2</td>\n",
       "                        <td id=\"T_ba7d46ee_1a56_11ea_804d_000d3a64a493row2_col9\" class=\"data row2 col9\" >25000</td>\n",
       "                        <td id=\"T_ba7d46ee_1a56_11ea_804d_000d3a64a493row2_col10\" class=\"data row2 col10\" >0.3516</td>\n",
       "                        <td id=\"T_ba7d46ee_1a56_11ea_804d_000d3a64a493row2_col11\" class=\"data row2 col11\" >1</td>\n",
       "                        <td id=\"T_ba7d46ee_1a56_11ea_804d_000d3a64a493row2_col12\" class=\"data row2 col12\" >0</td>\n",
       "            </tr>\n",
       "            <tr>\n",
       "                        <th id=\"T_ba7d46ee_1a56_11ea_804d_000d3a64a493level0_row3\" class=\"row_heading level0 row3\" >3</th>\n",
       "                        <td id=\"T_ba7d46ee_1a56_11ea_804d_000d3a64a493row3_col0\" class=\"data row3 col0\" >EDUCATION_High_School</td>\n",
       "                        <td id=\"T_ba7d46ee_1a56_11ea_804d_000d3a64a493row3_col1\" class=\"data row3 col1\" >0</td>\n",
       "                        <td id=\"T_ba7d46ee_1a56_11ea_804d_000d3a64a493row3_col2\" class=\"data row3 col2\" >1</td>\n",
       "                        <td id=\"T_ba7d46ee_1a56_11ea_804d_000d3a64a493row3_col3\" class=\"data row3 col3\" >0</td>\n",
       "                        <td id=\"T_ba7d46ee_1a56_11ea_804d_000d3a64a493row3_col4\" class=\"data row3 col4\" >1</td>\n",
       "                        <td id=\"T_ba7d46ee_1a56_11ea_804d_000d3a64a493row3_col5\" class=\"data row3 col5\" >0</td>\n",
       "                        <td id=\"T_ba7d46ee_1a56_11ea_804d_000d3a64a493row3_col6\" class=\"data row3 col6\" >0</td>\n",
       "                        <td id=\"T_ba7d46ee_1a56_11ea_804d_000d3a64a493row3_col7\" class=\"data row3 col7\" >uint8</td>\n",
       "                        <td id=\"T_ba7d46ee_1a56_11ea_804d_000d3a64a493row3_col8\" class=\"data row3 col8\" >2</td>\n",
       "                        <td id=\"T_ba7d46ee_1a56_11ea_804d_000d3a64a493row3_col9\" class=\"data row3 col9\" >25000</td>\n",
       "                        <td id=\"T_ba7d46ee_1a56_11ea_804d_000d3a64a493row3_col10\" class=\"data row3 col10\" >0.16412</td>\n",
       "                        <td id=\"T_ba7d46ee_1a56_11ea_804d_000d3a64a493row3_col11\" class=\"data row3 col11\" >1</td>\n",
       "                        <td id=\"T_ba7d46ee_1a56_11ea_804d_000d3a64a493row3_col12\" class=\"data row3 col12\" >0</td>\n",
       "            </tr>\n",
       "            <tr>\n",
       "                        <th id=\"T_ba7d46ee_1a56_11ea_804d_000d3a64a493level0_row4\" class=\"row_heading level0 row4\" >4</th>\n",
       "                        <td id=\"T_ba7d46ee_1a56_11ea_804d_000d3a64a493row4_col0\" class=\"data row4 col0\" >EDUCATION_Others</td>\n",
       "                        <td id=\"T_ba7d46ee_1a56_11ea_804d_000d3a64a493row4_col1\" class=\"data row4 col1\" >0</td>\n",
       "                        <td id=\"T_ba7d46ee_1a56_11ea_804d_000d3a64a493row4_col2\" class=\"data row4 col2\" >1</td>\n",
       "                        <td id=\"T_ba7d46ee_1a56_11ea_804d_000d3a64a493row4_col3\" class=\"data row4 col3\" >0</td>\n",
       "                        <td id=\"T_ba7d46ee_1a56_11ea_804d_000d3a64a493row4_col4\" class=\"data row4 col4\" >1</td>\n",
       "                        <td id=\"T_ba7d46ee_1a56_11ea_804d_000d3a64a493row4_col5\" class=\"data row4 col5\" >0</td>\n",
       "                        <td id=\"T_ba7d46ee_1a56_11ea_804d_000d3a64a493row4_col6\" class=\"data row4 col6\" >0</td>\n",
       "                        <td id=\"T_ba7d46ee_1a56_11ea_804d_000d3a64a493row4_col7\" class=\"data row4 col7\" >uint8</td>\n",
       "                        <td id=\"T_ba7d46ee_1a56_11ea_804d_000d3a64a493row4_col8\" class=\"data row4 col8\" >2</td>\n",
       "                        <td id=\"T_ba7d46ee_1a56_11ea_804d_000d3a64a493row4_col9\" class=\"data row4 col9\" >25000</td>\n",
       "                        <td id=\"T_ba7d46ee_1a56_11ea_804d_000d3a64a493row4_col10\" class=\"data row4 col10\" >0.01584</td>\n",
       "                        <td id=\"T_ba7d46ee_1a56_11ea_804d_000d3a64a493row4_col11\" class=\"data row4 col11\" >1</td>\n",
       "                        <td id=\"T_ba7d46ee_1a56_11ea_804d_000d3a64a493row4_col12\" class=\"data row4 col12\" >0</td>\n",
       "            </tr>\n",
       "            <tr>\n",
       "                        <th id=\"T_ba7d46ee_1a56_11ea_804d_000d3a64a493level0_row5\" class=\"row_heading level0 row5\" >5</th>\n",
       "                        <td id=\"T_ba7d46ee_1a56_11ea_804d_000d3a64a493row5_col0\" class=\"data row5 col0\" >EDUCATION_University</td>\n",
       "                        <td id=\"T_ba7d46ee_1a56_11ea_804d_000d3a64a493row5_col1\" class=\"data row5 col1\" >1</td>\n",
       "                        <td id=\"T_ba7d46ee_1a56_11ea_804d_000d3a64a493row5_col2\" class=\"data row5 col2\" >1</td>\n",
       "                        <td id=\"T_ba7d46ee_1a56_11ea_804d_000d3a64a493row5_col3\" class=\"data row5 col3\" >1</td>\n",
       "                        <td id=\"T_ba7d46ee_1a56_11ea_804d_000d3a64a493row5_col4\" class=\"data row5 col4\" >1</td>\n",
       "                        <td id=\"T_ba7d46ee_1a56_11ea_804d_000d3a64a493row5_col5\" class=\"data row5 col5\" >0</td>\n",
       "                        <td id=\"T_ba7d46ee_1a56_11ea_804d_000d3a64a493row5_col6\" class=\"data row5 col6\" >0</td>\n",
       "                        <td id=\"T_ba7d46ee_1a56_11ea_804d_000d3a64a493row5_col7\" class=\"data row5 col7\" >uint8</td>\n",
       "                        <td id=\"T_ba7d46ee_1a56_11ea_804d_000d3a64a493row5_col8\" class=\"data row5 col8\" >2</td>\n",
       "                        <td id=\"T_ba7d46ee_1a56_11ea_804d_000d3a64a493row5_col9\" class=\"data row5 col9\" >25000</td>\n",
       "                        <td id=\"T_ba7d46ee_1a56_11ea_804d_000d3a64a493row5_col10\" class=\"data row5 col10\" >0.46844</td>\n",
       "                        <td id=\"T_ba7d46ee_1a56_11ea_804d_000d3a64a493row5_col11\" class=\"data row5 col11\" >1</td>\n",
       "                        <td id=\"T_ba7d46ee_1a56_11ea_804d_000d3a64a493row5_col12\" class=\"data row5 col12\" >0</td>\n",
       "            </tr>\n",
       "            <tr>\n",
       "                        <th id=\"T_ba7d46ee_1a56_11ea_804d_000d3a64a493level0_row6\" class=\"row_heading level0 row6\" >6</th>\n",
       "                        <td id=\"T_ba7d46ee_1a56_11ea_804d_000d3a64a493row6_col0\" class=\"data row6 col0\" >MARRIAGE_Divorced</td>\n",
       "                        <td id=\"T_ba7d46ee_1a56_11ea_804d_000d3a64a493row6_col1\" class=\"data row6 col1\" >0</td>\n",
       "                        <td id=\"T_ba7d46ee_1a56_11ea_804d_000d3a64a493row6_col2\" class=\"data row6 col2\" >1</td>\n",
       "                        <td id=\"T_ba7d46ee_1a56_11ea_804d_000d3a64a493row6_col3\" class=\"data row6 col3\" >0</td>\n",
       "                        <td id=\"T_ba7d46ee_1a56_11ea_804d_000d3a64a493row6_col4\" class=\"data row6 col4\" >1</td>\n",
       "                        <td id=\"T_ba7d46ee_1a56_11ea_804d_000d3a64a493row6_col5\" class=\"data row6 col5\" >0</td>\n",
       "                        <td id=\"T_ba7d46ee_1a56_11ea_804d_000d3a64a493row6_col6\" class=\"data row6 col6\" >0</td>\n",
       "                        <td id=\"T_ba7d46ee_1a56_11ea_804d_000d3a64a493row6_col7\" class=\"data row6 col7\" >uint8</td>\n",
       "                        <td id=\"T_ba7d46ee_1a56_11ea_804d_000d3a64a493row6_col8\" class=\"data row6 col8\" >2</td>\n",
       "                        <td id=\"T_ba7d46ee_1a56_11ea_804d_000d3a64a493row6_col9\" class=\"data row6 col9\" >25000</td>\n",
       "                        <td id=\"T_ba7d46ee_1a56_11ea_804d_000d3a64a493row6_col10\" class=\"data row6 col10\" >0.011</td>\n",
       "                        <td id=\"T_ba7d46ee_1a56_11ea_804d_000d3a64a493row6_col11\" class=\"data row6 col11\" >1</td>\n",
       "                        <td id=\"T_ba7d46ee_1a56_11ea_804d_000d3a64a493row6_col12\" class=\"data row6 col12\" >0</td>\n",
       "            </tr>\n",
       "            <tr>\n",
       "                        <th id=\"T_ba7d46ee_1a56_11ea_804d_000d3a64a493level0_row7\" class=\"row_heading level0 row7\" >7</th>\n",
       "                        <td id=\"T_ba7d46ee_1a56_11ea_804d_000d3a64a493row7_col0\" class=\"data row7 col0\" >MARRIAGE_Married</td>\n",
       "                        <td id=\"T_ba7d46ee_1a56_11ea_804d_000d3a64a493row7_col1\" class=\"data row7 col1\" >1</td>\n",
       "                        <td id=\"T_ba7d46ee_1a56_11ea_804d_000d3a64a493row7_col2\" class=\"data row7 col2\" >1</td>\n",
       "                        <td id=\"T_ba7d46ee_1a56_11ea_804d_000d3a64a493row7_col3\" class=\"data row7 col3\" >1</td>\n",
       "                        <td id=\"T_ba7d46ee_1a56_11ea_804d_000d3a64a493row7_col4\" class=\"data row7 col4\" >1</td>\n",
       "                        <td id=\"T_ba7d46ee_1a56_11ea_804d_000d3a64a493row7_col5\" class=\"data row7 col5\" >0</td>\n",
       "                        <td id=\"T_ba7d46ee_1a56_11ea_804d_000d3a64a493row7_col6\" class=\"data row7 col6\" >0</td>\n",
       "                        <td id=\"T_ba7d46ee_1a56_11ea_804d_000d3a64a493row7_col7\" class=\"data row7 col7\" >uint8</td>\n",
       "                        <td id=\"T_ba7d46ee_1a56_11ea_804d_000d3a64a493row7_col8\" class=\"data row7 col8\" >2</td>\n",
       "                        <td id=\"T_ba7d46ee_1a56_11ea_804d_000d3a64a493row7_col9\" class=\"data row7 col9\" >25000</td>\n",
       "                        <td id=\"T_ba7d46ee_1a56_11ea_804d_000d3a64a493row7_col10\" class=\"data row7 col10\" >0.45416</td>\n",
       "                        <td id=\"T_ba7d46ee_1a56_11ea_804d_000d3a64a493row7_col11\" class=\"data row7 col11\" >1</td>\n",
       "                        <td id=\"T_ba7d46ee_1a56_11ea_804d_000d3a64a493row7_col12\" class=\"data row7 col12\" >0</td>\n",
       "            </tr>\n",
       "            <tr>\n",
       "                        <th id=\"T_ba7d46ee_1a56_11ea_804d_000d3a64a493level0_row8\" class=\"row_heading level0 row8\" >8</th>\n",
       "                        <td id=\"T_ba7d46ee_1a56_11ea_804d_000d3a64a493row8_col0\" class=\"data row8 col0\" >MARRIAGE_Single</td>\n",
       "                        <td id=\"T_ba7d46ee_1a56_11ea_804d_000d3a64a493row8_col1\" class=\"data row8 col1\" >0</td>\n",
       "                        <td id=\"T_ba7d46ee_1a56_11ea_804d_000d3a64a493row8_col2\" class=\"data row8 col2\" >1</td>\n",
       "                        <td id=\"T_ba7d46ee_1a56_11ea_804d_000d3a64a493row8_col3\" class=\"data row8 col3\" >0</td>\n",
       "                        <td id=\"T_ba7d46ee_1a56_11ea_804d_000d3a64a493row8_col4\" class=\"data row8 col4\" >1</td>\n",
       "                        <td id=\"T_ba7d46ee_1a56_11ea_804d_000d3a64a493row8_col5\" class=\"data row8 col5\" >0</td>\n",
       "                        <td id=\"T_ba7d46ee_1a56_11ea_804d_000d3a64a493row8_col6\" class=\"data row8 col6\" >0</td>\n",
       "                        <td id=\"T_ba7d46ee_1a56_11ea_804d_000d3a64a493row8_col7\" class=\"data row8 col7\" >uint8</td>\n",
       "                        <td id=\"T_ba7d46ee_1a56_11ea_804d_000d3a64a493row8_col8\" class=\"data row8 col8\" >2</td>\n",
       "                        <td id=\"T_ba7d46ee_1a56_11ea_804d_000d3a64a493row8_col9\" class=\"data row8 col9\" >25000</td>\n",
       "                        <td id=\"T_ba7d46ee_1a56_11ea_804d_000d3a64a493row8_col10\" class=\"data row8 col10\" >0.53308</td>\n",
       "                        <td id=\"T_ba7d46ee_1a56_11ea_804d_000d3a64a493row8_col11\" class=\"data row8 col11\" >1</td>\n",
       "                        <td id=\"T_ba7d46ee_1a56_11ea_804d_000d3a64a493row8_col12\" class=\"data row8 col12\" >0</td>\n",
       "            </tr>\n",
       "            <tr>\n",
       "                        <th id=\"T_ba7d46ee_1a56_11ea_804d_000d3a64a493level0_row9\" class=\"row_heading level0 row9\" >9</th>\n",
       "                        <td id=\"T_ba7d46ee_1a56_11ea_804d_000d3a64a493row9_col0\" class=\"data row9 col0\" >MARRIAGE_Widowed</td>\n",
       "                        <td id=\"T_ba7d46ee_1a56_11ea_804d_000d3a64a493row9_col1\" class=\"data row9 col1\" >0</td>\n",
       "                        <td id=\"T_ba7d46ee_1a56_11ea_804d_000d3a64a493row9_col2\" class=\"data row9 col2\" >1</td>\n",
       "                        <td id=\"T_ba7d46ee_1a56_11ea_804d_000d3a64a493row9_col3\" class=\"data row9 col3\" >0</td>\n",
       "                        <td id=\"T_ba7d46ee_1a56_11ea_804d_000d3a64a493row9_col4\" class=\"data row9 col4\" >1</td>\n",
       "                        <td id=\"T_ba7d46ee_1a56_11ea_804d_000d3a64a493row9_col5\" class=\"data row9 col5\" >0</td>\n",
       "                        <td id=\"T_ba7d46ee_1a56_11ea_804d_000d3a64a493row9_col6\" class=\"data row9 col6\" >0</td>\n",
       "                        <td id=\"T_ba7d46ee_1a56_11ea_804d_000d3a64a493row9_col7\" class=\"data row9 col7\" >uint8</td>\n",
       "                        <td id=\"T_ba7d46ee_1a56_11ea_804d_000d3a64a493row9_col8\" class=\"data row9 col8\" >2</td>\n",
       "                        <td id=\"T_ba7d46ee_1a56_11ea_804d_000d3a64a493row9_col9\" class=\"data row9 col9\" >25000</td>\n",
       "                        <td id=\"T_ba7d46ee_1a56_11ea_804d_000d3a64a493row9_col10\" class=\"data row9 col10\" >0.00176</td>\n",
       "                        <td id=\"T_ba7d46ee_1a56_11ea_804d_000d3a64a493row9_col11\" class=\"data row9 col11\" >1</td>\n",
       "                        <td id=\"T_ba7d46ee_1a56_11ea_804d_000d3a64a493row9_col12\" class=\"data row9 col12\" >0</td>\n",
       "            </tr>\n",
       "            <tr>\n",
       "                        <th id=\"T_ba7d46ee_1a56_11ea_804d_000d3a64a493level0_row10\" class=\"row_heading level0 row10\" >10</th>\n",
       "                        <td id=\"T_ba7d46ee_1a56_11ea_804d_000d3a64a493row10_col0\" class=\"data row10 col0\" >PAY_0_scaled</td>\n",
       "                        <td id=\"T_ba7d46ee_1a56_11ea_804d_000d3a64a493row10_col1\" class=\"data row10 col1\" >0.125</td>\n",
       "                        <td id=\"T_ba7d46ee_1a56_11ea_804d_000d3a64a493row10_col2\" class=\"data row10 col2\" >5</td>\n",
       "                        <td id=\"T_ba7d46ee_1a56_11ea_804d_000d3a64a493row10_col3\" class=\"data row10 col3\" >0</td>\n",
       "                        <td id=\"T_ba7d46ee_1a56_11ea_804d_000d3a64a493row10_col4\" class=\"data row10 col4\" >3</td>\n",
       "                        <td id=\"T_ba7d46ee_1a56_11ea_804d_000d3a64a493row10_col5\" class=\"data row10 col5\" >0</td>\n",
       "                        <td id=\"T_ba7d46ee_1a56_11ea_804d_000d3a64a493row10_col6\" class=\"data row10 col6\" >0</td>\n",
       "                        <td id=\"T_ba7d46ee_1a56_11ea_804d_000d3a64a493row10_col7\" class=\"data row10 col7\" >float64</td>\n",
       "                        <td id=\"T_ba7d46ee_1a56_11ea_804d_000d3a64a493row10_col8\" class=\"data row10 col8\" >9</td>\n",
       "                        <td id=\"T_ba7d46ee_1a56_11ea_804d_000d3a64a493row10_col9\" class=\"data row10 col9\" >25000</td>\n",
       "                        <td id=\"T_ba7d46ee_1a56_11ea_804d_000d3a64a493row10_col10\" class=\"data row10 col10\" >0.044495</td>\n",
       "                        <td id=\"T_ba7d46ee_1a56_11ea_804d_000d3a64a493row10_col11\" class=\"data row10 col11\" >1</td>\n",
       "                        <td id=\"T_ba7d46ee_1a56_11ea_804d_000d3a64a493row10_col12\" class=\"data row10 col12\" >0</td>\n",
       "            </tr>\n",
       "            <tr>\n",
       "                        <th id=\"T_ba7d46ee_1a56_11ea_804d_000d3a64a493level0_row11\" class=\"row_heading level0 row11\" >11</th>\n",
       "                        <td id=\"T_ba7d46ee_1a56_11ea_804d_000d3a64a493row11_col0\" class=\"data row11 col0\" >PAY_2_scaled</td>\n",
       "                        <td id=\"T_ba7d46ee_1a56_11ea_804d_000d3a64a493row11_col1\" class=\"data row11 col1\" >0.625</td>\n",
       "                        <td id=\"T_ba7d46ee_1a56_11ea_804d_000d3a64a493row11_col2\" class=\"data row11 col2\" >5</td>\n",
       "                        <td id=\"T_ba7d46ee_1a56_11ea_804d_000d3a64a493row11_col3\" class=\"data row11 col3\" >0</td>\n",
       "                        <td id=\"T_ba7d46ee_1a56_11ea_804d_000d3a64a493row11_col4\" class=\"data row11 col4\" >3</td>\n",
       "                        <td id=\"T_ba7d46ee_1a56_11ea_804d_000d3a64a493row11_col5\" class=\"data row11 col5\" >0</td>\n",
       "                        <td id=\"T_ba7d46ee_1a56_11ea_804d_000d3a64a493row11_col6\" class=\"data row11 col6\" >0</td>\n",
       "                        <td id=\"T_ba7d46ee_1a56_11ea_804d_000d3a64a493row11_col7\" class=\"data row11 col7\" >float64</td>\n",
       "                        <td id=\"T_ba7d46ee_1a56_11ea_804d_000d3a64a493row11_col8\" class=\"data row11 col8\" >9</td>\n",
       "                        <td id=\"T_ba7d46ee_1a56_11ea_804d_000d3a64a493row11_col9\" class=\"data row11 col9\" >25000</td>\n",
       "                        <td id=\"T_ba7d46ee_1a56_11ea_804d_000d3a64a493row11_col10\" class=\"data row11 col10\" >0.03979</td>\n",
       "                        <td id=\"T_ba7d46ee_1a56_11ea_804d_000d3a64a493row11_col11\" class=\"data row11 col11\" >1</td>\n",
       "                        <td id=\"T_ba7d46ee_1a56_11ea_804d_000d3a64a493row11_col12\" class=\"data row11 col12\" >0</td>\n",
       "            </tr>\n",
       "            <tr>\n",
       "                        <th id=\"T_ba7d46ee_1a56_11ea_804d_000d3a64a493level0_row12\" class=\"row_heading level0 row12\" >12</th>\n",
       "                        <td id=\"T_ba7d46ee_1a56_11ea_804d_000d3a64a493row12_col0\" class=\"data row12 col0\" >PAY_3_scaled</td>\n",
       "                        <td id=\"T_ba7d46ee_1a56_11ea_804d_000d3a64a493row12_col1\" class=\"data row12 col1\" >0.375</td>\n",
       "                        <td id=\"T_ba7d46ee_1a56_11ea_804d_000d3a64a493row12_col2\" class=\"data row12 col2\" >5</td>\n",
       "                        <td id=\"T_ba7d46ee_1a56_11ea_804d_000d3a64a493row12_col3\" class=\"data row12 col3\" >0</td>\n",
       "                        <td id=\"T_ba7d46ee_1a56_11ea_804d_000d3a64a493row12_col4\" class=\"data row12 col4\" >3</td>\n",
       "                        <td id=\"T_ba7d46ee_1a56_11ea_804d_000d3a64a493row12_col5\" class=\"data row12 col5\" >0</td>\n",
       "                        <td id=\"T_ba7d46ee_1a56_11ea_804d_000d3a64a493row12_col6\" class=\"data row12 col6\" >0</td>\n",
       "                        <td id=\"T_ba7d46ee_1a56_11ea_804d_000d3a64a493row12_col7\" class=\"data row12 col7\" >float64</td>\n",
       "                        <td id=\"T_ba7d46ee_1a56_11ea_804d_000d3a64a493row12_col8\" class=\"data row12 col8\" >9</td>\n",
       "                        <td id=\"T_ba7d46ee_1a56_11ea_804d_000d3a64a493row12_col9\" class=\"data row12 col9\" >25000</td>\n",
       "                        <td id=\"T_ba7d46ee_1a56_11ea_804d_000d3a64a493row12_col10\" class=\"data row12 col10\" >0.03777</td>\n",
       "                        <td id=\"T_ba7d46ee_1a56_11ea_804d_000d3a64a493row12_col11\" class=\"data row12 col11\" >1</td>\n",
       "                        <td id=\"T_ba7d46ee_1a56_11ea_804d_000d3a64a493row12_col12\" class=\"data row12 col12\" >0</td>\n",
       "            </tr>\n",
       "            <tr>\n",
       "                        <th id=\"T_ba7d46ee_1a56_11ea_804d_000d3a64a493level0_row13\" class=\"row_heading level0 row13\" >13</th>\n",
       "                        <td id=\"T_ba7d46ee_1a56_11ea_804d_000d3a64a493row13_col0\" class=\"data row13 col0\" >PAY_4_scaled</td>\n",
       "                        <td id=\"T_ba7d46ee_1a56_11ea_804d_000d3a64a493row13_col1\" class=\"data row13 col1\" >0.375</td>\n",
       "                        <td id=\"T_ba7d46ee_1a56_11ea_804d_000d3a64a493row13_col2\" class=\"data row13 col2\" >5</td>\n",
       "                        <td id=\"T_ba7d46ee_1a56_11ea_804d_000d3a64a493row13_col3\" class=\"data row13 col3\" >0</td>\n",
       "                        <td id=\"T_ba7d46ee_1a56_11ea_804d_000d3a64a493row13_col4\" class=\"data row13 col4\" >3</td>\n",
       "                        <td id=\"T_ba7d46ee_1a56_11ea_804d_000d3a64a493row13_col5\" class=\"data row13 col5\" >0</td>\n",
       "                        <td id=\"T_ba7d46ee_1a56_11ea_804d_000d3a64a493row13_col6\" class=\"data row13 col6\" >0</td>\n",
       "                        <td id=\"T_ba7d46ee_1a56_11ea_804d_000d3a64a493row13_col7\" class=\"data row13 col7\" >float64</td>\n",
       "                        <td id=\"T_ba7d46ee_1a56_11ea_804d_000d3a64a493row13_col8\" class=\"data row13 col8\" >9</td>\n",
       "                        <td id=\"T_ba7d46ee_1a56_11ea_804d_000d3a64a493row13_col9\" class=\"data row13 col9\" >25000</td>\n",
       "                        <td id=\"T_ba7d46ee_1a56_11ea_804d_000d3a64a493row13_col10\" class=\"data row13 col10\" >0.032165</td>\n",
       "                        <td id=\"T_ba7d46ee_1a56_11ea_804d_000d3a64a493row13_col11\" class=\"data row13 col11\" >1</td>\n",
       "                        <td id=\"T_ba7d46ee_1a56_11ea_804d_000d3a64a493row13_col12\" class=\"data row13 col12\" >0</td>\n",
       "            </tr>\n",
       "            <tr>\n",
       "                        <th id=\"T_ba7d46ee_1a56_11ea_804d_000d3a64a493level0_row14\" class=\"row_heading level0 row14\" >14</th>\n",
       "                        <td id=\"T_ba7d46ee_1a56_11ea_804d_000d3a64a493row14_col0\" class=\"data row14 col0\" >PAY_5_scaled</td>\n",
       "                        <td id=\"T_ba7d46ee_1a56_11ea_804d_000d3a64a493row14_col1\" class=\"data row14 col1\" >0.375</td>\n",
       "                        <td id=\"T_ba7d46ee_1a56_11ea_804d_000d3a64a493row14_col2\" class=\"data row14 col2\" >5</td>\n",
       "                        <td id=\"T_ba7d46ee_1a56_11ea_804d_000d3a64a493row14_col3\" class=\"data row14 col3\" >0</td>\n",
       "                        <td id=\"T_ba7d46ee_1a56_11ea_804d_000d3a64a493row14_col4\" class=\"data row14 col4\" >3</td>\n",
       "                        <td id=\"T_ba7d46ee_1a56_11ea_804d_000d3a64a493row14_col5\" class=\"data row14 col5\" >0</td>\n",
       "                        <td id=\"T_ba7d46ee_1a56_11ea_804d_000d3a64a493row14_col6\" class=\"data row14 col6\" >0</td>\n",
       "                        <td id=\"T_ba7d46ee_1a56_11ea_804d_000d3a64a493row14_col7\" class=\"data row14 col7\" >float64</td>\n",
       "                        <td id=\"T_ba7d46ee_1a56_11ea_804d_000d3a64a493row14_col8\" class=\"data row14 col8\" >8</td>\n",
       "                        <td id=\"T_ba7d46ee_1a56_11ea_804d_000d3a64a493row14_col9\" class=\"data row14 col9\" >25000</td>\n",
       "                        <td id=\"T_ba7d46ee_1a56_11ea_804d_000d3a64a493row14_col10\" class=\"data row14 col10\" >0.027665</td>\n",
       "                        <td id=\"T_ba7d46ee_1a56_11ea_804d_000d3a64a493row14_col11\" class=\"data row14 col11\" >1</td>\n",
       "                        <td id=\"T_ba7d46ee_1a56_11ea_804d_000d3a64a493row14_col12\" class=\"data row14 col12\" >0</td>\n",
       "            </tr>\n",
       "            <tr>\n",
       "                        <th id=\"T_ba7d46ee_1a56_11ea_804d_000d3a64a493level0_row15\" class=\"row_heading level0 row15\" >15</th>\n",
       "                        <td id=\"T_ba7d46ee_1a56_11ea_804d_000d3a64a493row15_col0\" class=\"data row15 col0\" >PAY_6_scaled</td>\n",
       "                        <td id=\"T_ba7d46ee_1a56_11ea_804d_000d3a64a493row15_col1\" class=\"data row15 col1\" >0.625</td>\n",
       "                        <td id=\"T_ba7d46ee_1a56_11ea_804d_000d3a64a493row15_col2\" class=\"data row15 col2\" >5</td>\n",
       "                        <td id=\"T_ba7d46ee_1a56_11ea_804d_000d3a64a493row15_col3\" class=\"data row15 col3\" >0</td>\n",
       "                        <td id=\"T_ba7d46ee_1a56_11ea_804d_000d3a64a493row15_col4\" class=\"data row15 col4\" >3</td>\n",
       "                        <td id=\"T_ba7d46ee_1a56_11ea_804d_000d3a64a493row15_col5\" class=\"data row15 col5\" >0</td>\n",
       "                        <td id=\"T_ba7d46ee_1a56_11ea_804d_000d3a64a493row15_col6\" class=\"data row15 col6\" >0</td>\n",
       "                        <td id=\"T_ba7d46ee_1a56_11ea_804d_000d3a64a493row15_col7\" class=\"data row15 col7\" >float64</td>\n",
       "                        <td id=\"T_ba7d46ee_1a56_11ea_804d_000d3a64a493row15_col8\" class=\"data row15 col8\" >8</td>\n",
       "                        <td id=\"T_ba7d46ee_1a56_11ea_804d_000d3a64a493row15_col9\" class=\"data row15 col9\" >25000</td>\n",
       "                        <td id=\"T_ba7d46ee_1a56_11ea_804d_000d3a64a493row15_col10\" class=\"data row15 col10\" >0.02826</td>\n",
       "                        <td id=\"T_ba7d46ee_1a56_11ea_804d_000d3a64a493row15_col11\" class=\"data row15 col11\" >1</td>\n",
       "                        <td id=\"T_ba7d46ee_1a56_11ea_804d_000d3a64a493row15_col12\" class=\"data row15 col12\" >0</td>\n",
       "            </tr>\n",
       "            <tr>\n",
       "                        <th id=\"T_ba7d46ee_1a56_11ea_804d_000d3a64a493level0_row16\" class=\"row_heading level0 row16\" >16</th>\n",
       "                        <td id=\"T_ba7d46ee_1a56_11ea_804d_000d3a64a493row16_col0\" class=\"data row16 col0\" >LIMIT_BAL_scaled</td>\n",
       "                        <td id=\"T_ba7d46ee_1a56_11ea_804d_000d3a64a493row16_col1\" class=\"data row16 col1\" >0.00606061</td>\n",
       "                        <td id=\"T_ba7d46ee_1a56_11ea_804d_000d3a64a493row16_col2\" class=\"data row16 col2\" >21</td>\n",
       "                        <td id=\"T_ba7d46ee_1a56_11ea_804d_000d3a64a493row16_col3\" class=\"data row16 col3\" >0</td>\n",
       "                        <td id=\"T_ba7d46ee_1a56_11ea_804d_000d3a64a493row16_col4\" class=\"data row16 col4\" >3</td>\n",
       "                        <td id=\"T_ba7d46ee_1a56_11ea_804d_000d3a64a493row16_col5\" class=\"data row16 col5\" >0</td>\n",
       "                        <td id=\"T_ba7d46ee_1a56_11ea_804d_000d3a64a493row16_col6\" class=\"data row16 col6\" >0</td>\n",
       "                        <td id=\"T_ba7d46ee_1a56_11ea_804d_000d3a64a493row16_col7\" class=\"data row16 col7\" >float64</td>\n",
       "                        <td id=\"T_ba7d46ee_1a56_11ea_804d_000d3a64a493row16_col8\" class=\"data row16 col8\" >80</td>\n",
       "                        <td id=\"T_ba7d46ee_1a56_11ea_804d_000d3a64a493row16_col9\" class=\"data row16 col9\" >25000</td>\n",
       "                        <td id=\"T_ba7d46ee_1a56_11ea_804d_000d3a64a493row16_col10\" class=\"data row16 col10\" >0.159181</td>\n",
       "                        <td id=\"T_ba7d46ee_1a56_11ea_804d_000d3a64a493row16_col11\" class=\"data row16 col11\" >1</td>\n",
       "                        <td id=\"T_ba7d46ee_1a56_11ea_804d_000d3a64a493row16_col12\" class=\"data row16 col12\" >0</td>\n",
       "            </tr>\n",
       "            <tr>\n",
       "                        <th id=\"T_ba7d46ee_1a56_11ea_804d_000d3a64a493level0_row17\" class=\"row_heading level0 row17\" >17</th>\n",
       "                        <td id=\"T_ba7d46ee_1a56_11ea_804d_000d3a64a493row17_col0\" class=\"data row17 col0\" >AGE_scaled</td>\n",
       "                        <td id=\"T_ba7d46ee_1a56_11ea_804d_000d3a64a493row17_col1\" class=\"data row17 col1\" >0.0185185</td>\n",
       "                        <td id=\"T_ba7d46ee_1a56_11ea_804d_000d3a64a493row17_col2\" class=\"data row17 col2\" >20</td>\n",
       "                        <td id=\"T_ba7d46ee_1a56_11ea_804d_000d3a64a493row17_col3\" class=\"data row17 col3\" >0.5</td>\n",
       "                        <td id=\"T_ba7d46ee_1a56_11ea_804d_000d3a64a493row17_col4\" class=\"data row17 col4\" >3</td>\n",
       "                        <td id=\"T_ba7d46ee_1a56_11ea_804d_000d3a64a493row17_col5\" class=\"data row17 col5\" >0</td>\n",
       "                        <td id=\"T_ba7d46ee_1a56_11ea_804d_000d3a64a493row17_col6\" class=\"data row17 col6\" >0</td>\n",
       "                        <td id=\"T_ba7d46ee_1a56_11ea_804d_000d3a64a493row17_col7\" class=\"data row17 col7\" >float64</td>\n",
       "                        <td id=\"T_ba7d46ee_1a56_11ea_804d_000d3a64a493row17_col8\" class=\"data row17 col8\" >54</td>\n",
       "                        <td id=\"T_ba7d46ee_1a56_11ea_804d_000d3a64a493row17_col9\" class=\"data row17 col9\" >25000</td>\n",
       "                        <td id=\"T_ba7d46ee_1a56_11ea_804d_000d3a64a493row17_col10\" class=\"data row17 col10\" >0.268022</td>\n",
       "                        <td id=\"T_ba7d46ee_1a56_11ea_804d_000d3a64a493row17_col11\" class=\"data row17 col11\" >1</td>\n",
       "                        <td id=\"T_ba7d46ee_1a56_11ea_804d_000d3a64a493row17_col12\" class=\"data row17 col12\" >0</td>\n",
       "            </tr>\n",
       "            <tr>\n",
       "                        <th id=\"T_ba7d46ee_1a56_11ea_804d_000d3a64a493level0_row18\" class=\"row_heading level0 row18\" >18</th>\n",
       "                        <td id=\"T_ba7d46ee_1a56_11ea_804d_000d3a64a493row18_col0\" class=\"data row18 col0\" >BILL_AMT1_scaled</td>\n",
       "                        <td id=\"T_ba7d46ee_1a56_11ea_804d_000d3a64a493row18_col1\" class=\"data row18 col1\" >0.00938597</td>\n",
       "                        <td id=\"T_ba7d46ee_1a56_11ea_804d_000d3a64a493row18_col2\" class=\"data row18 col2\" >20</td>\n",
       "                        <td id=\"T_ba7d46ee_1a56_11ea_804d_000d3a64a493row18_col3\" class=\"data row18 col3\" >0</td>\n",
       "                        <td id=\"T_ba7d46ee_1a56_11ea_804d_000d3a64a493row18_col4\" class=\"data row18 col4\" >3</td>\n",
       "                        <td id=\"T_ba7d46ee_1a56_11ea_804d_000d3a64a493row18_col5\" class=\"data row18 col5\" >0</td>\n",
       "                        <td id=\"T_ba7d46ee_1a56_11ea_804d_000d3a64a493row18_col6\" class=\"data row18 col6\" >0</td>\n",
       "                        <td id=\"T_ba7d46ee_1a56_11ea_804d_000d3a64a493row18_col7\" class=\"data row18 col7\" >float64</td>\n",
       "                        <td id=\"T_ba7d46ee_1a56_11ea_804d_000d3a64a493row18_col8\" class=\"data row18 col8\" >19389</td>\n",
       "                        <td id=\"T_ba7d46ee_1a56_11ea_804d_000d3a64a493row18_col9\" class=\"data row18 col9\" >25000</td>\n",
       "                        <td id=\"T_ba7d46ee_1a56_11ea_804d_000d3a64a493row18_col10\" class=\"data row18 col10\" >0.191775</td>\n",
       "                        <td id=\"T_ba7d46ee_1a56_11ea_804d_000d3a64a493row18_col11\" class=\"data row18 col11\" >1</td>\n",
       "                        <td id=\"T_ba7d46ee_1a56_11ea_804d_000d3a64a493row18_col12\" class=\"data row18 col12\" >0</td>\n",
       "            </tr>\n",
       "            <tr>\n",
       "                        <th id=\"T_ba7d46ee_1a56_11ea_804d_000d3a64a493level0_row19\" class=\"row_heading level0 row19\" >19</th>\n",
       "                        <td id=\"T_ba7d46ee_1a56_11ea_804d_000d3a64a493row19_col0\" class=\"data row19 col0\" >BILL_AMT2_scaled</td>\n",
       "                        <td id=\"T_ba7d46ee_1a56_11ea_804d_000d3a64a493row19_col1\" class=\"data row19 col1\" >0.0377495</td>\n",
       "                        <td id=\"T_ba7d46ee_1a56_11ea_804d_000d3a64a493row19_col2\" class=\"data row19 col2\" >20</td>\n",
       "                        <td id=\"T_ba7d46ee_1a56_11ea_804d_000d3a64a493row19_col3\" class=\"data row19 col3\" >0</td>\n",
       "                        <td id=\"T_ba7d46ee_1a56_11ea_804d_000d3a64a493row19_col4\" class=\"data row19 col4\" >3</td>\n",
       "                        <td id=\"T_ba7d46ee_1a56_11ea_804d_000d3a64a493row19_col5\" class=\"data row19 col5\" >0</td>\n",
       "                        <td id=\"T_ba7d46ee_1a56_11ea_804d_000d3a64a493row19_col6\" class=\"data row19 col6\" >0</td>\n",
       "                        <td id=\"T_ba7d46ee_1a56_11ea_804d_000d3a64a493row19_col7\" class=\"data row19 col7\" >float64</td>\n",
       "                        <td id=\"T_ba7d46ee_1a56_11ea_804d_000d3a64a493row19_col8\" class=\"data row19 col8\" >19078</td>\n",
       "                        <td id=\"T_ba7d46ee_1a56_11ea_804d_000d3a64a493row19_col9\" class=\"data row19 col9\" >25000</td>\n",
       "                        <td id=\"T_ba7d46ee_1a56_11ea_804d_000d3a64a493row19_col10\" class=\"data row19 col10\" >0.112811</td>\n",
       "                        <td id=\"T_ba7d46ee_1a56_11ea_804d_000d3a64a493row19_col11\" class=\"data row19 col11\" >1</td>\n",
       "                        <td id=\"T_ba7d46ee_1a56_11ea_804d_000d3a64a493row19_col12\" class=\"data row19 col12\" >0</td>\n",
       "            </tr>\n",
       "            <tr>\n",
       "                        <th id=\"T_ba7d46ee_1a56_11ea_804d_000d3a64a493level0_row20\" class=\"row_heading level0 row20\" >20</th>\n",
       "                        <td id=\"T_ba7d46ee_1a56_11ea_804d_000d3a64a493row20_col0\" class=\"data row20 col0\" >BILL_AMT3_scaled</td>\n",
       "                        <td id=\"T_ba7d46ee_1a56_11ea_804d_000d3a64a493row20_col1\" class=\"data row20 col1\" >0.0610189</td>\n",
       "                        <td id=\"T_ba7d46ee_1a56_11ea_804d_000d3a64a493row20_col2\" class=\"data row20 col2\" >20</td>\n",
       "                        <td id=\"T_ba7d46ee_1a56_11ea_804d_000d3a64a493row20_col3\" class=\"data row20 col3\" >0</td>\n",
       "                        <td id=\"T_ba7d46ee_1a56_11ea_804d_000d3a64a493row20_col4\" class=\"data row20 col4\" >3</td>\n",
       "                        <td id=\"T_ba7d46ee_1a56_11ea_804d_000d3a64a493row20_col5\" class=\"data row20 col5\" >0</td>\n",
       "                        <td id=\"T_ba7d46ee_1a56_11ea_804d_000d3a64a493row20_col6\" class=\"data row20 col6\" >0</td>\n",
       "                        <td id=\"T_ba7d46ee_1a56_11ea_804d_000d3a64a493row20_col7\" class=\"data row20 col7\" >float64</td>\n",
       "                        <td id=\"T_ba7d46ee_1a56_11ea_804d_000d3a64a493row20_col8\" class=\"data row20 col8\" >18796</td>\n",
       "                        <td id=\"T_ba7d46ee_1a56_11ea_804d_000d3a64a493row20_col9\" class=\"data row20 col9\" >25000</td>\n",
       "                        <td id=\"T_ba7d46ee_1a56_11ea_804d_000d3a64a493row20_col10\" class=\"data row20 col10\" >0.112161</td>\n",
       "                        <td id=\"T_ba7d46ee_1a56_11ea_804d_000d3a64a493row20_col11\" class=\"data row20 col11\" >1</td>\n",
       "                        <td id=\"T_ba7d46ee_1a56_11ea_804d_000d3a64a493row20_col12\" class=\"data row20 col12\" >0</td>\n",
       "            </tr>\n",
       "            <tr>\n",
       "                        <th id=\"T_ba7d46ee_1a56_11ea_804d_000d3a64a493level0_row21\" class=\"row_heading level0 row21\" >21</th>\n",
       "                        <td id=\"T_ba7d46ee_1a56_11ea_804d_000d3a64a493row21_col0\" class=\"data row21 col0\" >BILL_AMT4_scaled</td>\n",
       "                        <td id=\"T_ba7d46ee_1a56_11ea_804d_000d3a64a493row21_col1\" class=\"data row21 col1\" >0.178083</td>\n",
       "                        <td id=\"T_ba7d46ee_1a56_11ea_804d_000d3a64a493row21_col2\" class=\"data row21 col2\" >19</td>\n",
       "                        <td id=\"T_ba7d46ee_1a56_11ea_804d_000d3a64a493row21_col3\" class=\"data row21 col3\" >1</td>\n",
       "                        <td id=\"T_ba7d46ee_1a56_11ea_804d_000d3a64a493row21_col4\" class=\"data row21 col4\" >3</td>\n",
       "                        <td id=\"T_ba7d46ee_1a56_11ea_804d_000d3a64a493row21_col5\" class=\"data row21 col5\" >0</td>\n",
       "                        <td id=\"T_ba7d46ee_1a56_11ea_804d_000d3a64a493row21_col6\" class=\"data row21 col6\" >0</td>\n",
       "                        <td id=\"T_ba7d46ee_1a56_11ea_804d_000d3a64a493row21_col7\" class=\"data row21 col7\" >float64</td>\n",
       "                        <td id=\"T_ba7d46ee_1a56_11ea_804d_000d3a64a493row21_col8\" class=\"data row21 col8\" >18395</td>\n",
       "                        <td id=\"T_ba7d46ee_1a56_11ea_804d_000d3a64a493row21_col9\" class=\"data row21 col9\" >25000</td>\n",
       "                        <td id=\"T_ba7d46ee_1a56_11ea_804d_000d3a64a493row21_col10\" class=\"data row21 col10\" >0.200786</td>\n",
       "                        <td id=\"T_ba7d46ee_1a56_11ea_804d_000d3a64a493row21_col11\" class=\"data row21 col11\" >1</td>\n",
       "                        <td id=\"T_ba7d46ee_1a56_11ea_804d_000d3a64a493row21_col12\" class=\"data row21 col12\" >0</td>\n",
       "            </tr>\n",
       "            <tr>\n",
       "                        <th id=\"T_ba7d46ee_1a56_11ea_804d_000d3a64a493level0_row22\" class=\"row_heading level0 row22\" >22</th>\n",
       "                        <td id=\"T_ba7d46ee_1a56_11ea_804d_000d3a64a493row22_col0\" class=\"data row22 col0\" >BILL_AMT5_scaled</td>\n",
       "                        <td id=\"T_ba7d46ee_1a56_11ea_804d_000d3a64a493row22_col1\" class=\"data row22 col1\" >0.0624131</td>\n",
       "                        <td id=\"T_ba7d46ee_1a56_11ea_804d_000d3a64a493row22_col2\" class=\"data row22 col2\" >20</td>\n",
       "                        <td id=\"T_ba7d46ee_1a56_11ea_804d_000d3a64a493row22_col3\" class=\"data row22 col3\" >0</td>\n",
       "                        <td id=\"T_ba7d46ee_1a56_11ea_804d_000d3a64a493row22_col4\" class=\"data row22 col4\" >3</td>\n",
       "                        <td id=\"T_ba7d46ee_1a56_11ea_804d_000d3a64a493row22_col5\" class=\"data row22 col5\" >0</td>\n",
       "                        <td id=\"T_ba7d46ee_1a56_11ea_804d_000d3a64a493row22_col6\" class=\"data row22 col6\" >0</td>\n",
       "                        <td id=\"T_ba7d46ee_1a56_11ea_804d_000d3a64a493row22_col7\" class=\"data row22 col7\" >float64</td>\n",
       "                        <td id=\"T_ba7d46ee_1a56_11ea_804d_000d3a64a493row22_col8\" class=\"data row22 col8\" >17964</td>\n",
       "                        <td id=\"T_ba7d46ee_1a56_11ea_804d_000d3a64a493row22_col9\" class=\"data row22 col9\" >25000</td>\n",
       "                        <td id=\"T_ba7d46ee_1a56_11ea_804d_000d3a64a493row22_col10\" class=\"data row22 col10\" >0.102857</td>\n",
       "                        <td id=\"T_ba7d46ee_1a56_11ea_804d_000d3a64a493row22_col11\" class=\"data row22 col11\" >1</td>\n",
       "                        <td id=\"T_ba7d46ee_1a56_11ea_804d_000d3a64a493row22_col12\" class=\"data row22 col12\" >0</td>\n",
       "            </tr>\n",
       "            <tr>\n",
       "                        <th id=\"T_ba7d46ee_1a56_11ea_804d_000d3a64a493level0_row23\" class=\"row_heading level0 row23\" >23</th>\n",
       "                        <td id=\"T_ba7d46ee_1a56_11ea_804d_000d3a64a493row23_col0\" class=\"data row23 col0\" >BILL_AMT6_scaled</td>\n",
       "                        <td id=\"T_ba7d46ee_1a56_11ea_804d_000d3a64a493row23_col1\" class=\"data row23 col1\" >0.262499</td>\n",
       "                        <td id=\"T_ba7d46ee_1a56_11ea_804d_000d3a64a493row23_col2\" class=\"data row23 col2\" >19</td>\n",
       "                        <td id=\"T_ba7d46ee_1a56_11ea_804d_000d3a64a493row23_col3\" class=\"data row23 col3\" >1</td>\n",
       "                        <td id=\"T_ba7d46ee_1a56_11ea_804d_000d3a64a493row23_col4\" class=\"data row23 col4\" >3</td>\n",
       "                        <td id=\"T_ba7d46ee_1a56_11ea_804d_000d3a64a493row23_col5\" class=\"data row23 col5\" >0</td>\n",
       "                        <td id=\"T_ba7d46ee_1a56_11ea_804d_000d3a64a493row23_col6\" class=\"data row23 col6\" >0</td>\n",
       "                        <td id=\"T_ba7d46ee_1a56_11ea_804d_000d3a64a493row23_col7\" class=\"data row23 col7\" >float64</td>\n",
       "                        <td id=\"T_ba7d46ee_1a56_11ea_804d_000d3a64a493row23_col8\" class=\"data row23 col8\" >17611</td>\n",
       "                        <td id=\"T_ba7d46ee_1a56_11ea_804d_000d3a64a493row23_col9\" class=\"data row23 col9\" >25000</td>\n",
       "                        <td id=\"T_ba7d46ee_1a56_11ea_804d_000d3a64a493row23_col10\" class=\"data row23 col10\" >0.290792</td>\n",
       "                        <td id=\"T_ba7d46ee_1a56_11ea_804d_000d3a64a493row23_col11\" class=\"data row23 col11\" >1</td>\n",
       "                        <td id=\"T_ba7d46ee_1a56_11ea_804d_000d3a64a493row23_col12\" class=\"data row23 col12\" >0</td>\n",
       "            </tr>\n",
       "            <tr>\n",
       "                        <th id=\"T_ba7d46ee_1a56_11ea_804d_000d3a64a493level0_row24\" class=\"row_heading level0 row24\" >24</th>\n",
       "                        <td id=\"T_ba7d46ee_1a56_11ea_804d_000d3a64a493row24_col0\" class=\"data row24 col0\" >PAY_AMT1_scaled</td>\n",
       "                        <td id=\"T_ba7d46ee_1a56_11ea_804d_000d3a64a493row24_col1\" class=\"data row24 col1\" >0.000373189</td>\n",
       "                        <td id=\"T_ba7d46ee_1a56_11ea_804d_000d3a64a493row24_col2\" class=\"data row24 col2\" >22</td>\n",
       "                        <td id=\"T_ba7d46ee_1a56_11ea_804d_000d3a64a493row24_col3\" class=\"data row24 col3\" >0</td>\n",
       "                        <td id=\"T_ba7d46ee_1a56_11ea_804d_000d3a64a493row24_col4\" class=\"data row24 col4\" >3</td>\n",
       "                        <td id=\"T_ba7d46ee_1a56_11ea_804d_000d3a64a493row24_col5\" class=\"data row24 col5\" >0</td>\n",
       "                        <td id=\"T_ba7d46ee_1a56_11ea_804d_000d3a64a493row24_col6\" class=\"data row24 col6\" >0</td>\n",
       "                        <td id=\"T_ba7d46ee_1a56_11ea_804d_000d3a64a493row24_col7\" class=\"data row24 col7\" >float64</td>\n",
       "                        <td id=\"T_ba7d46ee_1a56_11ea_804d_000d3a64a493row24_col8\" class=\"data row24 col8\" >7077</td>\n",
       "                        <td id=\"T_ba7d46ee_1a56_11ea_804d_000d3a64a493row24_col9\" class=\"data row24 col9\" >25000</td>\n",
       "                        <td id=\"T_ba7d46ee_1a56_11ea_804d_000d3a64a493row24_col10\" class=\"data row24 col10\" >0.00645199</td>\n",
       "                        <td id=\"T_ba7d46ee_1a56_11ea_804d_000d3a64a493row24_col11\" class=\"data row24 col11\" >1</td>\n",
       "                        <td id=\"T_ba7d46ee_1a56_11ea_804d_000d3a64a493row24_col12\" class=\"data row24 col12\" >0</td>\n",
       "            </tr>\n",
       "            <tr>\n",
       "                        <th id=\"T_ba7d46ee_1a56_11ea_804d_000d3a64a493level0_row25\" class=\"row_heading level0 row25\" >25</th>\n",
       "                        <td id=\"T_ba7d46ee_1a56_11ea_804d_000d3a64a493row25_col0\" class=\"data row25 col0\" >PAY_AMT2_scaled</td>\n",
       "                        <td id=\"T_ba7d46ee_1a56_11ea_804d_000d3a64a493row25_col1\" class=\"data row25 col1\" >0.00018762</td>\n",
       "                        <td id=\"T_ba7d46ee_1a56_11ea_804d_000d3a64a493row25_col2\" class=\"data row25 col2\" >22</td>\n",
       "                        <td id=\"T_ba7d46ee_1a56_11ea_804d_000d3a64a493row25_col3\" class=\"data row25 col3\" >0</td>\n",
       "                        <td id=\"T_ba7d46ee_1a56_11ea_804d_000d3a64a493row25_col4\" class=\"data row25 col4\" >3</td>\n",
       "                        <td id=\"T_ba7d46ee_1a56_11ea_804d_000d3a64a493row25_col5\" class=\"data row25 col5\" >0</td>\n",
       "                        <td id=\"T_ba7d46ee_1a56_11ea_804d_000d3a64a493row25_col6\" class=\"data row25 col6\" >0</td>\n",
       "                        <td id=\"T_ba7d46ee_1a56_11ea_804d_000d3a64a493row25_col7\" class=\"data row25 col7\" >float64</td>\n",
       "                        <td id=\"T_ba7d46ee_1a56_11ea_804d_000d3a64a493row25_col8\" class=\"data row25 col8\" >7058</td>\n",
       "                        <td id=\"T_ba7d46ee_1a56_11ea_804d_000d3a64a493row25_col9\" class=\"data row25 col9\" >25000</td>\n",
       "                        <td id=\"T_ba7d46ee_1a56_11ea_804d_000d3a64a493row25_col10\" class=\"data row25 col10\" >0.00354328</td>\n",
       "                        <td id=\"T_ba7d46ee_1a56_11ea_804d_000d3a64a493row25_col11\" class=\"data row25 col11\" >1</td>\n",
       "                        <td id=\"T_ba7d46ee_1a56_11ea_804d_000d3a64a493row25_col12\" class=\"data row25 col12\" >0</td>\n",
       "            </tr>\n",
       "            <tr>\n",
       "                        <th id=\"T_ba7d46ee_1a56_11ea_804d_000d3a64a493level0_row26\" class=\"row_heading level0 row26\" >26</th>\n",
       "                        <td id=\"T_ba7d46ee_1a56_11ea_804d_000d3a64a493row26_col0\" class=\"data row26 col0\" >PAY_AMT3_scaled</td>\n",
       "                        <td id=\"T_ba7d46ee_1a56_11ea_804d_000d3a64a493row26_col1\" class=\"data row26 col1\" >0.000366055</td>\n",
       "                        <td id=\"T_ba7d46ee_1a56_11ea_804d_000d3a64a493row26_col2\" class=\"data row26 col2\" >22</td>\n",
       "                        <td id=\"T_ba7d46ee_1a56_11ea_804d_000d3a64a493row26_col3\" class=\"data row26 col3\" >0</td>\n",
       "                        <td id=\"T_ba7d46ee_1a56_11ea_804d_000d3a64a493row26_col4\" class=\"data row26 col4\" >3</td>\n",
       "                        <td id=\"T_ba7d46ee_1a56_11ea_804d_000d3a64a493row26_col5\" class=\"data row26 col5\" >0</td>\n",
       "                        <td id=\"T_ba7d46ee_1a56_11ea_804d_000d3a64a493row26_col6\" class=\"data row26 col6\" >0</td>\n",
       "                        <td id=\"T_ba7d46ee_1a56_11ea_804d_000d3a64a493row26_col7\" class=\"data row26 col7\" >float64</td>\n",
       "                        <td id=\"T_ba7d46ee_1a56_11ea_804d_000d3a64a493row26_col8\" class=\"data row26 col8\" >6709</td>\n",
       "                        <td id=\"T_ba7d46ee_1a56_11ea_804d_000d3a64a493row26_col9\" class=\"data row26 col9\" >25000</td>\n",
       "                        <td id=\"T_ba7d46ee_1a56_11ea_804d_000d3a64a493row26_col10\" class=\"data row26 col10\" >0.00579402</td>\n",
       "                        <td id=\"T_ba7d46ee_1a56_11ea_804d_000d3a64a493row26_col11\" class=\"data row26 col11\" >1</td>\n",
       "                        <td id=\"T_ba7d46ee_1a56_11ea_804d_000d3a64a493row26_col12\" class=\"data row26 col12\" >0</td>\n",
       "            </tr>\n",
       "            <tr>\n",
       "                        <th id=\"T_ba7d46ee_1a56_11ea_804d_000d3a64a493level0_row27\" class=\"row_heading level0 row27\" >27</th>\n",
       "                        <td id=\"T_ba7d46ee_1a56_11ea_804d_000d3a64a493row27_col0\" class=\"data row27 col0\" >PAY_AMT4_scaled</td>\n",
       "                        <td id=\"T_ba7d46ee_1a56_11ea_804d_000d3a64a493row27_col1\" class=\"data row27 col1\" >0.0002657</td>\n",
       "                        <td id=\"T_ba7d46ee_1a56_11ea_804d_000d3a64a493row27_col2\" class=\"data row27 col2\" >22</td>\n",
       "                        <td id=\"T_ba7d46ee_1a56_11ea_804d_000d3a64a493row27_col3\" class=\"data row27 col3\" >0</td>\n",
       "                        <td id=\"T_ba7d46ee_1a56_11ea_804d_000d3a64a493row27_col4\" class=\"data row27 col4\" >3</td>\n",
       "                        <td id=\"T_ba7d46ee_1a56_11ea_804d_000d3a64a493row27_col5\" class=\"data row27 col5\" >0</td>\n",
       "                        <td id=\"T_ba7d46ee_1a56_11ea_804d_000d3a64a493row27_col6\" class=\"data row27 col6\" >0</td>\n",
       "                        <td id=\"T_ba7d46ee_1a56_11ea_804d_000d3a64a493row27_col7\" class=\"data row27 col7\" >float64</td>\n",
       "                        <td id=\"T_ba7d46ee_1a56_11ea_804d_000d3a64a493row27_col8\" class=\"data row27 col8\" >6201</td>\n",
       "                        <td id=\"T_ba7d46ee_1a56_11ea_804d_000d3a64a493row27_col9\" class=\"data row27 col9\" >25000</td>\n",
       "                        <td id=\"T_ba7d46ee_1a56_11ea_804d_000d3a64a493row27_col10\" class=\"data row27 col10\" >0.00787823</td>\n",
       "                        <td id=\"T_ba7d46ee_1a56_11ea_804d_000d3a64a493row27_col11\" class=\"data row27 col11\" >1</td>\n",
       "                        <td id=\"T_ba7d46ee_1a56_11ea_804d_000d3a64a493row27_col12\" class=\"data row27 col12\" >0</td>\n",
       "            </tr>\n",
       "            <tr>\n",
       "                        <th id=\"T_ba7d46ee_1a56_11ea_804d_000d3a64a493level0_row28\" class=\"row_heading level0 row28\" >28</th>\n",
       "                        <td id=\"T_ba7d46ee_1a56_11ea_804d_000d3a64a493row28_col0\" class=\"data row28 col0\" >PAY_AMT5_scaled</td>\n",
       "                        <td id=\"T_ba7d46ee_1a56_11ea_804d_000d3a64a493row28_col1\" class=\"data row28 col1\" >1.03074e-05</td>\n",
       "                        <td id=\"T_ba7d46ee_1a56_11ea_804d_000d3a64a493row28_col2\" class=\"data row28 col2\" >22</td>\n",
       "                        <td id=\"T_ba7d46ee_1a56_11ea_804d_000d3a64a493row28_col3\" class=\"data row28 col3\" >0</td>\n",
       "                        <td id=\"T_ba7d46ee_1a56_11ea_804d_000d3a64a493row28_col4\" class=\"data row28 col4\" >3</td>\n",
       "                        <td id=\"T_ba7d46ee_1a56_11ea_804d_000d3a64a493row28_col5\" class=\"data row28 col5\" >0</td>\n",
       "                        <td id=\"T_ba7d46ee_1a56_11ea_804d_000d3a64a493row28_col6\" class=\"data row28 col6\" >0</td>\n",
       "                        <td id=\"T_ba7d46ee_1a56_11ea_804d_000d3a64a493row28_col7\" class=\"data row28 col7\" >float64</td>\n",
       "                        <td id=\"T_ba7d46ee_1a56_11ea_804d_000d3a64a493row28_col8\" class=\"data row28 col8\" >6101</td>\n",
       "                        <td id=\"T_ba7d46ee_1a56_11ea_804d_000d3a64a493row28_col9\" class=\"data row28 col9\" >25000</td>\n",
       "                        <td id=\"T_ba7d46ee_1a56_11ea_804d_000d3a64a493row28_col10\" class=\"data row28 col10\" >0.0122496</td>\n",
       "                        <td id=\"T_ba7d46ee_1a56_11ea_804d_000d3a64a493row28_col11\" class=\"data row28 col11\" >1</td>\n",
       "                        <td id=\"T_ba7d46ee_1a56_11ea_804d_000d3a64a493row28_col12\" class=\"data row28 col12\" >0</td>\n",
       "            </tr>\n",
       "            <tr>\n",
       "                        <th id=\"T_ba7d46ee_1a56_11ea_804d_000d3a64a493level0_row29\" class=\"row_heading level0 row29\" >29</th>\n",
       "                        <td id=\"T_ba7d46ee_1a56_11ea_804d_000d3a64a493row29_col0\" class=\"data row29 col0\" >PAY_AMT6_scaled</td>\n",
       "                        <td id=\"T_ba7d46ee_1a56_11ea_804d_000d3a64a493row29_col1\" class=\"data row29 col1\" >0.000429383</td>\n",
       "                        <td id=\"T_ba7d46ee_1a56_11ea_804d_000d3a64a493row29_col2\" class=\"data row29 col2\" >22</td>\n",
       "                        <td id=\"T_ba7d46ee_1a56_11ea_804d_000d3a64a493row29_col3\" class=\"data row29 col3\" >0</td>\n",
       "                        <td id=\"T_ba7d46ee_1a56_11ea_804d_000d3a64a493row29_col4\" class=\"data row29 col4\" >3</td>\n",
       "                        <td id=\"T_ba7d46ee_1a56_11ea_804d_000d3a64a493row29_col5\" class=\"data row29 col5\" >0</td>\n",
       "                        <td id=\"T_ba7d46ee_1a56_11ea_804d_000d3a64a493row29_col6\" class=\"data row29 col6\" >0</td>\n",
       "                        <td id=\"T_ba7d46ee_1a56_11ea_804d_000d3a64a493row29_col7\" class=\"data row29 col7\" >float64</td>\n",
       "                        <td id=\"T_ba7d46ee_1a56_11ea_804d_000d3a64a493row29_col8\" class=\"data row29 col8\" >6175</td>\n",
       "                        <td id=\"T_ba7d46ee_1a56_11ea_804d_000d3a64a493row29_col9\" class=\"data row29 col9\" >25000</td>\n",
       "                        <td id=\"T_ba7d46ee_1a56_11ea_804d_000d3a64a493row29_col10\" class=\"data row29 col10\" >0.00992913</td>\n",
       "                        <td id=\"T_ba7d46ee_1a56_11ea_804d_000d3a64a493row29_col11\" class=\"data row29 col11\" >1</td>\n",
       "                        <td id=\"T_ba7d46ee_1a56_11ea_804d_000d3a64a493row29_col12\" class=\"data row29 col12\" >0</td>\n",
       "            </tr>\n",
       "    </tbody></table>"
      ],
      "text/plain": [
       "<pandas.io.formats.style.Styler at 0x14dd9f841d0>"
      ]
     },
     "metadata": {},
     "output_type": "display_data"
    }
   ],
   "source": [
    "# Profile the data using helper function\n",
    "display(a.dataprofile(X).style.set_table_styles(dfstyles).set_caption('Data profile: Independent Columns'))"
   ]
  },
  {
   "cell_type": "markdown",
   "metadata": {},
   "source": [
    "## Modelling: Equal Misclassification Costs"
   ]
  },
  {
   "cell_type": "markdown",
   "metadata": {},
   "source": [
    "### Model 1: Decision Tree"
   ]
  },
  {
   "cell_type": "code",
   "execution_count": 19,
   "metadata": {},
   "outputs": [],
   "source": [
    "dt = DecisionTreeClassifier(random_state = randomstate)\n",
    "dt.fit(X_train,y_train)\n",
    "dt_preds = dt.predict(X_test)\n",
    "# confusion matrix\n",
    "dt_cm = pd.DataFrame(confusion_matrix(y_test, dt_preds), columns=np.unique(y_test), index = np.unique(y_test))\n",
    "dt_cm.index.name = 'Actual'\n",
    "dt_cm.columns.name = 'Predicted'"
   ]
  },
  {
   "cell_type": "code",
   "execution_count": 20,
   "metadata": {},
   "outputs": [
    {
     "data": {
      "image/png": "[encoded data removed]",
      "text/plain": [
       "<Figure size 1008x288 with 1 Axes>"
      ]
     },
     "metadata": {
      "needs_background": "light"
     },
     "output_type": "display_data"
    }
   ],
   "source": [
    "# plot feature importance\n",
    "plt.rcParams['figure.figsize'] = [14,4]\n",
    "feature_importances = pd.Series(dt.feature_importances_, index=X_train.columns)\n",
    "feature_importances.nlargest(10).plot(kind='barh')\n",
    "plt.title(\"Decision Tree: Feature Importance\", size=\"14\")\n",
    "plt.show()"
   ]
  },
  {
   "cell_type": "code",
   "execution_count": 21,
   "metadata": {
    "scrolled": false
   },
   "outputs": [
    {
     "data": {
      "text/html": [
       "<style  type=\"text/css\" >\n",
       "    #T_baec0e6e_1a56_11ea_bb95_000d3a64a493 caption {\n",
       "          font-size: 120%;\n",
       "          color: black;\n",
       "          text-align: center;\n",
       "    }</style><table id=\"T_baec0e6e_1a56_11ea_bb95_000d3a64a493\" ><caption>Decision Tree: Confusion Matrix</caption><thead>    <tr>        <th class=\"index_name level0\" >Predicted</th>        <th class=\"col_heading level0 col0\" >0</th>        <th class=\"col_heading level0 col1\" >1</th>    </tr>    <tr>        <th class=\"index_name level0\" >Actual</th>        <th class=\"blank\" ></th>        <th class=\"blank\" ></th>    </tr></thead><tbody>\n",
       "                <tr>\n",
       "                        <th id=\"T_baec0e6e_1a56_11ea_bb95_000d3a64a493level0_row0\" class=\"row_heading level0 row0\" >0</th>\n",
       "                        <td id=\"T_baec0e6e_1a56_11ea_bb95_000d3a64a493row0_col0\" class=\"data row0 col0\" >4751</td>\n",
       "                        <td id=\"T_baec0e6e_1a56_11ea_bb95_000d3a64a493row0_col1\" class=\"data row0 col1\" >1099</td>\n",
       "            </tr>\n",
       "            <tr>\n",
       "                        <th id=\"T_baec0e6e_1a56_11ea_bb95_000d3a64a493level0_row1\" class=\"row_heading level0 row1\" >1</th>\n",
       "                        <td id=\"T_baec0e6e_1a56_11ea_bb95_000d3a64a493row1_col0\" class=\"data row1 col0\" >994</td>\n",
       "                        <td id=\"T_baec0e6e_1a56_11ea_bb95_000d3a64a493row1_col1\" class=\"data row1 col1\" >656</td>\n",
       "            </tr>\n",
       "    </tbody></table>"
      ],
      "text/plain": [
       "<pandas.io.formats.style.Styler at 0x14dd9f84a90>"
      ]
     },
     "metadata": {},
     "output_type": "display_data"
    },
    {
     "name": "stdout",
     "output_type": "stream",
     "text": [
      "              precision    recall  f1-score   support\n",
      "\n",
      "           0       0.83      0.81      0.82      5850\n",
      "           1       0.37      0.40      0.39      1650\n",
      "\n",
      "    accuracy                           0.72      7500\n",
      "   macro avg       0.60      0.60      0.60      7500\n",
      "weighted avg       0.73      0.72      0.72      7500\n",
      "\n"
     ]
    }
   ],
   "source": [
    "# Show Confusion Matric and Accuracy\n",
    "display(dt_cm.style.set_table_styles(dfstyles).\\\n",
    "        set_caption('Decision Tree: Confusion Matrix'))\n",
    "print(classification_report(y_test, dt_preds))"
   ]
  },
  {
   "cell_type": "markdown",
   "metadata": {},
   "source": [
    "#### Model 1: Decision Tree - Tuning"
   ]
  },
  {
   "cell_type": "markdown",
   "metadata": {},
   "source": [
    "#### Hyperparameters\n",
    "* max_depth (default=None): The maximum depth of the tree. If None, then nodes are expanded until all leaves are pure or until all leaves contain less than min_samples_split samples.\n",
    "* max_features (default=auto): The number of features to consider when looking for the best split.\n",
    "* min_samples_leaf (default=1): The minimum number of samples required to be at a leaf node. A split point at any depth will only be considered if it leaves at least min_samples_leaf training samples in each of the left and right branches. This may have the effect of smoothing the model, especially in regression.\n",
    "* min_samples_split (default=2): The minimum number of samples required to split an internal node."
   ]
  },
  {
   "cell_type": "code",
   "execution_count": 22,
   "metadata": {},
   "outputs": [
    {
     "data": {
      "text/plain": [
       "GridSearchCV(cv=3, error_score=nan,\n",
       "             estimator=DecisionTreeClassifier(ccp_alpha=0.0, class_weight=None,\n",
       "                                              criterion='gini', max_depth=None,\n",
       "                                              max_features=None,\n",
       "                                              max_leaf_nodes=None,\n",
       "                                              min_impurity_decrease=0.0,\n",
       "                                              min_impurity_split=None,\n",
       "                                              min_samples_leaf=1,\n",
       "                                              min_samples_split=2,\n",
       "                                              min_weight_fraction_leaf=0.0,\n",
       "                                              presort='deprecated',\n",
       "                                              random_state=4325,\n",
       "                                              splitter='best'),\n",
       "             iid='deprecated', n_jobs=-1,\n",
       "             param_grid={'max_depth': [3, 5, 10, 20, 30, 50, 70, 100, 140],\n",
       "                         'max_features': [None, 'auto', 2, 3, 4],\n",
       "                         'min_samples_leaf': [1, 2, 3, 4, 5],\n",
       "                         'min_samples_split': [2, 4, 8, 10, 12]},\n",
       "             pre_dispatch='2*n_jobs', refit=True, return_train_score=False,\n",
       "             scoring=None, verbose=0)"
      ]
     },
     "execution_count": 22,
     "metadata": {},
     "output_type": "execute_result"
    }
   ],
   "source": [
    "# Create the parameter grid based on the results of random search \n",
    "param_grid = {\n",
    "    'max_depth': [3, 5, 10, 20, 30, 50, 70, 100, 140],\n",
    "    'max_features': [None, \"auto\", 2, 3, 4],\n",
    "    'min_samples_leaf': [1, 2, 3, 4, 5],\n",
    "    'min_samples_split': [2, 4, 8, 10, 12]\n",
    "}\n",
    "\n",
    "# Instantiate the grid search model\n",
    "grid_search = GridSearchCV(estimator = dt, param_grid = param_grid, \n",
    "                          cv = 3, n_jobs =-1)\n",
    "# Fit the model against the grid of hyperparams\n",
    "grid_search.fit(X_train,y_train)"
   ]
  },
  {
   "cell_type": "code",
   "execution_count": 23,
   "metadata": {},
   "outputs": [
    {
     "name": "stdout",
     "output_type": "stream",
     "text": [
      "{'max_depth': 3, 'max_features': None, 'min_samples_leaf': 4, 'min_samples_split': 2}\n"
     ]
    }
   ],
   "source": [
    "print(grid_search.best_params_)"
   ]
  },
  {
   "cell_type": "code",
   "execution_count": 24,
   "metadata": {
    "scrolled": false
   },
   "outputs": [
    {
     "data": {
      "text/html": [
       "<style  type=\"text/css\" >\n",
       "    #T_e699991a_1a56_11ea_b901_000d3a64a493 caption {\n",
       "          font-size: 120%;\n",
       "          color: black;\n",
       "          text-align: center;\n",
       "    }</style><table id=\"T_e699991a_1a56_11ea_b901_000d3a64a493\" ><caption>Tuned Decision Tree: Confusion Matrix</caption><thead>    <tr>        <th class=\"index_name level0\" >Predicted</th>        <th class=\"col_heading level0 col0\" >0</th>        <th class=\"col_heading level0 col1\" >1</th>    </tr>    <tr>        <th class=\"index_name level0\" >Actual</th>        <th class=\"blank\" ></th>        <th class=\"blank\" ></th>    </tr></thead><tbody>\n",
       "                <tr>\n",
       "                        <th id=\"T_e699991a_1a56_11ea_b901_000d3a64a493level0_row0\" class=\"row_heading level0 row0\" >0</th>\n",
       "                        <td id=\"T_e699991a_1a56_11ea_b901_000d3a64a493row0_col0\" class=\"data row0 col0\" >5569</td>\n",
       "                        <td id=\"T_e699991a_1a56_11ea_b901_000d3a64a493row0_col1\" class=\"data row0 col1\" >281</td>\n",
       "            </tr>\n",
       "            <tr>\n",
       "                        <th id=\"T_e699991a_1a56_11ea_b901_000d3a64a493level0_row1\" class=\"row_heading level0 row1\" >1</th>\n",
       "                        <td id=\"T_e699991a_1a56_11ea_b901_000d3a64a493row1_col0\" class=\"data row1 col0\" >1064</td>\n",
       "                        <td id=\"T_e699991a_1a56_11ea_b901_000d3a64a493row1_col1\" class=\"data row1 col1\" >586</td>\n",
       "            </tr>\n",
       "    </tbody></table>"
      ],
      "text/plain": [
       "<pandas.io.formats.style.Styler at 0x14dd9a285c0>"
      ]
     },
     "metadata": {},
     "output_type": "display_data"
    },
    {
     "name": "stdout",
     "output_type": "stream",
     "text": [
      "              precision    recall  f1-score   support\n",
      "\n",
      "           0       0.84      0.95      0.89      5850\n",
      "           1       0.68      0.36      0.47      1650\n",
      "\n",
      "    accuracy                           0.82      7500\n",
      "   macro avg       0.76      0.65      0.68      7500\n",
      "weighted avg       0.80      0.82      0.80      7500\n",
      "\n"
     ]
    }
   ],
   "source": [
    "dt_best_model = grid_search.best_estimator_\n",
    "bdt_preds = dt_best_model.predict(X_test)\n",
    "# confusion matrix\n",
    "bdt_cm = pd.DataFrame(confusion_matrix(y_test, bdt_preds), columns=np.unique(y_test), index = np.unique(y_test))\n",
    "bdt_cm.index.name = 'Actual'\n",
    "bdt_cm.columns.name = 'Predicted'\n",
    "# Show Confusion Matrix and Accuracy\n",
    "display(bdt_cm.style.set_table_styles(dfstyles).\\\n",
    "        set_caption('Tuned Decision Tree: Confusion Matrix'))\n",
    "print(classification_report(y_test, bdt_preds))"
   ]
  },
  {
   "cell_type": "code",
   "execution_count": 25,
   "metadata": {},
   "outputs": [
    {
     "data": {
      "image/png": "[encoded data removed]",
      "text/plain": [
       "<Figure size 720x432 with 2 Axes>"
      ]
     },
     "metadata": {
      "needs_background": "light"
     },
     "output_type": "display_data"
    }
   ],
   "source": [
    "# Create the parameter grid based on the results of random search \n",
    "param_grid = {'max_depth': [3, 5, 10, 20, 30, 50, 70, 100, 140], 'max_features': [None], 'min_samples_leaf': [1], 'min_samples_split': [2]}\n",
    "\n",
    "# Instantiate the grid search model\n",
    "grid_search = GridSearchCV(estimator = dt, param_grid = param_grid, \n",
    "                          cv = 3, n_jobs =-1)\n",
    "# Fit the model against the grid of hyperparams\n",
    "grid_search.fit(X_train,y_train)\n",
    "\n",
    "a.plot_grid_results(grid_search, param='max_depth', name = 'Max Tree Depth')"
   ]
  },
  {
   "cell_type": "markdown",
   "metadata": {},
   "source": [
    "### Model 2: Random Forest"
   ]
  },
  {
   "cell_type": "code",
   "execution_count": 26,
   "metadata": {},
   "outputs": [],
   "source": [
    "rf = RandomForestClassifier(random_state = randomstate)\n",
    "rf.fit(X_train,y_train)\n",
    "rf_preds = rf.predict(X_test)\n",
    "# confusion matrix\n",
    "rf_cm = pd.DataFrame(confusion_matrix(y_test, rf_preds), columns=np.unique(y_test), index = np.unique(y_test))\n",
    "rf_cm.index.name = 'Actual'\n",
    "rf_cm.columns.name = 'Predicted'"
   ]
  },
  {
   "cell_type": "code",
   "execution_count": 27,
   "metadata": {},
   "outputs": [
    {
     "data": {
      "image/png": "[encoded data removed]",
      "text/plain": [
       "<Figure size 1008x288 with 1 Axes>"
      ]
     },
     "metadata": {
      "needs_background": "light"
     },
     "output_type": "display_data"
    }
   ],
   "source": [
    "# plot feature importance\n",
    "plt.rcParams['figure.figsize'] = [14,4]\n",
    "feature_importances = pd.Series(rf.feature_importances_, index=X_train.columns)\n",
    "feature_importances.nlargest(10).plot(kind='barh')\n",
    "plt.title(\"Random Forest: Feature Importance\", size=\"14\")\n",
    "plt.show()"
   ]
  },
  {
   "cell_type": "code",
   "execution_count": 28,
   "metadata": {
    "scrolled": false
   },
   "outputs": [
    {
     "data": {
      "text/html": [
       "<style  type=\"text/css\" >\n",
       "    #T_ecdd248a_1a56_11ea_9b5d_000d3a64a493 caption {\n",
       "          font-size: 120%;\n",
       "          color: black;\n",
       "          text-align: center;\n",
       "    }</style><table id=\"T_ecdd248a_1a56_11ea_9b5d_000d3a64a493\" ><caption>Random Forest: Confusion Matrix</caption><thead>    <tr>        <th class=\"index_name level0\" >Predicted</th>        <th class=\"col_heading level0 col0\" >0</th>        <th class=\"col_heading level0 col1\" >1</th>    </tr>    <tr>        <th class=\"index_name level0\" >Actual</th>        <th class=\"blank\" ></th>        <th class=\"blank\" ></th>    </tr></thead><tbody>\n",
       "                <tr>\n",
       "                        <th id=\"T_ecdd248a_1a56_11ea_9b5d_000d3a64a493level0_row0\" class=\"row_heading level0 row0\" >0</th>\n",
       "                        <td id=\"T_ecdd248a_1a56_11ea_9b5d_000d3a64a493row0_col0\" class=\"data row0 col0\" >5537</td>\n",
       "                        <td id=\"T_ecdd248a_1a56_11ea_9b5d_000d3a64a493row0_col1\" class=\"data row0 col1\" >313</td>\n",
       "            </tr>\n",
       "            <tr>\n",
       "                        <th id=\"T_ecdd248a_1a56_11ea_9b5d_000d3a64a493level0_row1\" class=\"row_heading level0 row1\" >1</th>\n",
       "                        <td id=\"T_ecdd248a_1a56_11ea_9b5d_000d3a64a493row1_col0\" class=\"data row1 col0\" >1056</td>\n",
       "                        <td id=\"T_ecdd248a_1a56_11ea_9b5d_000d3a64a493row1_col1\" class=\"data row1 col1\" >594</td>\n",
       "            </tr>\n",
       "    </tbody></table>"
      ],
      "text/plain": [
       "<pandas.io.formats.style.Styler at 0x14dd5387dd8>"
      ]
     },
     "metadata": {},
     "output_type": "display_data"
    },
    {
     "name": "stdout",
     "output_type": "stream",
     "text": [
      "              precision    recall  f1-score   support\n",
      "\n",
      "           0       0.84      0.95      0.89      5850\n",
      "           1       0.65      0.36      0.46      1650\n",
      "\n",
      "    accuracy                           0.82      7500\n",
      "   macro avg       0.75      0.65      0.68      7500\n",
      "weighted avg       0.80      0.82      0.80      7500\n",
      "\n"
     ]
    }
   ],
   "source": [
    "# Show Confusion Matric and Accuracy\n",
    "display(rf_cm.style.set_table_styles(dfstyles).\\\n",
    "        set_caption('Random Forest: Confusion Matrix'))\n",
    "print(classification_report(y_test, rf_preds))"
   ]
  },
  {
   "cell_type": "markdown",
   "metadata": {},
   "source": [
    "#### Model 2: Random Forest - Tuning"
   ]
  },
  {
   "cell_type": "markdown",
   "metadata": {},
   "source": [
    "#### Hyperparameters to tune\n",
    "* max_depth (default=None): The maximum depth of the tree. If None, then nodes are expanded until all leaves are pure or until all leaves contain less than min_samples_split samples.\n",
    "* max_features (default=auto): The number of features to consider when looking for the best split.\n",
    "* min_samples_leaf (default=1): The minimum number of samples required to be at a leaf node. A split point at any depth will only be considered if it leaves at least min_samples_leaf training samples in each of the left and right branches. This may have the effect of smoothing the model, especially in regression.\n",
    "* min_samples_split (default=2): The minimum number of samples required to split an internal node.\n",
    "* n_estimators (default=100) = The number of trees in the forest."
   ]
  },
  {
   "cell_type": "code",
   "execution_count": 29,
   "metadata": {},
   "outputs": [
    {
     "data": {
      "text/plain": [
       "GridSearchCV(cv=3, error_score=nan,\n",
       "             estimator=RandomForestClassifier(bootstrap=True, ccp_alpha=0.0,\n",
       "                                              class_weight=None,\n",
       "                                              criterion='gini', max_depth=None,\n",
       "                                              max_features='auto',\n",
       "                                              max_leaf_nodes=None,\n",
       "                                              max_samples=None,\n",
       "                                              min_impurity_decrease=0.0,\n",
       "                                              min_impurity_split=None,\n",
       "                                              min_samples_leaf=1,\n",
       "                                              min_samples_split=2,\n",
       "                                              min_weight_fraction_leaf=0.0,\n",
       "                                              n_estimators=100, n_jobs=None,\n",
       "                                              oob_score=False,\n",
       "                                              random_state=4325, verbose=0,\n",
       "                                              warm_start=False),\n",
       "             iid='deprecated', n_jobs=-1,\n",
       "             param_grid={'max_depth': [5, 10, 15],\n",
       "                         'max_features': ['auto', 2, 4],\n",
       "                         'min_samples_leaf': [1, 2, 3, 5],\n",
       "                         'min_samples_split': [2, 4],\n",
       "                         'n_estimators': [80, 90, 100]},\n",
       "             pre_dispatch='2*n_jobs', refit=True, return_train_score=False,\n",
       "             scoring=None, verbose=0)"
      ]
     },
     "execution_count": 29,
     "metadata": {},
     "output_type": "execute_result"
    }
   ],
   "source": [
    "# Create the parameter grid based on the results of random search \n",
    "param_grid = {\n",
    "    'max_depth': [5, 10, 15],\n",
    "    'max_features': [\"auto\", 2, 4],\n",
    "    'min_samples_leaf': [1, 2, 3, 5],\n",
    "    'min_samples_split': [2, 4],\n",
    "    'n_estimators': [80, 90, 100]\n",
    "}\n",
    "\n",
    "# Instantiate the grid search model\n",
    "grid_search = GridSearchCV(estimator = rf, param_grid = param_grid, \n",
    "                          cv = 3, n_jobs =-1)\n",
    "# Fit the model against the grid of hyperparams\n",
    "grid_search.fit(X_train,y_train)"
   ]
  },
  {
   "cell_type": "code",
   "execution_count": 30,
   "metadata": {},
   "outputs": [
    {
     "name": "stdout",
     "output_type": "stream",
     "text": [
      "{'max_depth': 10, 'max_features': 'auto', 'min_samples_leaf': 5, 'min_samples_split': 2, 'n_estimators': 100}\n"
     ]
    }
   ],
   "source": [
    "print(grid_search.best_params_)"
   ]
  },
  {
   "cell_type": "code",
   "execution_count": 31,
   "metadata": {},
   "outputs": [
    {
     "data": {
      "text/html": [
       "<style  type=\"text/css\" >\n",
       "    #T_7eaa9f1a_1a57_11ea_a9bf_000d3a64a493 caption {\n",
       "          font-size: 120%;\n",
       "          color: black;\n",
       "          text-align: center;\n",
       "    }</style><table id=\"T_7eaa9f1a_1a57_11ea_a9bf_000d3a64a493\" ><caption>Tuned Random Forest: Confusion Matrix</caption><thead>    <tr>        <th class=\"index_name level0\" >Predicted</th>        <th class=\"col_heading level0 col0\" >0</th>        <th class=\"col_heading level0 col1\" >1</th>    </tr>    <tr>        <th class=\"index_name level0\" >Actual</th>        <th class=\"blank\" ></th>        <th class=\"blank\" ></th>    </tr></thead><tbody>\n",
       "                <tr>\n",
       "                        <th id=\"T_7eaa9f1a_1a57_11ea_a9bf_000d3a64a493level0_row0\" class=\"row_heading level0 row0\" >0</th>\n",
       "                        <td id=\"T_7eaa9f1a_1a57_11ea_a9bf_000d3a64a493row0_col0\" class=\"data row0 col0\" >5569</td>\n",
       "                        <td id=\"T_7eaa9f1a_1a57_11ea_a9bf_000d3a64a493row0_col1\" class=\"data row0 col1\" >281</td>\n",
       "            </tr>\n",
       "            <tr>\n",
       "                        <th id=\"T_7eaa9f1a_1a57_11ea_a9bf_000d3a64a493level0_row1\" class=\"row_heading level0 row1\" >1</th>\n",
       "                        <td id=\"T_7eaa9f1a_1a57_11ea_a9bf_000d3a64a493row1_col0\" class=\"data row1 col0\" >1064</td>\n",
       "                        <td id=\"T_7eaa9f1a_1a57_11ea_a9bf_000d3a64a493row1_col1\" class=\"data row1 col1\" >586</td>\n",
       "            </tr>\n",
       "    </tbody></table>"
      ],
      "text/plain": [
       "<pandas.io.formats.style.Styler at 0x14dd5502588>"
      ]
     },
     "metadata": {},
     "output_type": "display_data"
    },
    {
     "name": "stdout",
     "output_type": "stream",
     "text": [
      "              precision    recall  f1-score   support\n",
      "\n",
      "           0       0.84      0.96      0.89      5850\n",
      "           1       0.68      0.34      0.46      1650\n",
      "\n",
      "    accuracy                           0.82      7500\n",
      "   macro avg       0.76      0.65      0.67      7500\n",
      "weighted avg       0.80      0.82      0.80      7500\n",
      "\n"
     ]
    }
   ],
   "source": [
    "rf_best_model = grid_search.best_estimator_\n",
    "brf_preds = rf_best_model.predict(X_test)\n",
    "# confusion matrix\n",
    "brf_cm = pd.DataFrame(confusion_matrix(y_test, brf_preds), columns=np.unique(y_test), index = np.unique(y_test))\n",
    "brf_cm.index.name = 'Actual'\n",
    "brf_cm.columns.name = 'Predicted'\n",
    "# Show Confusion Matrix and Accuracy\n",
    "display(bdt_cm.style.set_table_styles(dfstyles).\\\n",
    "        set_caption('Tuned Random Forest: Confusion Matrix'))\n",
    "print(classification_report(y_test, brf_preds))"
   ]
  },
  {
   "cell_type": "code",
   "execution_count": 32,
   "metadata": {},
   "outputs": [
    {
     "data": {
      "image/png": "[encoded data removed]",
      "text/plain": [
       "<Figure size 720x432 with 2 Axes>"
      ]
     },
     "metadata": {
      "needs_background": "light"
     },
     "output_type": "display_data"
    }
   ],
   "source": [
    "# Create the parameter grid based on the results of random search \n",
    "param_grid = {'n_estimators': [10, 30, 60, 80, 90, 100], 'max_depth': [10], 'max_features': [\"auto\"], 'min_samples_leaf': [3], 'min_samples_split': [2]}\n",
    "\n",
    "# Instantiate the grid search model\n",
    "grid_search = GridSearchCV(estimator = rf, param_grid = param_grid, \n",
    "                          cv = 3, n_jobs =-1)\n",
    "# Fit the model against the grid of hyperparams\n",
    "grid_search.fit(X_train,y_train)\n",
    "\n",
    "a.plot_grid_results(grid_search, param='n_estimators', name = 'Number of trees')"
   ]
  },
  {
   "cell_type": "markdown",
   "metadata": {},
   "source": [
    "### Model 3: K Nearest Neighbors"
   ]
  },
  {
   "cell_type": "code",
   "execution_count": 33,
   "metadata": {},
   "outputs": [],
   "source": [
    "knn = KNeighborsClassifier()\n",
    "knn.fit(X_train,y_train)\n",
    "knn_preds = knn.predict(X_test)\n",
    "# confusion matrix\n",
    "knn_cm = pd.DataFrame(confusion_matrix(y_test, knn_preds), columns=np.unique(y_test), index = np.unique(y_test))\n",
    "knn_cm.index.name = 'Actual'\n",
    "knn_cm.columns.name = 'Predicted'"
   ]
  },
  {
   "cell_type": "code",
   "execution_count": 34,
   "metadata": {
    "scrolled": true
   },
   "outputs": [
    {
     "data": {
      "text/html": [
       "<style  type=\"text/css\" >\n",
       "    #T_87765dc2_1a57_11ea_a658_000d3a64a493 caption {\n",
       "          font-size: 120%;\n",
       "          color: black;\n",
       "          text-align: center;\n",
       "    }</style><table id=\"T_87765dc2_1a57_11ea_a658_000d3a64a493\" ><caption>KNN: Confusion Matrix</caption><thead>    <tr>        <th class=\"index_name level0\" >Predicted</th>        <th class=\"col_heading level0 col0\" >0</th>        <th class=\"col_heading level0 col1\" >1</th>    </tr>    <tr>        <th class=\"index_name level0\" >Actual</th>        <th class=\"blank\" ></th>        <th class=\"blank\" ></th>    </tr></thead><tbody>\n",
       "                <tr>\n",
       "                        <th id=\"T_87765dc2_1a57_11ea_a658_000d3a64a493level0_row0\" class=\"row_heading level0 row0\" >0</th>\n",
       "                        <td id=\"T_87765dc2_1a57_11ea_a658_000d3a64a493row0_col0\" class=\"data row0 col0\" >5397</td>\n",
       "                        <td id=\"T_87765dc2_1a57_11ea_a658_000d3a64a493row0_col1\" class=\"data row0 col1\" >453</td>\n",
       "            </tr>\n",
       "            <tr>\n",
       "                        <th id=\"T_87765dc2_1a57_11ea_a658_000d3a64a493level0_row1\" class=\"row_heading level0 row1\" >1</th>\n",
       "                        <td id=\"T_87765dc2_1a57_11ea_a658_000d3a64a493row1_col0\" class=\"data row1 col0\" >1104</td>\n",
       "                        <td id=\"T_87765dc2_1a57_11ea_a658_000d3a64a493row1_col1\" class=\"data row1 col1\" >546</td>\n",
       "            </tr>\n",
       "    </tbody></table>"
      ],
      "text/plain": [
       "<pandas.io.formats.style.Styler at 0x14dd9fe5a58>"
      ]
     },
     "metadata": {},
     "output_type": "display_data"
    },
    {
     "name": "stdout",
     "output_type": "stream",
     "text": [
      "              precision    recall  f1-score   support\n",
      "\n",
      "           0       0.83      0.92      0.87      5850\n",
      "           1       0.55      0.33      0.41      1650\n",
      "\n",
      "    accuracy                           0.79      7500\n",
      "   macro avg       0.69      0.63      0.64      7500\n",
      "weighted avg       0.77      0.79      0.77      7500\n",
      "\n"
     ]
    }
   ],
   "source": [
    "# Show Confusion Matric and Accuracy\n",
    "display(knn_cm.style.set_table_styles(dfstyles).\\\n",
    "        set_caption('KNN: Confusion Matrix'))\n",
    "print(classification_report(y_test, knn_preds))"
   ]
  },
  {
   "cell_type": "markdown",
   "metadata": {},
   "source": [
    "#### Model 3: K Nearest Neighbors - Tuning"
   ]
  },
  {
   "cell_type": "markdown",
   "metadata": {},
   "source": [
    "#### Hyperparameters to tune\n",
    "* n_neighbors (default=5): Number of neighbors to use by default for kneighbors queries."
   ]
  },
  {
   "cell_type": "code",
   "execution_count": 35,
   "metadata": {},
   "outputs": [
    {
     "data": {
      "text/plain": [
       "GridSearchCV(cv=3, error_score=nan,\n",
       "             estimator=KNeighborsClassifier(algorithm='auto', leaf_size=30,\n",
       "                                            metric='minkowski',\n",
       "                                            metric_params=None, n_jobs=None,\n",
       "                                            n_neighbors=5, p=2,\n",
       "                                            weights='uniform'),\n",
       "             iid='deprecated', n_jobs=-1,\n",
       "             param_grid={'n_neighbors': [3, 5, 7, 9, 11, 13, 15, 17]},\n",
       "             pre_dispatch='2*n_jobs', refit=True, return_train_score=False,\n",
       "             scoring=None, verbose=0)"
      ]
     },
     "execution_count": 35,
     "metadata": {},
     "output_type": "execute_result"
    }
   ],
   "source": [
    "# Create the parameter grid\n",
    "param_grid = {\n",
    "    'n_neighbors': [3,5,7,9,11,13,15,17]\n",
    "}\n",
    "\n",
    "# Instantiate the grid search model\n",
    "grid_search = GridSearchCV(estimator = knn, param_grid = param_grid, \n",
    "                          cv = 3, n_jobs =-1)\n",
    "# Fit the model against the grid of hyperparams\n",
    "grid_search.fit(X_train,y_train)"
   ]
  },
  {
   "cell_type": "code",
   "execution_count": 36,
   "metadata": {},
   "outputs": [
    {
     "name": "stdout",
     "output_type": "stream",
     "text": [
      "{'n_neighbors': 17}\n"
     ]
    }
   ],
   "source": [
    "print(grid_search.best_params_)"
   ]
  },
  {
   "cell_type": "code",
   "execution_count": 37,
   "metadata": {
    "scrolled": false
   },
   "outputs": [
    {
     "data": {
      "text/html": [
       "<style  type=\"text/css\" >\n",
       "    #T_8f7adce4_1a57_11ea_9c4e_000d3a64a493 caption {\n",
       "          font-size: 120%;\n",
       "          color: black;\n",
       "          text-align: center;\n",
       "    }</style><table id=\"T_8f7adce4_1a57_11ea_9c4e_000d3a64a493\" ><caption>Tuned KNN: Confusion Matrix</caption><thead>    <tr>        <th class=\"index_name level0\" >Predicted</th>        <th class=\"col_heading level0 col0\" >0</th>        <th class=\"col_heading level0 col1\" >1</th>    </tr>    <tr>        <th class=\"index_name level0\" >Actual</th>        <th class=\"blank\" ></th>        <th class=\"blank\" ></th>    </tr></thead><tbody>\n",
       "                <tr>\n",
       "                        <th id=\"T_8f7adce4_1a57_11ea_9c4e_000d3a64a493level0_row0\" class=\"row_heading level0 row0\" >0</th>\n",
       "                        <td id=\"T_8f7adce4_1a57_11ea_9c4e_000d3a64a493row0_col0\" class=\"data row0 col0\" >5564</td>\n",
       "                        <td id=\"T_8f7adce4_1a57_11ea_9c4e_000d3a64a493row0_col1\" class=\"data row0 col1\" >286</td>\n",
       "            </tr>\n",
       "            <tr>\n",
       "                        <th id=\"T_8f7adce4_1a57_11ea_9c4e_000d3a64a493level0_row1\" class=\"row_heading level0 row1\" >1</th>\n",
       "                        <td id=\"T_8f7adce4_1a57_11ea_9c4e_000d3a64a493row1_col0\" class=\"data row1 col0\" >1135</td>\n",
       "                        <td id=\"T_8f7adce4_1a57_11ea_9c4e_000d3a64a493row1_col1\" class=\"data row1 col1\" >515</td>\n",
       "            </tr>\n",
       "    </tbody></table>"
      ],
      "text/plain": [
       "<pandas.io.formats.style.Styler at 0x14dd5c20278>"
      ]
     },
     "metadata": {},
     "output_type": "display_data"
    },
    {
     "name": "stdout",
     "output_type": "stream",
     "text": [
      "              precision    recall  f1-score   support\n",
      "\n",
      "           0       0.83      0.95      0.89      5850\n",
      "           1       0.64      0.31      0.42      1650\n",
      "\n",
      "    accuracy                           0.81      7500\n",
      "   macro avg       0.74      0.63      0.65      7500\n",
      "weighted avg       0.79      0.81      0.78      7500\n",
      "\n"
     ]
    }
   ],
   "source": [
    "knn_best_model = grid_search.best_estimator_\n",
    "bknn_preds = knn_best_model.predict(X_test)\n",
    "# confusion matrix\n",
    "bknn_cm = pd.DataFrame(confusion_matrix(y_test, bknn_preds), columns=np.unique(y_test), index = np.unique(y_test))\n",
    "bknn_cm.index.name = 'Actual'\n",
    "bknn_cm.columns.name = 'Predicted'\n",
    "# Show Confusion Matrix and Accuracy\n",
    "display(bknn_cm.style.set_table_styles(dfstyles).\\\n",
    "        set_caption('Tuned KNN: Confusion Matrix'))\n",
    "print(classification_report(y_test, bknn_preds))"
   ]
  },
  {
   "cell_type": "code",
   "execution_count": 38,
   "metadata": {
    "scrolled": false
   },
   "outputs": [
    {
     "data": {
      "image/png": "[encoded data removed]",
      "text/plain": [
       "<Figure size 720x432 with 2 Axes>"
      ]
     },
     "metadata": {
      "needs_background": "light"
     },
     "output_type": "display_data"
    }
   ],
   "source": [
    "a.plot_grid_results(grid_search, param='n_neighbors', name = 'Nearest Neighbors')"
   ]
  },
  {
   "cell_type": "markdown",
   "metadata": {},
   "source": [
    "### Model 4:  Logistic Regression"
   ]
  },
  {
   "cell_type": "code",
   "execution_count": 39,
   "metadata": {},
   "outputs": [],
   "source": [
    "lr = LogisticRegression(max_iter=200)\n",
    "lr.fit(X_train,y_train)\n",
    "lr_preds = lr.predict(X_test)\n",
    "# confusion matrix\n",
    "lr_cm = pd.DataFrame(confusion_matrix(y_test, lr_preds), columns=np.unique(y_test), index = np.unique(y_test))\n",
    "lr_cm.index.name = 'Actual'\n",
    "lr_cm.columns.name = 'Predicted'"
   ]
  },
  {
   "cell_type": "code",
   "execution_count": 40,
   "metadata": {
    "scrolled": false
   },
   "outputs": [
    {
     "data": {
      "text/html": [
       "<style  type=\"text/css\" >\n",
       "    #T_8ffb5606_1a57_11ea_9ac0_000d3a64a493 caption {\n",
       "          font-size: 120%;\n",
       "          color: black;\n",
       "          text-align: center;\n",
       "    }</style><table id=\"T_8ffb5606_1a57_11ea_9ac0_000d3a64a493\" ><caption>Logistic Regression : Confusion Matrix</caption><thead>    <tr>        <th class=\"index_name level0\" >Predicted</th>        <th class=\"col_heading level0 col0\" >0</th>        <th class=\"col_heading level0 col1\" >1</th>    </tr>    <tr>        <th class=\"index_name level0\" >Actual</th>        <th class=\"blank\" ></th>        <th class=\"blank\" ></th>    </tr></thead><tbody>\n",
       "                <tr>\n",
       "                        <th id=\"T_8ffb5606_1a57_11ea_9ac0_000d3a64a493level0_row0\" class=\"row_heading level0 row0\" >0</th>\n",
       "                        <td id=\"T_8ffb5606_1a57_11ea_9ac0_000d3a64a493row0_col0\" class=\"data row0 col0\" >5614</td>\n",
       "                        <td id=\"T_8ffb5606_1a57_11ea_9ac0_000d3a64a493row0_col1\" class=\"data row0 col1\" >236</td>\n",
       "            </tr>\n",
       "            <tr>\n",
       "                        <th id=\"T_8ffb5606_1a57_11ea_9ac0_000d3a64a493level0_row1\" class=\"row_heading level0 row1\" >1</th>\n",
       "                        <td id=\"T_8ffb5606_1a57_11ea_9ac0_000d3a64a493row1_col0\" class=\"data row1 col0\" >1131</td>\n",
       "                        <td id=\"T_8ffb5606_1a57_11ea_9ac0_000d3a64a493row1_col1\" class=\"data row1 col1\" >519</td>\n",
       "            </tr>\n",
       "    </tbody></table>"
      ],
      "text/plain": [
       "<pandas.io.formats.style.Styler at 0x14dd70f6978>"
      ]
     },
     "metadata": {},
     "output_type": "display_data"
    },
    {
     "name": "stdout",
     "output_type": "stream",
     "text": [
      "              precision    recall  f1-score   support\n",
      "\n",
      "           0       0.83      0.96      0.89      5850\n",
      "           1       0.69      0.31      0.43      1650\n",
      "\n",
      "    accuracy                           0.82      7500\n",
      "   macro avg       0.76      0.64      0.66      7500\n",
      "weighted avg       0.80      0.82      0.79      7500\n",
      "\n"
     ]
    }
   ],
   "source": [
    "# Show Confusion Matric and Accuracy\n",
    "display(lr_cm.style.set_table_styles(dfstyles).\\\n",
    "        set_caption('Logistic Regression : Confusion Matrix'))\n",
    "print(classification_report(y_test, lr_preds))"
   ]
  },
  {
   "cell_type": "markdown",
   "metadata": {},
   "source": [
    "#### Model 4: Logistic Regression - Tuning"
   ]
  },
  {
   "cell_type": "markdown",
   "metadata": {},
   "source": [
    "#### Hyperparameters\n",
    "* n_neighbors (default=5): Number of neighbors to use by default for kneighbors queries."
   ]
  },
  {
   "cell_type": "code",
   "execution_count": 41,
   "metadata": {},
   "outputs": [
    {
     "data": {
      "text/plain": [
       "GridSearchCV(cv=3, error_score=nan,\n",
       "             estimator=LogisticRegression(C=1.0, class_weight=None, dual=False,\n",
       "                                          fit_intercept=True,\n",
       "                                          intercept_scaling=1, l1_ratio=None,\n",
       "                                          max_iter=200, multi_class='auto',\n",
       "                                          n_jobs=None, penalty='l2',\n",
       "                                          random_state=None, solver='lbfgs',\n",
       "                                          tol=0.0001, verbose=0,\n",
       "                                          warm_start=False),\n",
       "             iid='deprecated', n_jobs=-1,\n",
       "             param_grid={'C': [0.001, 0.01, 0.1, 1, 10, 100],\n",
       "                         'penalty': ['l1', 'l2'], 'solver': ['liblinear']},\n",
       "             pre_dispatch='2*n_jobs', refit=True, return_train_score=False,\n",
       "             scoring=None, verbose=0)"
      ]
     },
     "execution_count": 41,
     "metadata": {},
     "output_type": "execute_result"
    }
   ],
   "source": [
    "# Create the parameter grid based on the results of random search \n",
    "param_grid = {\n",
    "    'penalty' : ['l1', 'l2'],\n",
    "    'C' : [0.001,0.01,0.1,1,10,100],\n",
    "    'solver' : ['liblinear']\n",
    "}\n",
    "\n",
    "# Instantiate the grid search model\n",
    "grid_search = GridSearchCV(estimator = lr, param_grid = param_grid, \n",
    "                          cv = 3, n_jobs =-1)\n",
    "# Fit the model against the grid of hyperparams\n",
    "grid_search.fit(X_train,y_train)"
   ]
  },
  {
   "cell_type": "code",
   "execution_count": 42,
   "metadata": {},
   "outputs": [
    {
     "name": "stdout",
     "output_type": "stream",
     "text": [
      "{'C': 100, 'penalty': 'l1', 'solver': 'liblinear'}\n"
     ]
    }
   ],
   "source": [
    "print(grid_search.best_params_)"
   ]
  },
  {
   "cell_type": "code",
   "execution_count": 43,
   "metadata": {
    "scrolled": false
   },
   "outputs": [
    {
     "data": {
      "text/html": [
       "<style  type=\"text/css\" >\n",
       "    #T_945002ae_1a57_11ea_a9db_000d3a64a493 caption {\n",
       "          font-size: 120%;\n",
       "          color: black;\n",
       "          text-align: center;\n",
       "    }</style><table id=\"T_945002ae_1a57_11ea_a9db_000d3a64a493\" ><caption>Tuned Logistic Regression : Confusion Matrix</caption><thead>    <tr>        <th class=\"index_name level0\" >Predicted</th>        <th class=\"col_heading level0 col0\" >0</th>        <th class=\"col_heading level0 col1\" >1</th>    </tr>    <tr>        <th class=\"index_name level0\" >Actual</th>        <th class=\"blank\" ></th>        <th class=\"blank\" ></th>    </tr></thead><tbody>\n",
       "                <tr>\n",
       "                        <th id=\"T_945002ae_1a57_11ea_a9db_000d3a64a493level0_row0\" class=\"row_heading level0 row0\" >0</th>\n",
       "                        <td id=\"T_945002ae_1a57_11ea_a9db_000d3a64a493row0_col0\" class=\"data row0 col0\" >5597</td>\n",
       "                        <td id=\"T_945002ae_1a57_11ea_a9db_000d3a64a493row0_col1\" class=\"data row0 col1\" >253</td>\n",
       "            </tr>\n",
       "            <tr>\n",
       "                        <th id=\"T_945002ae_1a57_11ea_a9db_000d3a64a493level0_row1\" class=\"row_heading level0 row1\" >1</th>\n",
       "                        <td id=\"T_945002ae_1a57_11ea_a9db_000d3a64a493row1_col0\" class=\"data row1 col0\" >1111</td>\n",
       "                        <td id=\"T_945002ae_1a57_11ea_a9db_000d3a64a493row1_col1\" class=\"data row1 col1\" >539</td>\n",
       "            </tr>\n",
       "    </tbody></table>"
      ],
      "text/plain": [
       "<pandas.io.formats.style.Styler at 0x14dd70a2898>"
      ]
     },
     "metadata": {},
     "output_type": "display_data"
    },
    {
     "name": "stdout",
     "output_type": "stream",
     "text": [
      "              precision    recall  f1-score   support\n",
      "\n",
      "           0       0.83      0.96      0.89      5850\n",
      "           1       0.68      0.33      0.44      1650\n",
      "\n",
      "    accuracy                           0.82      7500\n",
      "   macro avg       0.76      0.64      0.67      7500\n",
      "weighted avg       0.80      0.82      0.79      7500\n",
      "\n"
     ]
    }
   ],
   "source": [
    "lr_best_model = grid_search.best_estimator_\n",
    "blr_preds = lr_best_model.predict(X_test)\n",
    "# confusion matrix\n",
    "blr_cm = pd.DataFrame(confusion_matrix(y_test, blr_preds), columns=np.unique(y_test), index = np.unique(y_test))\n",
    "blr_cm.index.name = 'Actual'\n",
    "blr_cm.columns.name = 'Predicted'\n",
    "# Show Confusion Matrix and Accuracy\n",
    "display(blr_cm.style.set_table_styles(dfstyles).set_caption('Tuned Logistic Regression : Confusion Matrix'))\n",
    "print(classification_report(y_test, blr_preds))"
   ]
  },
  {
   "cell_type": "code",
   "execution_count": 44,
   "metadata": {
    "scrolled": false
   },
   "outputs": [
    {
     "data": {
      "image/png": "[encoded data removed]",
      "text/plain": [
       "<Figure size 720x432 with 2 Axes>"
      ]
     },
     "metadata": {
      "needs_background": "light"
     },
     "output_type": "display_data"
    }
   ],
   "source": [
    "# Create the parameter grid based on the results of random search \n",
    "param_grid = {\n",
    "    'penalty' : ['l1'],\n",
    "    #'C' : np.logspace(-4, 4, 20),\n",
    "    'C' : [0.001,0.01,0.1,1,10,100],\n",
    "    'solver' : ['liblinear']\n",
    "}\n",
    "\n",
    "# Instantiate the grid search model\n",
    "grid_search = GridSearchCV(estimator = lr, param_grid = param_grid, \n",
    "                          cv = 3, n_jobs =-1)\n",
    "# Fit the model against the grid of hyperparams\n",
    "grid_search.fit(X_train,y_train)\n",
    "a.plot_grid_results(grid_search, param='C', name = 'C')"
   ]
  },
  {
   "cell_type": "markdown",
   "metadata": {},
   "source": [
    "## Modelling: Cost sensative learning"
   ]
  },
  {
   "cell_type": "markdown",
   "metadata": {},
   "source": [
    "### Cost Matrix"
   ]
  },
  {
   "cell_type": "code",
   "execution_count": 76,
   "metadata": {},
   "outputs": [
    {
     "data": {
      "text/html": [
       "<style  type=\"text/css\" >\n",
       "    #T_8738a3ee_1a5f_11ea_9394_000d3a64a493 caption {\n",
       "          font-size: 120%;\n",
       "          color: black;\n",
       "          text-align: center;\n",
       "    }</style><table id=\"T_8738a3ee_1a5f_11ea_9394_000d3a64a493\" ><caption>Cost Matrix</caption><thead>    <tr>        <th class=\"blank level0\" ></th>        <th class=\"col_heading level0 col0\" >fp</th>        <th class=\"col_heading level0 col1\" >fn</th>        <th class=\"col_heading level0 col2\" >tp</th>        <th class=\"col_heading level0 col3\" >tn</th>    </tr></thead><tbody>\n",
       "                <tr>\n",
       "                        <th id=\"T_8738a3ee_1a5f_11ea_9394_000d3a64a493level0_row0\" class=\"row_heading level0 row0\" >0</th>\n",
       "                        <td id=\"T_8738a3ee_1a5f_11ea_9394_000d3a64a493row0_col0\" class=\"data row0 col0\" >1</td>\n",
       "                        <td id=\"T_8738a3ee_1a5f_11ea_9394_000d3a64a493row0_col1\" class=\"data row0 col1\" >5</td>\n",
       "                        <td id=\"T_8738a3ee_1a5f_11ea_9394_000d3a64a493row0_col2\" class=\"data row0 col2\" >0</td>\n",
       "                        <td id=\"T_8738a3ee_1a5f_11ea_9394_000d3a64a493row0_col3\" class=\"data row0 col3\" >0</td>\n",
       "            </tr>\n",
       "    </tbody></table>"
      ],
      "text/plain": [
       "<pandas.io.formats.style.Styler at 0x14de2abab70>"
      ]
     },
     "metadata": {},
     "output_type": "display_data"
    }
   ],
   "source": [
    "# Create Cost Matrix\n",
    "cost_mat_train = np.zeros((len(y_train), 4))\n",
    "cost_mat_test = np.zeros((len(y_train), 4))\n",
    "\n",
    "# Assign values\n",
    "cost_mat_train[:, 0] = 1 # false_positive_cost\n",
    "cost_mat_train[:, 1] = 5 # false_negative_cost\n",
    "cost_mat_train[:, 2] = 0 # true_positive_cost\n",
    "cost_mat_train[:, 3] = 0 # true_negative_cost\n",
    "\n",
    "cost_mat_test[:, 0] = 1 # false_positive_cost\n",
    "cost_mat_test[:, 1] = 5 # false_negative_cost\n",
    "cost_mat_test[:, 2] = 0 # true_positive_cost\n",
    "cost_mat_test[:, 3] = 0 # true_negative_cost\n",
    "\n",
    "# Show Confusion Matrix\n",
    "cm_df = pd.DataFrame(cost_mat_train, columns = ['fp','fn','tp','tn']).head(1)\n",
    "display(cm_df.style.set_table_styles(dfstyles).set_caption('Cost Matrix'))"
   ]
  },
  {
   "cell_type": "code",
   "execution_count": 74,
   "metadata": {},
   "outputs": [
    {
     "data": {
      "text/plain": [
       "array([[5., 1., 0., 0.],\n",
       "       [5., 1., 0., 0.],\n",
       "       [5., 1., 0., 0.],\n",
       "       ...,\n",
       "       [5., 1., 0., 0.],\n",
       "       [5., 1., 0., 0.],\n",
       "       [5., 1., 0., 0.]])"
      ]
     },
     "execution_count": 74,
     "metadata": {},
     "output_type": "execute_result"
    }
   ],
   "source": [
    "cost_mat_train"
   ]
  },
  {
   "cell_type": "markdown",
   "metadata": {},
   "source": [
    "### Model 1: Cost Sensitive Decision Tree"
   ]
  },
  {
   "cell_type": "code",
   "execution_count": 77,
   "metadata": {},
   "outputs": [
    {
     "ename": "TypeError",
     "evalue": "'(slice(None, None, None), 10)' is an invalid key",
     "output_type": "error",
     "traceback": [
      "\u001b[1;31m---------------------------------------------------------------------------\u001b[0m",
      "\u001b[1;31mTypeError\u001b[0m                                 Traceback (most recent call last)",
      "\u001b[1;32m<ipython-input-77-93548b7415c0>\u001b[0m in \u001b[0;36m<module>\u001b[1;34m\u001b[0m\n\u001b[0;32m      1\u001b[0m \u001b[0mcsdt\u001b[0m \u001b[1;33m=\u001b[0m \u001b[0mCostSensitiveDecisionTreeClassifier\u001b[0m\u001b[1;33m(\u001b[0m\u001b[1;33m)\u001b[0m\u001b[1;33m\u001b[0m\u001b[1;33m\u001b[0m\u001b[0m\n\u001b[0;32m      2\u001b[0m \u001b[0mcsdt\u001b[0m\u001b[1;33m.\u001b[0m\u001b[0mfit\u001b[0m\u001b[1;33m(\u001b[0m\u001b[0mnp\u001b[0m\u001b[1;33m.\u001b[0m\u001b[0marray\u001b[0m\u001b[1;33m(\u001b[0m\u001b[0mX_train\u001b[0m\u001b[1;33m)\u001b[0m\u001b[1;33m,\u001b[0m\u001b[0mnp\u001b[0m\u001b[1;33m.\u001b[0m\u001b[0marray\u001b[0m\u001b[1;33m(\u001b[0m\u001b[0my_train\u001b[0m\u001b[1;33m)\u001b[0m\u001b[1;33m,\u001b[0m \u001b[0mcost_mat_train\u001b[0m\u001b[1;33m)\u001b[0m\u001b[1;33m\u001b[0m\u001b[1;33m\u001b[0m\u001b[0m\n\u001b[1;32m----> 3\u001b[1;33m \u001b[0mcsdt_preds\u001b[0m \u001b[1;33m=\u001b[0m \u001b[0mcsdt\u001b[0m\u001b[1;33m.\u001b[0m\u001b[0mpredict\u001b[0m\u001b[1;33m(\u001b[0m\u001b[0mX_test\u001b[0m\u001b[1;33m)\u001b[0m\u001b[1;33m\u001b[0m\u001b[1;33m\u001b[0m\u001b[0m\n\u001b[0m\u001b[0;32m      4\u001b[0m \u001b[1;31m# confusion matrix\u001b[0m\u001b[1;33m\u001b[0m\u001b[1;33m\u001b[0m\u001b[1;33m\u001b[0m\u001b[0m\n\u001b[0;32m      5\u001b[0m \u001b[0mcsdt_cm\u001b[0m \u001b[1;33m=\u001b[0m \u001b[0mpd\u001b[0m\u001b[1;33m.\u001b[0m\u001b[0mDataFrame\u001b[0m\u001b[1;33m(\u001b[0m\u001b[0mconfusion_matrix\u001b[0m\u001b[1;33m(\u001b[0m\u001b[0my_test\u001b[0m\u001b[1;33m,\u001b[0m \u001b[0mcsdt_preds\u001b[0m\u001b[1;33m)\u001b[0m\u001b[1;33m,\u001b[0m \u001b[0mcolumns\u001b[0m\u001b[1;33m=\u001b[0m\u001b[0mnp\u001b[0m\u001b[1;33m.\u001b[0m\u001b[0munique\u001b[0m\u001b[1;33m(\u001b[0m\u001b[0my_test\u001b[0m\u001b[1;33m)\u001b[0m\u001b[1;33m,\u001b[0m \u001b[0mindex\u001b[0m \u001b[1;33m=\u001b[0m \u001b[0mnp\u001b[0m\u001b[1;33m.\u001b[0m\u001b[0munique\u001b[0m\u001b[1;33m(\u001b[0m\u001b[0my_test\u001b[0m\u001b[1;33m)\u001b[0m\u001b[1;33m)\u001b[0m\u001b[1;33m\u001b[0m\u001b[1;33m\u001b[0m\u001b[0m\n",
      "\u001b[1;32m~\\Anaconda3\\lib\\site-packages\\costcla\\models\\cost_tree.py\u001b[0m in \u001b[0;36mpredict\u001b[1;34m(self, X)\u001b[0m\n\u001b[0;32m    535\u001b[0m             \u001b[0mtree_\u001b[0m \u001b[1;33m=\u001b[0m \u001b[0mself\u001b[0m\u001b[1;33m.\u001b[0m\u001b[0mtree_\u001b[0m\u001b[1;33m.\u001b[0m\u001b[0mtree\u001b[0m\u001b[1;33m\u001b[0m\u001b[1;33m\u001b[0m\u001b[0m\n\u001b[0;32m    536\u001b[0m \u001b[1;33m\u001b[0m\u001b[0m\n\u001b[1;32m--> 537\u001b[1;33m         \u001b[1;32mreturn\u001b[0m \u001b[0mself\u001b[0m\u001b[1;33m.\u001b[0m\u001b[0m_classify\u001b[0m\u001b[1;33m(\u001b[0m\u001b[0mX\u001b[0m\u001b[1;33m,\u001b[0m \u001b[0mtree_\u001b[0m\u001b[1;33m,\u001b[0m \u001b[0mproba\u001b[0m\u001b[1;33m=\u001b[0m\u001b[1;32mFalse\u001b[0m\u001b[1;33m)\u001b[0m\u001b[1;33m\u001b[0m\u001b[1;33m\u001b[0m\u001b[0m\n\u001b[0m\u001b[0;32m    538\u001b[0m \u001b[1;33m\u001b[0m\u001b[0m\n\u001b[0;32m    539\u001b[0m     \u001b[1;32mdef\u001b[0m \u001b[0mpredict_proba\u001b[0m\u001b[1;33m(\u001b[0m\u001b[0mself\u001b[0m\u001b[1;33m,\u001b[0m \u001b[0mX\u001b[0m\u001b[1;33m)\u001b[0m\u001b[1;33m:\u001b[0m\u001b[1;33m\u001b[0m\u001b[1;33m\u001b[0m\u001b[0m\n",
      "\u001b[1;32m~\\Anaconda3\\lib\\site-packages\\costcla\\models\\cost_tree.py\u001b[0m in \u001b[0;36m_classify\u001b[1;34m(self, X, tree, proba)\u001b[0m\n\u001b[0;32m    498\u001b[0m         \u001b[1;32melse\u001b[0m\u001b[1;33m:\u001b[0m\u001b[1;33m\u001b[0m\u001b[1;33m\u001b[0m\u001b[0m\n\u001b[0;32m    499\u001b[0m             \u001b[0mj\u001b[0m\u001b[1;33m,\u001b[0m \u001b[0ml\u001b[0m \u001b[1;33m=\u001b[0m \u001b[0mtree\u001b[0m\u001b[1;33m[\u001b[0m\u001b[1;34m'split'\u001b[0m\u001b[1;33m]\u001b[0m\u001b[1;33m\u001b[0m\u001b[1;33m\u001b[0m\u001b[0m\n\u001b[1;32m--> 500\u001b[1;33m             \u001b[0mfilter_Xl\u001b[0m \u001b[1;33m=\u001b[0m \u001b[1;33m(\u001b[0m\u001b[0mX\u001b[0m\u001b[1;33m[\u001b[0m\u001b[1;33m:\u001b[0m\u001b[1;33m,\u001b[0m \u001b[0mj\u001b[0m\u001b[1;33m]\u001b[0m \u001b[1;33m<=\u001b[0m \u001b[0ml\u001b[0m\u001b[1;33m)\u001b[0m\u001b[1;33m\u001b[0m\u001b[1;33m\u001b[0m\u001b[0m\n\u001b[0m\u001b[0;32m    501\u001b[0m             \u001b[0mfilter_Xr\u001b[0m \u001b[1;33m=\u001b[0m \u001b[1;33m~\u001b[0m\u001b[0mfilter_Xl\u001b[0m\u001b[1;33m\u001b[0m\u001b[1;33m\u001b[0m\u001b[0m\n\u001b[0;32m    502\u001b[0m             \u001b[0mn_samples_Xl\u001b[0m \u001b[1;33m=\u001b[0m \u001b[0mnp\u001b[0m\u001b[1;33m.\u001b[0m\u001b[0mnonzero\u001b[0m\u001b[1;33m(\u001b[0m\u001b[0mfilter_Xl\u001b[0m\u001b[1;33m)\u001b[0m\u001b[1;33m[\u001b[0m\u001b[1;36m0\u001b[0m\u001b[1;33m]\u001b[0m\u001b[1;33m.\u001b[0m\u001b[0mshape\u001b[0m\u001b[1;33m[\u001b[0m\u001b[1;36m0\u001b[0m\u001b[1;33m]\u001b[0m\u001b[1;33m\u001b[0m\u001b[1;33m\u001b[0m\u001b[0m\n",
      "\u001b[1;32m~\\Anaconda3\\lib\\site-packages\\pandas\\core\\frame.py\u001b[0m in \u001b[0;36m__getitem__\u001b[1;34m(self, key)\u001b[0m\n\u001b[0;32m   2925\u001b[0m             \u001b[1;32mif\u001b[0m \u001b[0mself\u001b[0m\u001b[1;33m.\u001b[0m\u001b[0mcolumns\u001b[0m\u001b[1;33m.\u001b[0m\u001b[0mnlevels\u001b[0m \u001b[1;33m>\u001b[0m \u001b[1;36m1\u001b[0m\u001b[1;33m:\u001b[0m\u001b[1;33m\u001b[0m\u001b[1;33m\u001b[0m\u001b[0m\n\u001b[0;32m   2926\u001b[0m                 \u001b[1;32mreturn\u001b[0m \u001b[0mself\u001b[0m\u001b[1;33m.\u001b[0m\u001b[0m_getitem_multilevel\u001b[0m\u001b[1;33m(\u001b[0m\u001b[0mkey\u001b[0m\u001b[1;33m)\u001b[0m\u001b[1;33m\u001b[0m\u001b[1;33m\u001b[0m\u001b[0m\n\u001b[1;32m-> 2927\u001b[1;33m             \u001b[0mindexer\u001b[0m \u001b[1;33m=\u001b[0m \u001b[0mself\u001b[0m\u001b[1;33m.\u001b[0m\u001b[0mcolumns\u001b[0m\u001b[1;33m.\u001b[0m\u001b[0mget_loc\u001b[0m\u001b[1;33m(\u001b[0m\u001b[0mkey\u001b[0m\u001b[1;33m)\u001b[0m\u001b[1;33m\u001b[0m\u001b[1;33m\u001b[0m\u001b[0m\n\u001b[0m\u001b[0;32m   2928\u001b[0m             \u001b[1;32mif\u001b[0m \u001b[0mis_integer\u001b[0m\u001b[1;33m(\u001b[0m\u001b[0mindexer\u001b[0m\u001b[1;33m)\u001b[0m\u001b[1;33m:\u001b[0m\u001b[1;33m\u001b[0m\u001b[1;33m\u001b[0m\u001b[0m\n\u001b[0;32m   2929\u001b[0m                 \u001b[0mindexer\u001b[0m \u001b[1;33m=\u001b[0m \u001b[1;33m[\u001b[0m\u001b[0mindexer\u001b[0m\u001b[1;33m]\u001b[0m\u001b[1;33m\u001b[0m\u001b[1;33m\u001b[0m\u001b[0m\n",
      "\u001b[1;32m~\\Anaconda3\\lib\\site-packages\\pandas\\core\\indexes\\base.py\u001b[0m in \u001b[0;36mget_loc\u001b[1;34m(self, key, method, tolerance)\u001b[0m\n\u001b[0;32m   2655\u001b[0m                                  'backfill or nearest lookups')\n\u001b[0;32m   2656\u001b[0m             \u001b[1;32mtry\u001b[0m\u001b[1;33m:\u001b[0m\u001b[1;33m\u001b[0m\u001b[1;33m\u001b[0m\u001b[0m\n\u001b[1;32m-> 2657\u001b[1;33m                 \u001b[1;32mreturn\u001b[0m \u001b[0mself\u001b[0m\u001b[1;33m.\u001b[0m\u001b[0m_engine\u001b[0m\u001b[1;33m.\u001b[0m\u001b[0mget_loc\u001b[0m\u001b[1;33m(\u001b[0m\u001b[0mkey\u001b[0m\u001b[1;33m)\u001b[0m\u001b[1;33m\u001b[0m\u001b[1;33m\u001b[0m\u001b[0m\n\u001b[0m\u001b[0;32m   2658\u001b[0m             \u001b[1;32mexcept\u001b[0m \u001b[0mKeyError\u001b[0m\u001b[1;33m:\u001b[0m\u001b[1;33m\u001b[0m\u001b[1;33m\u001b[0m\u001b[0m\n\u001b[0;32m   2659\u001b[0m                 \u001b[1;32mreturn\u001b[0m \u001b[0mself\u001b[0m\u001b[1;33m.\u001b[0m\u001b[0m_engine\u001b[0m\u001b[1;33m.\u001b[0m\u001b[0mget_loc\u001b[0m\u001b[1;33m(\u001b[0m\u001b[0mself\u001b[0m\u001b[1;33m.\u001b[0m\u001b[0m_maybe_cast_indexer\u001b[0m\u001b[1;33m(\u001b[0m\u001b[0mkey\u001b[0m\u001b[1;33m)\u001b[0m\u001b[1;33m)\u001b[0m\u001b[1;33m\u001b[0m\u001b[1;33m\u001b[0m\u001b[0m\n",
      "\u001b[1;32mpandas/_libs/index.pyx\u001b[0m in \u001b[0;36mpandas._libs.index.IndexEngine.get_loc\u001b[1;34m()\u001b[0m\n",
      "\u001b[1;32mpandas/_libs/index.pyx\u001b[0m in \u001b[0;36mpandas._libs.index.IndexEngine.get_loc\u001b[1;34m()\u001b[0m\n",
      "\u001b[1;31mTypeError\u001b[0m: '(slice(None, None, None), 10)' is an invalid key"
     ]
    }
   ],
   "source": [
    "csdt = CostSensitiveDecisionTreeClassifier()\n",
    "csdt.fit(np.array(X_train),np.array(y_train), cost_mat_train)\n",
    "csdt_preds = csdt.predict(X_test)\n",
    "# confusion matrix\n",
    "csdt_cm = pd.DataFrame(confusion_matrix(y_test, csdt_preds), columns=np.unique(y_test), index = np.unique(y_test))\n",
    "csdt_cm.index.name = 'Actual'\n",
    "csdt_cm.columns.name = 'Predicted'\n",
    "\n",
    "csdt_cost = a.computecost(csdt_cm) \n",
    "dt_cost = a.computecost(dt_cm)\n",
    "\n",
    "display(csdt_cm.style.set_table_styles(dfstyles).set_caption('Cost Sensative Decision Tree: Confusion Matrix'))\n",
    "print('Cost Sensative Decision Tree Cost = ',csdt_cost.values.sum())"
   ]
  },
  {
   "cell_type": "code",
   "execution_count": 47,
   "metadata": {},
   "outputs": [
    {
     "data": {
      "text/html": [
       "<style  type=\"text/css\" >\n",
       "    #T_9ab048c2_1a57_11ea_a55b_000d3a64a493 caption {\n",
       "          font-size: 120%;\n",
       "          color: black;\n",
       "          text-align: center;\n",
       "    }</style><table id=\"T_9ab048c2_1a57_11ea_a55b_000d3a64a493\" ><caption>Decision Tree: Confusion Matrix</caption><thead>    <tr>        <th class=\"index_name level0\" >Predicted</th>        <th class=\"col_heading level0 col0\" >0</th>        <th class=\"col_heading level0 col1\" >1</th>    </tr>    <tr>        <th class=\"index_name level0\" >Actual</th>        <th class=\"blank\" ></th>        <th class=\"blank\" ></th>    </tr></thead><tbody>\n",
       "                <tr>\n",
       "                        <th id=\"T_9ab048c2_1a57_11ea_a55b_000d3a64a493level0_row0\" class=\"row_heading level0 row0\" >0</th>\n",
       "                        <td id=\"T_9ab048c2_1a57_11ea_a55b_000d3a64a493row0_col0\" class=\"data row0 col0\" >4751</td>\n",
       "                        <td id=\"T_9ab048c2_1a57_11ea_a55b_000d3a64a493row0_col1\" class=\"data row0 col1\" >1099</td>\n",
       "            </tr>\n",
       "            <tr>\n",
       "                        <th id=\"T_9ab048c2_1a57_11ea_a55b_000d3a64a493level0_row1\" class=\"row_heading level0 row1\" >1</th>\n",
       "                        <td id=\"T_9ab048c2_1a57_11ea_a55b_000d3a64a493row1_col0\" class=\"data row1 col0\" >994</td>\n",
       "                        <td id=\"T_9ab048c2_1a57_11ea_a55b_000d3a64a493row1_col1\" class=\"data row1 col1\" >656</td>\n",
       "            </tr>\n",
       "    </tbody></table>"
      ],
      "text/plain": [
       "<pandas.io.formats.style.Styler at 0x14dd9ffea58>"
      ]
     },
     "metadata": {},
     "output_type": "display_data"
    },
    {
     "name": "stdout",
     "output_type": "stream",
     "text": [
      "Decision Tree Cost =  6069\n"
     ]
    }
   ],
   "source": [
    "display(dt_cm.style.set_table_styles(dfstyles).set_caption('Decision Tree: Confusion Matrix'))\n",
    "print('Decision Tree Cost = ',dt_cost.values.sum())"
   ]
  },
  {
   "cell_type": "markdown",
   "metadata": {},
   "source": [
    "### Model 2: Cost Sensitive Logistic Regression"
   ]
  },
  {
   "cell_type": "code",
   "execution_count": 48,
   "metadata": {},
   "outputs": [
    {
     "data": {
      "text/html": [
       "<style  type=\"text/css\" >\n",
       "    #T_a06a7fe6_1a57_11ea_bb39_000d3a64a493 caption {\n",
       "          font-size: 120%;\n",
       "          color: black;\n",
       "          text-align: center;\n",
       "    }</style><table id=\"T_a06a7fe6_1a57_11ea_bb39_000d3a64a493\" ><caption>Cost Sensative Logistic Regression: Confusion Matrix</caption><thead>    <tr>        <th class=\"index_name level0\" >Predicted</th>        <th class=\"col_heading level0 col0\" >0</th>        <th class=\"col_heading level0 col1\" >1</th>    </tr>    <tr>        <th class=\"index_name level0\" >Actual</th>        <th class=\"blank\" ></th>        <th class=\"blank\" ></th>    </tr></thead><tbody>\n",
       "                <tr>\n",
       "                        <th id=\"T_a06a7fe6_1a57_11ea_bb39_000d3a64a493level0_row0\" class=\"row_heading level0 row0\" >0</th>\n",
       "                        <td id=\"T_a06a7fe6_1a57_11ea_bb39_000d3a64a493row0_col0\" class=\"data row0 col0\" >5850</td>\n",
       "                        <td id=\"T_a06a7fe6_1a57_11ea_bb39_000d3a64a493row0_col1\" class=\"data row0 col1\" >0</td>\n",
       "            </tr>\n",
       "            <tr>\n",
       "                        <th id=\"T_a06a7fe6_1a57_11ea_bb39_000d3a64a493level0_row1\" class=\"row_heading level0 row1\" >1</th>\n",
       "                        <td id=\"T_a06a7fe6_1a57_11ea_bb39_000d3a64a493row1_col0\" class=\"data row1 col0\" >1650</td>\n",
       "                        <td id=\"T_a06a7fe6_1a57_11ea_bb39_000d3a64a493row1_col1\" class=\"data row1 col1\" >0</td>\n",
       "            </tr>\n",
       "    </tbody></table>"
      ],
      "text/plain": [
       "<pandas.io.formats.style.Styler at 0x14dd70b4630>"
      ]
     },
     "metadata": {},
     "output_type": "display_data"
    },
    {
     "name": "stdout",
     "output_type": "stream",
     "text": [
      "Cost Sensative Logistic Regression Cost =  8250\n"
     ]
    }
   ],
   "source": [
    "cslr = CostSensitiveLogisticRegression()\n",
    "cslr.fit(np.array(X_train),np.array(y_train), cost_mat_train)\n",
    "cslr_preds = cslr.predict(X_test)\n",
    "# confusion matrix\n",
    "cslr_cm = pd.DataFrame(confusion_matrix(y_test, cslr_preds), columns=np.unique(y_test), index = np.unique(y_test))\n",
    "cslr_cm.index.name = 'Actual'\n",
    "cslr_cm.columns.name = 'Predicted'\n",
    "\n",
    "cslr_cost = a.computecost(cslr_cm)\n",
    "lr_cost = a.computecost(lr_cm)\n",
    "\n",
    "display(cslr_cm.style.set_table_styles(dfstyles).set_caption('Cost Sensative Logistic Regression: Confusion Matrix'))\n",
    "print('Cost Sensative Logistic Regression Cost = ',cslr_cost.values.sum())"
   ]
  },
  {
   "cell_type": "code",
   "execution_count": 49,
   "metadata": {},
   "outputs": [
    {
     "data": {
      "text/html": [
       "<style  type=\"text/css\" >\n",
       "    #T_a06bb88c_1a57_11ea_b419_000d3a64a493 caption {\n",
       "          font-size: 120%;\n",
       "          color: black;\n",
       "          text-align: center;\n",
       "    }</style><table id=\"T_a06bb88c_1a57_11ea_b419_000d3a64a493\" ><caption>Logistic Regression: Confusion Matrix</caption><thead>    <tr>        <th class=\"index_name level0\" >Predicted</th>        <th class=\"col_heading level0 col0\" >0</th>        <th class=\"col_heading level0 col1\" >1</th>    </tr>    <tr>        <th class=\"index_name level0\" >Actual</th>        <th class=\"blank\" ></th>        <th class=\"blank\" ></th>    </tr></thead><tbody>\n",
       "                <tr>\n",
       "                        <th id=\"T_a06bb88c_1a57_11ea_b419_000d3a64a493level0_row0\" class=\"row_heading level0 row0\" >0</th>\n",
       "                        <td id=\"T_a06bb88c_1a57_11ea_b419_000d3a64a493row0_col0\" class=\"data row0 col0\" >5614</td>\n",
       "                        <td id=\"T_a06bb88c_1a57_11ea_b419_000d3a64a493row0_col1\" class=\"data row0 col1\" >236</td>\n",
       "            </tr>\n",
       "            <tr>\n",
       "                        <th id=\"T_a06bb88c_1a57_11ea_b419_000d3a64a493level0_row1\" class=\"row_heading level0 row1\" >1</th>\n",
       "                        <td id=\"T_a06bb88c_1a57_11ea_b419_000d3a64a493row1_col0\" class=\"data row1 col0\" >1131</td>\n",
       "                        <td id=\"T_a06bb88c_1a57_11ea_b419_000d3a64a493row1_col1\" class=\"data row1 col1\" >519</td>\n",
       "            </tr>\n",
       "    </tbody></table>"
      ],
      "text/plain": [
       "<pandas.io.formats.style.Styler at 0x14dd5418c18>"
      ]
     },
     "metadata": {},
     "output_type": "display_data"
    },
    {
     "name": "stdout",
     "output_type": "stream",
     "text": [
      "Logistic Regression: Cost =  5891\n"
     ]
    }
   ],
   "source": [
    "display(lr_cm.style.set_table_styles(dfstyles).set_caption('Logistic Regression: Confusion Matrix'))\n",
    "print('Logistic Regression: Cost = ',lr_cost.values.sum())"
   ]
  },
  {
   "cell_type": "markdown",
   "metadata": {},
   "source": [
    "### Model 3: Balanced Random Forest"
   ]
  },
  {
   "cell_type": "code",
   "execution_count": 50,
   "metadata": {
    "scrolled": true
   },
   "outputs": [
    {
     "data": {
      "text/html": [
       "<style  type=\"text/css\" >\n",
       "    #T_a2085390_1a57_11ea_939d_000d3a64a493 caption {\n",
       "          font-size: 120%;\n",
       "          color: black;\n",
       "          text-align: center;\n",
       "    }</style><table id=\"T_a2085390_1a57_11ea_939d_000d3a64a493\" ><caption>Cost Sensative Random Forest: Confusion Matrix</caption><thead>    <tr>        <th class=\"index_name level0\" >Predicted</th>        <th class=\"col_heading level0 col0\" >0</th>        <th class=\"col_heading level0 col1\" >1</th>    </tr>    <tr>        <th class=\"index_name level0\" >Actual</th>        <th class=\"blank\" ></th>        <th class=\"blank\" ></th>    </tr></thead><tbody>\n",
       "                <tr>\n",
       "                        <th id=\"T_a2085390_1a57_11ea_939d_000d3a64a493level0_row0\" class=\"row_heading level0 row0\" >0</th>\n",
       "                        <td id=\"T_a2085390_1a57_11ea_939d_000d3a64a493row0_col0\" class=\"data row0 col0\" >4538</td>\n",
       "                        <td id=\"T_a2085390_1a57_11ea_939d_000d3a64a493row0_col1\" class=\"data row0 col1\" >1312</td>\n",
       "            </tr>\n",
       "            <tr>\n",
       "                        <th id=\"T_a2085390_1a57_11ea_939d_000d3a64a493level0_row1\" class=\"row_heading level0 row1\" >1</th>\n",
       "                        <td id=\"T_a2085390_1a57_11ea_939d_000d3a64a493row1_col0\" class=\"data row1 col0\" >624</td>\n",
       "                        <td id=\"T_a2085390_1a57_11ea_939d_000d3a64a493row1_col1\" class=\"data row1 col1\" >1026</td>\n",
       "            </tr>\n",
       "    </tbody></table>"
      ],
      "text/plain": [
       "<pandas.io.formats.style.Styler at 0x14dd5673f28>"
      ]
     },
     "metadata": {},
     "output_type": "display_data"
    },
    {
     "name": "stdout",
     "output_type": "stream",
     "text": [
      "Cost Sensative Random Forest: Cost =  4432\n"
     ]
    }
   ],
   "source": [
    "csrf = BalancedRandomForestClassifier(random_state= randomstate)\n",
    "csrf.fit(np.array(X_train),np.array(y_train))\n",
    "csrf_preds = csrf.predict(X_test)\n",
    "# confusion matrix\n",
    "csrf_cm = pd.DataFrame(confusion_matrix(y_test, csrf_preds), columns=np.unique(y_test), index = np.unique(y_test))\n",
    "csrf_cm.index.name = 'Actual'\n",
    "csrf_cm.columns.name = 'Predicted'\n",
    "\n",
    "csrf_cost = a.computecost(csrf_cm)\n",
    "rf_cost = a.computecost(rf_cm)\n",
    "\n",
    "display(csrf_cm.style.set_table_styles(dfstyles).set_caption('Balanced Random Forest: Confusion Matrix'))\n",
    "print('Balanced Random Forest: Cost = ',csrf_cost.values.sum())"
   ]
  },
  {
   "cell_type": "code",
   "execution_count": 52,
   "metadata": {},
   "outputs": [
    {
     "data": {
      "text/html": [
       "<style  type=\"text/css\" >\n",
       "    #T_a20d5ab6_1a57_11ea_945e_000d3a64a493 caption {\n",
       "          font-size: 120%;\n",
       "          color: black;\n",
       "          text-align: center;\n",
       "    }</style><table id=\"T_a20d5ab6_1a57_11ea_945e_000d3a64a493\" ><caption>Random Forest: Confusion Matrix</caption><thead>    <tr>        <th class=\"index_name level0\" >Predicted</th>        <th class=\"col_heading level0 col0\" >0</th>        <th class=\"col_heading level0 col1\" >1</th>    </tr>    <tr>        <th class=\"index_name level0\" >Actual</th>        <th class=\"blank\" ></th>        <th class=\"blank\" ></th>    </tr></thead><tbody>\n",
       "                <tr>\n",
       "                        <th id=\"T_a20d5ab6_1a57_11ea_945e_000d3a64a493level0_row0\" class=\"row_heading level0 row0\" >0</th>\n",
       "                        <td id=\"T_a20d5ab6_1a57_11ea_945e_000d3a64a493row0_col0\" class=\"data row0 col0\" >5537</td>\n",
       "                        <td id=\"T_a20d5ab6_1a57_11ea_945e_000d3a64a493row0_col1\" class=\"data row0 col1\" >313</td>\n",
       "            </tr>\n",
       "            <tr>\n",
       "                        <th id=\"T_a20d5ab6_1a57_11ea_945e_000d3a64a493level0_row1\" class=\"row_heading level0 row1\" >1</th>\n",
       "                        <td id=\"T_a20d5ab6_1a57_11ea_945e_000d3a64a493row1_col0\" class=\"data row1 col0\" >1056</td>\n",
       "                        <td id=\"T_a20d5ab6_1a57_11ea_945e_000d3a64a493row1_col1\" class=\"data row1 col1\" >594</td>\n",
       "            </tr>\n",
       "    </tbody></table>"
      ],
      "text/plain": [
       "<pandas.io.formats.style.Styler at 0x14dd52dc080>"
      ]
     },
     "metadata": {},
     "output_type": "display_data"
    },
    {
     "name": "stdout",
     "output_type": "stream",
     "text": [
      "Random Forest Cost =  5593\n"
     ]
    }
   ],
   "source": [
    "display(rf_cm.style.set_table_styles(dfstyles).set_caption( 'Random Forest: Confusion Matrix'))\n",
    "print('Random Forest Cost = ',rf_cost.values.sum())"
   ]
  },
  {
   "cell_type": "markdown",
   "metadata": {},
   "source": [
    "#### Model 3: Balanced Random Forest - Tuning"
   ]
  },
  {
   "cell_type": "code",
   "execution_count": 55,
   "metadata": {},
   "outputs": [
    {
     "name": "stdout",
     "output_type": "stream",
     "text": [
      "{'max_depth': 10, 'max_features': 'auto', 'min_samples_leaf': 3, 'min_samples_split': 2, 'n_estimators': 90}\n"
     ]
    },
    {
     "data": {
      "text/html": [
       "<style  type=\"text/css\" >\n",
       "    #T_8f4ed190_1a59_11ea_a62e_000d3a64a493 caption {\n",
       "          font-size: 120%;\n",
       "          color: black;\n",
       "          text-align: center;\n",
       "    }</style><table id=\"T_8f4ed190_1a59_11ea_a62e_000d3a64a493\" ><caption>Tuned Cost Sensative Random Forest: Confusion Matrix</caption><thead>    <tr>        <th class=\"index_name level0\" >Predicted</th>        <th class=\"col_heading level0 col0\" >0</th>        <th class=\"col_heading level0 col1\" >1</th>    </tr>    <tr>        <th class=\"index_name level0\" >Actual</th>        <th class=\"blank\" ></th>        <th class=\"blank\" ></th>    </tr></thead><tbody>\n",
       "                <tr>\n",
       "                        <th id=\"T_8f4ed190_1a59_11ea_a62e_000d3a64a493level0_row0\" class=\"row_heading level0 row0\" >0</th>\n",
       "                        <td id=\"T_8f4ed190_1a59_11ea_a62e_000d3a64a493row0_col0\" class=\"data row0 col0\" >4673</td>\n",
       "                        <td id=\"T_8f4ed190_1a59_11ea_a62e_000d3a64a493row0_col1\" class=\"data row0 col1\" >1177</td>\n",
       "            </tr>\n",
       "            <tr>\n",
       "                        <th id=\"T_8f4ed190_1a59_11ea_a62e_000d3a64a493level0_row1\" class=\"row_heading level0 row1\" >1</th>\n",
       "                        <td id=\"T_8f4ed190_1a59_11ea_a62e_000d3a64a493row1_col0\" class=\"data row1 col0\" >633</td>\n",
       "                        <td id=\"T_8f4ed190_1a59_11ea_a62e_000d3a64a493row1_col1\" class=\"data row1 col1\" >1017</td>\n",
       "            </tr>\n",
       "    </tbody></table>"
      ],
      "text/plain": [
       "<pandas.io.formats.style.Styler at 0x14ddf2d11d0>"
      ]
     },
     "metadata": {},
     "output_type": "display_data"
    },
    {
     "name": "stdout",
     "output_type": "stream",
     "text": [
      "Best Cost Sensative Random Forest: Cost =  4342\n",
      "Best Balanced Random Forest: Balanced Accuracy 0.7075835275835276\n"
     ]
    }
   ],
   "source": [
    "# Create the parameter grid\n",
    "param_grid = {\n",
    "    'max_depth': [5, 10, 15],\n",
    "    'max_features': [\"auto\", 2, 4],\n",
    "    'min_samples_leaf': [1, 2, 3, 5],\n",
    "    'min_samples_split': [2, 4],\n",
    "    'n_estimators': [80, 90, 100]\n",
    "}\n",
    "\n",
    "# Instantiate the grid search model\n",
    "grid_search = GridSearchCV(estimator = csrf, param_grid = param_grid, \n",
    "                          cv = 3, n_jobs =-1)\n",
    "# Fit the model against the grid of hyperparams\n",
    "grid_search.fit(X_train,y_train)\n",
    "\n",
    "print(grid_search.best_params_)\n",
    "\n",
    "csrf_best_model = grid_search.best_estimator_\n",
    "bcsrf_preds = csrf_best_model.predict(X_test)\n",
    "\n",
    "# confusion matrix\n",
    "bcsrf_cm = pd.DataFrame(confusion_matrix(y_test, bcsrf_preds), columns=np.unique(y_test), index = np.unique(y_test))\n",
    "bcsrf_cm.index.name = 'Actual'\n",
    "bcsrf_cm.columns.name = 'Predicted'\n",
    "\n",
    "bcsrf_cost = a.computecost(bcsrf_cm)\n",
    "\n",
    "brf_cost = a.computecost(brf_cm)\n",
    "\n",
    "display(bcsrf_cm.style.set_table_styles(dfstyles).set_caption('Tuned Cost Sensative Random Forest: Confusion Matrix'))\n",
    "print('Best Cost Sensative Random Forest: Cost = ',bcsrf_cost.values.sum())\n",
    "print(\"Best Balanced Random Forest: Balanced Accuracy\", balanced_accuracy_score(y_test, bcsrf_preds))"
   ]
  },
  {
   "cell_type": "code",
   "execution_count": 56,
   "metadata": {},
   "outputs": [
    {
     "data": {
      "text/html": [
       "<style  type=\"text/css\" >\n",
       "    #T_1a9112e6_1a5a_11ea_af0d_000d3a64a493 caption {\n",
       "          font-size: 120%;\n",
       "          color: black;\n",
       "          text-align: center;\n",
       "    }</style><table id=\"T_1a9112e6_1a5a_11ea_af0d_000d3a64a493\" ><caption>Tuned Random Forest: Confusion Matrix</caption><thead>    <tr>        <th class=\"index_name level0\" >Predicted</th>        <th class=\"col_heading level0 col0\" >0</th>        <th class=\"col_heading level0 col1\" >1</th>    </tr>    <tr>        <th class=\"index_name level0\" >Actual</th>        <th class=\"blank\" ></th>        <th class=\"blank\" ></th>    </tr></thead><tbody>\n",
       "                <tr>\n",
       "                        <th id=\"T_1a9112e6_1a5a_11ea_af0d_000d3a64a493level0_row0\" class=\"row_heading level0 row0\" >0</th>\n",
       "                        <td id=\"T_1a9112e6_1a5a_11ea_af0d_000d3a64a493row0_col0\" class=\"data row0 col0\" >5588</td>\n",
       "                        <td id=\"T_1a9112e6_1a5a_11ea_af0d_000d3a64a493row0_col1\" class=\"data row0 col1\" >262</td>\n",
       "            </tr>\n",
       "            <tr>\n",
       "                        <th id=\"T_1a9112e6_1a5a_11ea_af0d_000d3a64a493level0_row1\" class=\"row_heading level0 row1\" >1</th>\n",
       "                        <td id=\"T_1a9112e6_1a5a_11ea_af0d_000d3a64a493row1_col0\" class=\"data row1 col0\" >1085</td>\n",
       "                        <td id=\"T_1a9112e6_1a5a_11ea_af0d_000d3a64a493row1_col1\" class=\"data row1 col1\" >565</td>\n",
       "            </tr>\n",
       "    </tbody></table>"
      ],
      "text/plain": [
       "<pandas.io.formats.style.Styler at 0x14dda8a0978>"
      ]
     },
     "metadata": {},
     "output_type": "display_data"
    },
    {
     "name": "stdout",
     "output_type": "stream",
     "text": [
      "Best Random Forest: Cost =  5593\n",
      "Random Forest: Balanced Accuracy 0.6488189588189588\n"
     ]
    }
   ],
   "source": [
    "display(brf_cm.style.set_table_styles(dfstyles).set_caption( 'Tuned Random Forest: Confusion Matrix'))\n",
    "print('Best Random Forest: Cost = ',rf_cost.values.sum())\n",
    "print(\"Random Forest: Balanced Accuracy\", balanced_accuracy_score(y_test, brf_preds))"
   ]
  },
  {
   "cell_type": "markdown",
   "metadata": {},
   "source": [
    "### Model 4: Balanced Bagging with KNN"
   ]
  },
  {
   "cell_type": "code",
   "execution_count": 66,
   "metadata": {},
   "outputs": [
    {
     "data": {
      "text/html": [
       "<style  type=\"text/css\" >\n",
       "    #T_c20d2d7e_1a5d_11ea_819d_000d3a64a493 caption {\n",
       "          font-size: 120%;\n",
       "          color: black;\n",
       "          text-align: center;\n",
       "    }</style><table id=\"T_c20d2d7e_1a5d_11ea_819d_000d3a64a493\" ><caption>Balanced KNN: Confusion Matrix</caption><thead>    <tr>        <th class=\"index_name level0\" >Predicted</th>        <th class=\"col_heading level0 col0\" >0</th>        <th class=\"col_heading level0 col1\" >1</th>    </tr>    <tr>        <th class=\"index_name level0\" >Actual</th>        <th class=\"blank\" ></th>        <th class=\"blank\" ></th>    </tr></thead><tbody>\n",
       "                <tr>\n",
       "                        <th id=\"T_c20d2d7e_1a5d_11ea_819d_000d3a64a493level0_row0\" class=\"row_heading level0 row0\" >0</th>\n",
       "                        <td id=\"T_c20d2d7e_1a5d_11ea_819d_000d3a64a493row0_col0\" class=\"data row0 col0\" >4375</td>\n",
       "                        <td id=\"T_c20d2d7e_1a5d_11ea_819d_000d3a64a493row0_col1\" class=\"data row0 col1\" >1475</td>\n",
       "            </tr>\n",
       "            <tr>\n",
       "                        <th id=\"T_c20d2d7e_1a5d_11ea_819d_000d3a64a493level0_row1\" class=\"row_heading level0 row1\" >1</th>\n",
       "                        <td id=\"T_c20d2d7e_1a5d_11ea_819d_000d3a64a493row1_col0\" class=\"data row1 col0\" >649</td>\n",
       "                        <td id=\"T_c20d2d7e_1a5d_11ea_819d_000d3a64a493row1_col1\" class=\"data row1 col1\" >1001</td>\n",
       "            </tr>\n",
       "    </tbody></table>"
      ],
      "text/plain": [
       "<pandas.io.formats.style.Styler at 0x14de29324e0>"
      ]
     },
     "metadata": {},
     "output_type": "display_data"
    },
    {
     "name": "stdout",
     "output_type": "stream",
     "text": [
      "Balanced KNN: Cost =  4720\n"
     ]
    }
   ],
   "source": [
    "csknn = BalancedBaggingClassifier(base_estimator= KNeighborsClassifier(), random_state= randomstate, n_jobs=-1)\n",
    "csknn.fit(np.array(X_train),np.array(y_train))\n",
    "csknn_preds = csknn.predict(X_test)\n",
    "# confusion matrix\n",
    "csknn_cm = pd.DataFrame(confusion_matrix(y_test, csknn_preds), columns=np.unique(y_test), index = np.unique(y_test))\n",
    "csknn_cm.index.name = 'Actual'\n",
    "csknn_cm.columns.name = 'Predicted'\n",
    "\n",
    "csknn_cost = a.computecost(csknn_cm)\n",
    "knn_cost = a.computecost(knn_cm)\n",
    "\n",
    "display(csknn_cm.style.set_table_styles(dfstyles).set_caption('Balanced KNN: Confusion Matrix'))\n",
    "print('Balanced KNN: Cost = ',csknn_cost.values.sum())"
   ]
  },
  {
   "cell_type": "code",
   "execution_count": 67,
   "metadata": {},
   "outputs": [
    {
     "data": {
      "text/html": [
       "<style  type=\"text/css\" >\n",
       "    #T_c9027a76_1a5d_11ea_ac3e_000d3a64a493 caption {\n",
       "          font-size: 120%;\n",
       "          color: black;\n",
       "          text-align: center;\n",
       "    }</style><table id=\"T_c9027a76_1a5d_11ea_ac3e_000d3a64a493\" ><caption>KNN: Confusion Matrix</caption><thead>    <tr>        <th class=\"index_name level0\" >Predicted</th>        <th class=\"col_heading level0 col0\" >0</th>        <th class=\"col_heading level0 col1\" >1</th>    </tr>    <tr>        <th class=\"index_name level0\" >Actual</th>        <th class=\"blank\" ></th>        <th class=\"blank\" ></th>    </tr></thead><tbody>\n",
       "                <tr>\n",
       "                        <th id=\"T_c9027a76_1a5d_11ea_ac3e_000d3a64a493level0_row0\" class=\"row_heading level0 row0\" >0</th>\n",
       "                        <td id=\"T_c9027a76_1a5d_11ea_ac3e_000d3a64a493row0_col0\" class=\"data row0 col0\" >5397</td>\n",
       "                        <td id=\"T_c9027a76_1a5d_11ea_ac3e_000d3a64a493row0_col1\" class=\"data row0 col1\" >453</td>\n",
       "            </tr>\n",
       "            <tr>\n",
       "                        <th id=\"T_c9027a76_1a5d_11ea_ac3e_000d3a64a493level0_row1\" class=\"row_heading level0 row1\" >1</th>\n",
       "                        <td id=\"T_c9027a76_1a5d_11ea_ac3e_000d3a64a493row1_col0\" class=\"data row1 col0\" >1104</td>\n",
       "                        <td id=\"T_c9027a76_1a5d_11ea_ac3e_000d3a64a493row1_col1\" class=\"data row1 col1\" >546</td>\n",
       "            </tr>\n",
       "    </tbody></table>"
      ],
      "text/plain": [
       "<pandas.io.formats.style.Styler at 0x14de802e588>"
      ]
     },
     "metadata": {},
     "output_type": "display_data"
    },
    {
     "name": "stdout",
     "output_type": "stream",
     "text": [
      "KNN Cost =  5973\n"
     ]
    }
   ],
   "source": [
    "display(knn_cm.style.set_table_styles(dfstyles).set_caption( 'KNN: Confusion Matrix'))\n",
    "print('KNN Cost = ',knn_cost.values.sum())"
   ]
  },
  {
   "cell_type": "markdown",
   "metadata": {},
   "source": [
    "#### Model 4: Balanced Bagging with KNN - Tuning"
   ]
  },
  {
   "cell_type": "code",
   "execution_count": 64,
   "metadata": {},
   "outputs": [
    {
     "name": "stdout",
     "output_type": "stream",
     "text": [
      "{'base_estimator__n_neighbors': 17}\n"
     ]
    },
    {
     "data": {
      "text/html": [
       "<style  type=\"text/css\" >\n",
       "    #T_87c8f91e_1a5d_11ea_9dd1_000d3a64a493 caption {\n",
       "          font-size: 120%;\n",
       "          color: black;\n",
       "          text-align: center;\n",
       "    }</style><table id=\"T_87c8f91e_1a5d_11ea_9dd1_000d3a64a493\" ><caption>Tuned Cost Sensative KNN: Confusion Matrix</caption><thead>    <tr>        <th class=\"index_name level0\" >Predicted</th>        <th class=\"col_heading level0 col0\" >0</th>        <th class=\"col_heading level0 col1\" >1</th>    </tr>    <tr>        <th class=\"index_name level0\" >Actual</th>        <th class=\"blank\" ></th>        <th class=\"blank\" ></th>    </tr></thead><tbody>\n",
       "                <tr>\n",
       "                        <th id=\"T_87c8f91e_1a5d_11ea_9dd1_000d3a64a493level0_row0\" class=\"row_heading level0 row0\" >0</th>\n",
       "                        <td id=\"T_87c8f91e_1a5d_11ea_9dd1_000d3a64a493row0_col0\" class=\"data row0 col0\" >4697</td>\n",
       "                        <td id=\"T_87c8f91e_1a5d_11ea_9dd1_000d3a64a493row0_col1\" class=\"data row0 col1\" >1153</td>\n",
       "            </tr>\n",
       "            <tr>\n",
       "                        <th id=\"T_87c8f91e_1a5d_11ea_9dd1_000d3a64a493level0_row1\" class=\"row_heading level0 row1\" >1</th>\n",
       "                        <td id=\"T_87c8f91e_1a5d_11ea_9dd1_000d3a64a493row1_col0\" class=\"data row1 col0\" >716</td>\n",
       "                        <td id=\"T_87c8f91e_1a5d_11ea_9dd1_000d3a64a493row1_col1\" class=\"data row1 col1\" >934</td>\n",
       "            </tr>\n",
       "    </tbody></table>"
      ],
      "text/plain": [
       "<pandas.io.formats.style.Styler at 0x14ddf69c1d0>"
      ]
     },
     "metadata": {},
     "output_type": "display_data"
    },
    {
     "name": "stdout",
     "output_type": "stream",
     "text": [
      "Best Cost Sensative KNN: Cost =  4733\n",
      "Best Balanced Random Forest: Balanced Accuracy 0.6844832944832945\n"
     ]
    }
   ],
   "source": [
    "# Create the parameter grid\n",
    "param_grid = {\n",
    "    'base_estimator__n_neighbors': [3,5,7,9,11,13,15,17]\n",
    "}\n",
    "\n",
    "# Instantiate the grid search model\n",
    "grid_search = GridSearchCV(estimator = csknn, param_grid = param_grid, \n",
    "                          cv = 3, n_jobs =-1, scoring='precision')\n",
    "# Fit the model against the grid of hyperparams\n",
    "grid_search.fit(X_train,y_train)\n",
    "\n",
    "print(grid_search.best_params_)\n",
    "\n",
    "csknn_best_model = grid_search.best_estimator_\n",
    "bcsknn_preds = csknn_best_model.predict(X_test)\n",
    "\n",
    "# confusion matrix\n",
    "bcsknn_cm = pd.DataFrame(confusion_matrix(y_test, bcsknn_preds), columns=np.unique(y_test), index = np.unique(y_test))\n",
    "bcsknn_cm.index.name = 'Actual'\n",
    "bcsknn_cm.columns.name = 'Predicted'\n",
    "\n",
    "bcsknn_cost = a.computecost(bcsknn_cm)\n",
    "\n",
    "bknn_cost = a.computecost(bknn_cm)\n",
    "\n",
    "display(bcsknn_cm.style.set_table_styles(dfstyles).set_caption('Tuned Cost Sensative KNN: Confusion Matrix'))\n",
    "print('Best Cost Sensative KNN: Cost = ',bcsknn_cost.values.sum())\n",
    "print(\"Best Balanced Random Forest: Balanced Accuracy\", balanced_accuracy_score(y_test, bcsknn_preds))"
   ]
  },
  {
   "cell_type": "code",
   "execution_count": 61,
   "metadata": {},
   "outputs": [
    {
     "data": {
      "text/plain": [
       "dict_keys(['base_estimator__algorithm', 'base_estimator__leaf_size', 'base_estimator__metric', 'base_estimator__metric_params', 'base_estimator__n_jobs', 'base_estimator__n_neighbors', 'base_estimator__p', 'base_estimator__weights', 'base_estimator', 'bootstrap', 'bootstrap_features', 'max_features', 'max_samples', 'n_estimators', 'n_jobs', 'oob_score', 'random_state', 'replacement', 'sampling_strategy', 'verbose', 'warm_start'])"
      ]
     },
     "execution_count": 61,
     "metadata": {},
     "output_type": "execute_result"
    }
   ],
   "source": [
    "csknn.get_params().keys()"
   ]
  },
  {
   "cell_type": "markdown",
   "metadata": {},
   "source": [
    "## Model Comparison"
   ]
  },
  {
   "cell_type": "code",
   "execution_count": null,
   "metadata": {},
   "outputs": [],
   "source": [
    "# ROC\n",
    "fpr_bdt, tpr_bdt, thresholds_bdt = roc_curve(y_test, bdt_preds)\n",
    "fpr_brf, tpr_brf, thresholds_brf = roc_curve(y_test, brf_preds)\n",
    "plt.rcParams['figure.figsize'] = [10,10]\n",
    "plt.plot(fpr_brf, tpr_brf,'r-',label = 'RF')\n",
    "plt.plot(fpr_bdt,fpr_bdt,'b-', label= 'DT')\n",
    "plt.plot([0,1],[0,1],'k-',label='random')\n",
    "plt.plot([0,0,1,1],[0,1,1,1],'g-',label='perfect')\n",
    "plt.legend()\n",
    "plt.xlabel('False Positive Rate')\n",
    "plt.ylabel('True Positive Rate')\n",
    "plt.show()"
   ]
  }
 ],
 "metadata": {
  "hide_input": false,
  "kernelspec": {
   "display_name": "Python 3",
   "language": "python",
   "name": "python3"
  },
  "language_info": {
   "codemirror_mode": {
    "name": "ipython",
    "version": 3
   },
   "file_extension": ".py",
   "mimetype": "text/x-python",
   "name": "python",
   "nbconvert_exporter": "python",
   "pygments_lexer": "ipython3",
   "version": "3.7.3"
  },
  "toc": {
   "base_numbering": 1,
   "nav_menu": {},
   "number_sections": true,
   "sideBar": true,
   "skip_h1_title": false,
   "title_cell": "Table of Contents",
   "title_sidebar": "Contents",
   "toc_cell": false,
   "toc_position": {},
   "toc_section_display": true,
   "toc_window_display": false
  },
  "varInspector": {
   "cols": {
    "lenName": 16,
    "lenType": 16,
    "lenVar": 40
   },
   "kernels_config": {
    "python": {
     "delete_cmd_postfix": "",
     "delete_cmd_prefix": "del ",
     "library": "var_list.py",
     "varRefreshCmd": "print(var_dic_list())"
    },
    "r": {
     "delete_cmd_postfix": ") ",
     "delete_cmd_prefix": "rm(",
     "library": "var_list.r",
     "varRefreshCmd": "cat(var_dic_list()) "
    }
   },
   "types_to_exclude": [
    "module",
    "function",
    "builtin_function_or_method",
    "instance",
    "_Feature"
   ],
   "window_display": false
  }
 },
 "nbformat": 4,
 "nbformat_minor": 2
}
