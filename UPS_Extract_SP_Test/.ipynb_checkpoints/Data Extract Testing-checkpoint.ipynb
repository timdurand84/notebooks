{
 "cells": [
  {
   "cell_type": "markdown",
   "metadata": {},
   "source": [
    "# Data Extract Testing"
   ]
  },
  {
   "cell_type": "code",
   "execution_count": 95,
   "metadata": {
    "ExecuteTime": {
     "end_time": "2020-03-12T10:53:22.525103Z",
     "start_time": "2020-03-12T10:53:22.524103Z"
    }
   },
   "outputs": [],
   "source": [
    "import pandas as pd\n",
    "import pandas_profiling\n",
    "import os\n",
    "# Set the styling for dataframes\n",
    "dfstyles = [\n",
    "    dict(selector=\"caption\",\n",
    "         props=[(\"font-size\", \"120%\"), (\"color\", \"black\"),\n",
    "                (\"text-align\", \"center\")])\n",
    "]\n",
    "from IPython.display import display, HTML"
   ]
  },
  {
   "cell_type": "code",
   "execution_count": 96,
   "metadata": {
    "ExecuteTime": {
     "end_time": "2020-03-12T10:53:22.768103Z",
     "start_time": "2020-03-12T10:53:22.527103Z"
    },
    "scrolled": true
   },
   "outputs": [
    {
     "data": {
      "text/html": [
       "<script>\n",
       "code_show=true; \n",
       "function code_toggle() {\n",
       " if (code_show){\n",
       " $('div.input').hide();\n",
       " } else {\n",
       " $('div.input').show();\n",
       " }\n",
       " code_show = !code_show\n",
       "} \n",
       "$( document ).ready(code_toggle);\n",
       "</script>\n",
       "<b>NOTE</b>:The code for this notebook is, by default, hidden. To display the code cells, click <a href=\"javascript:code_toggle()\">here</a>.\r\n"
      ],
      "text/plain": [
       "<IPython.core.display.HTML object>"
      ]
     },
     "execution_count": 96,
     "metadata": {},
     "output_type": "execute_result"
    }
   ],
   "source": [
    "HTML('''<script>\n",
    "code_show=true; \n",
    "function code_toggle() {\n",
    " if (code_show){\n",
    " $('div.input').hide();\n",
    " } else {\n",
    " $('div.input').show();\n",
    " }\n",
    " code_show = !code_show\n",
    "} \n",
    "$( document ).ready(code_toggle);\n",
    "</script>\n",
    "<b>NOTE</b>:The code for this notebook is, by default, hidden. To display the code cells, click <a href=\"javascript:code_toggle()\">here</a>.\\r\\n''')"
   ]
  },
  {
   "cell_type": "markdown",
   "metadata": {
    "toc": true
   },
   "source": [
    "<h1>Table of Contents<span class=\"tocSkip\"></span></h1>\n",
    "<div class=\"toc\"><ul class=\"toc-item\"><li><span><a href=\"#Problem-Statement\" data-toc-modified-id=\"Problem-Statement-1\"><span class=\"toc-item-num\">1&nbsp;&nbsp;</span>Problem Statement</a></span></li><li><span><a href=\"#Test-Data\" data-toc-modified-id=\"Test-Data-2\"><span class=\"toc-item-num\">2&nbsp;&nbsp;</span>Test Data</a></span></li><li><span><a href=\"#Test-Cases\" data-toc-modified-id=\"Test-Cases-3\"><span class=\"toc-item-num\">3&nbsp;&nbsp;</span>Test Cases</a></span><ul class=\"toc-item\"><li><span><a href=\"#Results-with-@Columnlist-=-NULL-and--@Columnlist-=-0-should-be-identical\" data-toc-modified-id=\"Results-with-@Columnlist-=-NULL-and--@Columnlist-=-0-should-be-identical-3.1\"><span class=\"toc-item-num\">3.1&nbsp;&nbsp;</span>Results with @Columnlist = NULL and  @Columnlist = 0 should be identical</a></span></li><li><span><a href=\"#Columns-in-@Columnlist-=-0-should-be-identical-to-&quot;Name&quot;-column-of-@Columnlist-=-1\" data-toc-modified-id=\"Columns-in-@Columnlist-=-0-should-be-identical-to-&quot;Name&quot;-column-of-@Columnlist-=-1-3.2\"><span class=\"toc-item-num\">3.2&nbsp;&nbsp;</span>Columns in @Columnlist = 0 should be identical to \"Name\" column of @Columnlist = 1</a></span></li><li><span><a href=\"#Column-names-have-been-changed,-check-Aicraft-Attribute-is-fixed\" data-toc-modified-id=\"Column-names-have-been-changed,-check-Aicraft-Attribute-is-fixed-3.3\"><span class=\"toc-item-num\">3.3&nbsp;&nbsp;</span>Column names have been changed, check Aicraft Attribute is fixed</a></span></li><li><span><a href=\"#Columns-have-changed-(original-SP-to-new)-but-the-data-should-be-exact\" data-toc-modified-id=\"Columns-have-changed-(original-SP-to-new)-but-the-data-should-be-exact-3.4\"><span class=\"toc-item-num\">3.4&nbsp;&nbsp;</span>Columns have changed (original SP to new) but the data should be exact</a></span></li><li><span><a href=\"#Previous-column-headers-file-should-match-the-new-headers-file\" data-toc-modified-id=\"Previous-column-headers-file-should-match-the-new-headers-file-3.5\"><span class=\"toc-item-num\">3.5&nbsp;&nbsp;</span>Previous column headers file should match the new headers file</a></span></li><li><span><a href=\"#Final-output-file-should-contain-45-days-of-data-(Actual-Departure-Date)\" data-toc-modified-id=\"Final-output-file-should-contain-45-days-of-data-(Actual-Departure-Date)-3.6\"><span class=\"toc-item-num\">3.6&nbsp;&nbsp;</span>Final output file should contain 45 days of data (Actual Departure Date)</a></span></li></ul></li></ul></div>"
   ]
  },
  {
   "cell_type": "markdown",
   "metadata": {},
   "source": [
    "## Problem Statement\n",
    "* The customer would like a reference file, mapping the system names with the friendly names in the data extract.\n",
    "* There is an issue with the current extract, whereby only the attribute code is output for dimensions meaning there are duplicate headers; the attribute code and attribute column names should be \":\" separated, if the parameter is a key. e.g. Aircraft:Registration."
   ]
  },
  {
   "cell_type": "markdown",
   "metadata": {},
   "source": [
    "## Test Data\n",
    "12 Test result files were produced by saving the output of the original SP: GetOperatorHistoricData and the updated SP.\n",
    "The original SP was run for UPS, CPA and SIA in the following configuration:\n",
    "\n",
    "`EXEC   @return_value = [MartFuel].[GetOperatorHistoricData]\n",
    "\t\t@CustomerCode = N'<OPERATOR NAME>\n",
    "\t\t@OperatorCode = NULL,\n",
    "\t\t@Fields = NULL,\n",
    "\t\t@FieldsToOrderBy = N'ActualDepartureDatetime',\n",
    "\t\t@FriendlyNames = 0,\n",
    "\t\t@DateRange = NULL,\n",
    "\t\t@DateFrom = NULL,\n",
    "\t\t@DateTo = NULL,\n",
    "\t\t@TopN = 10,\n",
    "\t\t@Columnlist = 0`\n",
    "\n",
    "\n",
    "The new SP was run with the same configuration as above, but with an additional parameter added. <BR> Values of @parametermap was varied as below:\n",
    "\n",
    "`@Columnlist = NULL\n",
    " @Columnlist = 0\n",
    " @Columnlist = 1`"
   ]
  },
  {
   "cell_type": "code",
   "execution_count": 97,
   "metadata": {
    "ExecuteTime": {
     "end_time": "2020-03-12T10:53:29.087703Z",
     "start_time": "2020-03-12T10:53:22.770103Z"
    },
    "code_folding": []
   },
   "outputs": [],
   "source": [
    "# Define sorting\n",
    "sortcols = ['ActualDepartureDatetime', 'Aircraft:Registration']\n",
    "\n",
    "# Source DIR\n",
    "sourcedir = 'H:/UPS/UPS_Extract_SP_Prod/Extract_Testing/'\n",
    "\n",
    "# Import and sort\n",
    "New_SP_0_Param_CPA_df = pd.read_csv(sourcedir +\n",
    "                                    'New_SP_0_Param_CPA.csv').sort_values(\n",
    "                                        by=sortcols)\n",
    "New_SP_0_Param_SIA_df = pd.read_csv(sourcedir +\n",
    "                                    'New_SP_0_Param_SIA.csv').sort_values(\n",
    "                                        by=sortcols)\n",
    "New_SP_0_Param_UPS_df = pd.read_csv(sourcedir +\n",
    "                                    'New_SP_0_Param_UPS.csv').sort_values(\n",
    "                                        by=sortcols)\n",
    "New_SP_1_Param_CPA_df = pd.read_csv(sourcedir + 'New_SP_1_Param_CPA.csv')\n",
    "New_SP_1_Param_SIA_df = pd.read_csv(sourcedir + 'New_SP_1_Param_SIA.csv')\n",
    "New_SP_1_Param_UPS_df = pd.read_csv(sourcedir + 'New_SP_1_Param_UPS.csv')\n",
    "New_SP_NULL_Param_CPA_df = pd.read_csv(\n",
    "    sourcedir + 'New_SP_NULL_Param_CPA.csv').sort_values(by=sortcols)\n",
    "New_SP_NULL_Param_SIA_df = pd.read_csv(\n",
    "    sourcedir + 'New_SP_NULL_Param_SIA.csv').sort_values(by=sortcols)\n",
    "New_SP_NULL_Param_UPS_df = pd.read_csv(\n",
    "    sourcedir + 'New_SP_NULL_Param_UPS.csv').sort_values(by=sortcols)\n",
    "Original_SP_CPA_df = pd.read_csv(sourcedir + 'Original_SP_CPA.csv')\n",
    "Original_SP_SIA_df = pd.read_csv(sourcedir + 'Original_SP_SIA.csv')\n",
    "Original_SP_UPS_df = pd.read_csv(sourcedir + 'Original_SP_UPS.csv')\n",
    "Mapping_df = pd.read_csv(sourcedir + '20191015-20191127 - Mapping.csv')\n",
    "finaldf = pd.read_csv(sourcedir + 'Data_2020-01-25_2020-03-10.csv', low_memory=False)"
   ]
  },
  {
   "cell_type": "code",
   "execution_count": 98,
   "metadata": {
    "ExecuteTime": {
     "end_time": "2020-03-12T10:53:29.116703Z",
     "start_time": "2020-03-12T10:53:29.087703Z"
    },
    "scrolled": false
   },
   "outputs": [
    {
     "data": {
      "text/html": [
       "<div>\n",
       "<style scoped>\n",
       "    .dataframe tbody tr th:only-of-type {\n",
       "        vertical-align: middle;\n",
       "    }\n",
       "\n",
       "    .dataframe tbody tr th {\n",
       "        vertical-align: top;\n",
       "    }\n",
       "\n",
       "    .dataframe thead th {\n",
       "        text-align: right;\n",
       "    }\n",
       "</style>\n",
       "<table border=\"1\" class=\"dataframe\">\n",
       "  <thead>\n",
       "    <tr style=\"text-align: right;\">\n",
       "      <th></th>\n",
       "      <th>Test file names</th>\n",
       "    </tr>\n",
       "  </thead>\n",
       "  <tbody>\n",
       "    <tr>\n",
       "      <td>0</td>\n",
       "      <td>New_SP_0_Param_CPA.csv</td>\n",
       "    </tr>\n",
       "    <tr>\n",
       "      <td>1</td>\n",
       "      <td>New_SP_0_Param_SIA.csv</td>\n",
       "    </tr>\n",
       "    <tr>\n",
       "      <td>2</td>\n",
       "      <td>New_SP_0_Param_UPS.csv</td>\n",
       "    </tr>\n",
       "    <tr>\n",
       "      <td>3</td>\n",
       "      <td>New_SP_1_Param_CPA.csv</td>\n",
       "    </tr>\n",
       "    <tr>\n",
       "      <td>4</td>\n",
       "      <td>New_SP_1_Param_SIA.csv</td>\n",
       "    </tr>\n",
       "    <tr>\n",
       "      <td>5</td>\n",
       "      <td>New_SP_1_Param_UPS.csv</td>\n",
       "    </tr>\n",
       "    <tr>\n",
       "      <td>6</td>\n",
       "      <td>New_SP_NULL_Param_CPA.csv</td>\n",
       "    </tr>\n",
       "    <tr>\n",
       "      <td>7</td>\n",
       "      <td>New_SP_NULL_Param_SIA.csv</td>\n",
       "    </tr>\n",
       "    <tr>\n",
       "      <td>8</td>\n",
       "      <td>New_SP_NULL_Param_UPS.csv</td>\n",
       "    </tr>\n",
       "    <tr>\n",
       "      <td>9</td>\n",
       "      <td>Original_SP_CPA.csv</td>\n",
       "    </tr>\n",
       "    <tr>\n",
       "      <td>10</td>\n",
       "      <td>Original_SP_SIA.csv</td>\n",
       "    </tr>\n",
       "    <tr>\n",
       "      <td>11</td>\n",
       "      <td>Original_SP_UPS.csv</td>\n",
       "    </tr>\n",
       "    <tr>\n",
       "      <td>12</td>\n",
       "      <td>20191015-20191127 - Mapping.csv</td>\n",
       "    </tr>\n",
       "    <tr>\n",
       "      <td>13</td>\n",
       "      <td>Data_2020-01-25_2020-03-10.csv</td>\n",
       "    </tr>\n",
       "  </tbody>\n",
       "</table>\n",
       "</div>"
      ],
      "text/plain": [
       "                    Test file names\n",
       "0            New_SP_0_Param_CPA.csv\n",
       "1            New_SP_0_Param_SIA.csv\n",
       "2            New_SP_0_Param_UPS.csv\n",
       "3            New_SP_1_Param_CPA.csv\n",
       "4            New_SP_1_Param_SIA.csv\n",
       "5            New_SP_1_Param_UPS.csv\n",
       "6         New_SP_NULL_Param_CPA.csv\n",
       "7         New_SP_NULL_Param_SIA.csv\n",
       "8         New_SP_NULL_Param_UPS.csv\n",
       "9               Original_SP_CPA.csv\n",
       "10              Original_SP_SIA.csv\n",
       "11              Original_SP_UPS.csv\n",
       "12  20191015-20191127 - Mapping.csv\n",
       "13   Data_2020-01-25_2020-03-10.csv"
      ]
     },
     "execution_count": 98,
     "metadata": {},
     "output_type": "execute_result"
    }
   ],
   "source": [
    "pd.DataFrame(os.listdir(sourcedir), columns=['Test file names'])"
   ]
  },
  {
   "cell_type": "code",
   "execution_count": 99,
   "metadata": {
    "ExecuteTime": {
     "end_time": "2020-03-12T10:53:29.132703Z",
     "start_time": "2020-03-12T10:53:29.117703Z"
    },
    "code_folding": []
   },
   "outputs": [],
   "source": [
    "# Remove query results at the bottom of each file\n",
    "New_SP_1_Param_CPA_df.drop(New_SP_1_Param_CPA_df.tail(2).index, inplace=True)\n",
    "New_SP_1_Param_UPS_df.drop(New_SP_1_Param_UPS_df.tail(2).index, inplace=True)\n",
    "New_SP_1_Param_SIA_df.drop(New_SP_1_Param_SIA_df.tail(2).index, inplace=True)"
   ]
  },
  {
   "cell_type": "markdown",
   "metadata": {},
   "source": [
    "## Test Cases"
   ]
  },
  {
   "cell_type": "markdown",
   "metadata": {},
   "source": [
    "### Results with @Columnlist = NULL and  @Columnlist = 0 should be identical\n",
    "Compare `New_SP_0_Param_<XXX>.csv` with `New_SP_NULL_Param_<XXX>.csv`\n",
    "<BR> Where `<XXX>` = Operator ICAO Code"
   ]
  },
  {
   "cell_type": "code",
   "execution_count": 100,
   "metadata": {
    "ExecuteTime": {
     "end_time": "2020-03-12T10:53:30.898303Z",
     "start_time": "2020-03-12T10:53:29.134703Z"
    }
   },
   "outputs": [
    {
     "name": "stdout",
     "output_type": "stream",
     "text": [
      "CPA - Difference Rows: 0\n",
      "SIA - Difference Rows: 0\n",
      "UPS - Difference Rows: 0\n"
     ]
    }
   ],
   "source": [
    "merged = New_SP_0_Param_CPA_df.merge(New_SP_NULL_Param_CPA_df, indicator=True, how='outer')\n",
    "print(\"CPA - Difference Rows:\",merged[merged['_merge'] != 'both'].shape[0])\n",
    "\n",
    "merged = New_SP_0_Param_SIA_df.merge(New_SP_NULL_Param_SIA_df, indicator=True, how='outer')\n",
    "print(\"SIA - Difference Rows:\",merged[merged['_merge'] != 'both'].shape[0])\n",
    "\n",
    "merged = New_SP_0_Param_UPS_df.merge(New_SP_NULL_Param_UPS_df, indicator=True, how='outer')\n",
    "print(\"UPS - Difference Rows:\",merged[merged['_merge'] != 'both'].shape[0])"
   ]
  },
  {
   "cell_type": "markdown",
   "metadata": {},
   "source": [
    "### Columns in @Columnlist = 0 should be identical to \"Name\" column of @Columnlist = 1\n",
    "Compare columns of `New_SP_0_Param_<XXX>.csv` with Name column of `New_SP_1_Param_<XXX>.csv`\n",
    "<BR> Where `<XXX>` = Operator ICAO Code"
   ]
  },
  {
   "cell_type": "code",
   "execution_count": 101,
   "metadata": {
    "ExecuteTime": {
     "end_time": "2020-03-12T10:53:30.899303Z",
     "start_time": "2020-03-12T10:53:30.898303Z"
    }
   },
   "outputs": [
    {
     "name": "stdout",
     "output_type": "stream",
     "text": [
      "CPA - differences:  0\n",
      "SIA - differences:  0\n",
      "UPS - differences:  0\n"
     ]
    }
   ],
   "source": [
    "print(\"CPA - differences: \",len(list(set(New_SP_1_Param_CPA_df['Name'].sort_values().to_list())-set(New_SP_0_Param_CPA_df.columns.to_list()))))\n",
    "print(\"SIA - differences: \",len(list(set(New_SP_1_Param_SIA_df['Name'].sort_values().to_list())-set(New_SP_0_Param_SIA_df.columns.to_list()))))\n",
    "print(\"UPS - differences: \",len(list(set(New_SP_1_Param_UPS_df['Name'].sort_values().to_list())-set(New_SP_0_Param_UPS_df.columns.to_list()))))"
   ]
  },
  {
   "cell_type": "markdown",
   "metadata": {},
   "source": [
    "### Column names have been changed, check Aicraft Attribute is fixed \n",
    "Compare Aicraft* columns `Original_SP_UPS.csv` with `New_SP_0_Param_UPS.csv`"
   ]
  },
  {
   "cell_type": "code",
   "execution_count": 102,
   "metadata": {
    "ExecuteTime": {
     "end_time": "2020-03-12T10:53:30.972303Z",
     "start_time": "2020-03-12T10:53:30.902303Z"
    }
   },
   "outputs": [],
   "source": [
    "origaircraft = Original_SP_CPA_df.sort_values(['ActualDepartureDatetime', 'Aircraft.1']).head(2).filter(regex='^Aircraft').T.reset_index()\n",
    "newaircraft = New_SP_0_Param_CPA_df.sort_values(['ActualDepartureDatetime', 'Aircraft:Registration']).head(2).filter(regex='^Aircraft').T.reset_index()\n",
    "merged = origaircraft.merge(newaircraft, indicator=False, how='outer', left_index = True, right_index = True,suffixes = ['_old','_new'])"
   ]
  },
  {
   "cell_type": "code",
   "execution_count": 103,
   "metadata": {
    "ExecuteTime": {
     "end_time": "2020-03-12T10:53:30.998303Z",
     "start_time": "2020-03-12T10:53:30.974303Z"
    }
   },
   "outputs": [
    {
     "data": {
      "text/html": [
       "<div>\n",
       "<style scoped>\n",
       "    .dataframe tbody tr th:only-of-type {\n",
       "        vertical-align: middle;\n",
       "    }\n",
       "\n",
       "    .dataframe tbody tr th {\n",
       "        vertical-align: top;\n",
       "    }\n",
       "\n",
       "    .dataframe thead th {\n",
       "        text-align: right;\n",
       "    }\n",
       "</style>\n",
       "<table border=\"1\" class=\"dataframe\">\n",
       "  <thead>\n",
       "    <tr style=\"text-align: right;\">\n",
       "      <th></th>\n",
       "      <th>index_old</th>\n",
       "      <th>0_old</th>\n",
       "      <th>1_old</th>\n",
       "      <th>index_new</th>\n",
       "      <th>0_new</th>\n",
       "      <th>1_new</th>\n",
       "    </tr>\n",
       "  </thead>\n",
       "  <tbody>\n",
       "    <tr>\n",
       "      <td>0</td>\n",
       "      <td>Aircraft</td>\n",
       "      <td>A320</td>\n",
       "      <td>747-400</td>\n",
       "      <td>Aircraft:CustomerAircraftDesign</td>\n",
       "      <td>A320</td>\n",
       "      <td>747-400</td>\n",
       "    </tr>\n",
       "    <tr>\n",
       "      <td>1</td>\n",
       "      <td>Aircraft.1</td>\n",
       "      <td>B-HSU</td>\n",
       "      <td>B-HKV</td>\n",
       "      <td>Aircraft:Registration</td>\n",
       "      <td>B-HSU</td>\n",
       "      <td>B-HKV</td>\n",
       "    </tr>\n",
       "    <tr>\n",
       "      <td>2</td>\n",
       "      <td>Aircraft.2</td>\n",
       "      <td>NaN</td>\n",
       "      <td>74K</td>\n",
       "      <td>Aircraft:IATACode</td>\n",
       "      <td>NaN</td>\n",
       "      <td>74K</td>\n",
       "    </tr>\n",
       "    <tr>\n",
       "      <td>3</td>\n",
       "      <td>Aircraft.3</td>\n",
       "      <td>NaN</td>\n",
       "      <td>359</td>\n",
       "      <td>Aircraft:Configuration</td>\n",
       "      <td>NaN</td>\n",
       "      <td>359</td>\n",
       "    </tr>\n",
       "    <tr>\n",
       "      <td>4</td>\n",
       "      <td>AircraftRegistration2</td>\n",
       "      <td>B-HSU</td>\n",
       "      <td>B-HKV</td>\n",
       "      <td>AircraftRegistration2:Code</td>\n",
       "      <td>B-HSU</td>\n",
       "      <td>B-HKV</td>\n",
       "    </tr>\n",
       "    <tr>\n",
       "      <td>5</td>\n",
       "      <td>AircraftRegistration2.1</td>\n",
       "      <td>B-HSU</td>\n",
       "      <td>B-HKV</td>\n",
       "      <td>AircraftRegistration2:Name</td>\n",
       "      <td>B-HSU</td>\n",
       "      <td>B-HKV</td>\n",
       "    </tr>\n",
       "    <tr>\n",
       "      <td>6</td>\n",
       "      <td>AircraftType</td>\n",
       "      <td>NaN</td>\n",
       "      <td>NaN</td>\n",
       "      <td>AircraftType:CustomerAircraftDesign</td>\n",
       "      <td>NaN</td>\n",
       "      <td>NaN</td>\n",
       "    </tr>\n",
       "    <tr>\n",
       "      <td>7</td>\n",
       "      <td>AircraftType.1</td>\n",
       "      <td>NaN</td>\n",
       "      <td>NaN</td>\n",
       "      <td>AircraftType:Registration</td>\n",
       "      <td>NaN</td>\n",
       "      <td>NaN</td>\n",
       "    </tr>\n",
       "    <tr>\n",
       "      <td>8</td>\n",
       "      <td>AircraftType.2</td>\n",
       "      <td>NaN</td>\n",
       "      <td>NaN</td>\n",
       "      <td>AircraftType:IATACode</td>\n",
       "      <td>NaN</td>\n",
       "      <td>NaN</td>\n",
       "    </tr>\n",
       "    <tr>\n",
       "      <td>9</td>\n",
       "      <td>AircraftType.3</td>\n",
       "      <td>NaN</td>\n",
       "      <td>NaN</td>\n",
       "      <td>AircraftType:Configuration</td>\n",
       "      <td>NaN</td>\n",
       "      <td>NaN</td>\n",
       "    </tr>\n",
       "    <tr>\n",
       "      <td>10</td>\n",
       "      <td>AircraftType2</td>\n",
       "      <td>32M</td>\n",
       "      <td>74K</td>\n",
       "      <td>AircraftType2:Code</td>\n",
       "      <td>32M</td>\n",
       "      <td>74K</td>\n",
       "    </tr>\n",
       "    <tr>\n",
       "      <td>11</td>\n",
       "      <td>AircraftType2.1</td>\n",
       "      <td>32M</td>\n",
       "      <td>74K</td>\n",
       "      <td>AircraftType2:Name</td>\n",
       "      <td>32M</td>\n",
       "      <td>74K</td>\n",
       "    </tr>\n",
       "  </tbody>\n",
       "</table>\n",
       "</div>"
      ],
      "text/plain": [
       "                  index_old  0_old    1_old  \\\n",
       "0                  Aircraft   A320  747-400   \n",
       "1                Aircraft.1  B-HSU    B-HKV   \n",
       "2                Aircraft.2    NaN      74K   \n",
       "3                Aircraft.3    NaN      359   \n",
       "4     AircraftRegistration2  B-HSU    B-HKV   \n",
       "5   AircraftRegistration2.1  B-HSU    B-HKV   \n",
       "6              AircraftType    NaN      NaN   \n",
       "7            AircraftType.1    NaN      NaN   \n",
       "8            AircraftType.2    NaN      NaN   \n",
       "9            AircraftType.3    NaN      NaN   \n",
       "10            AircraftType2    32M      74K   \n",
       "11          AircraftType2.1    32M      74K   \n",
       "\n",
       "                              index_new  0_new    1_new  \n",
       "0       Aircraft:CustomerAircraftDesign   A320  747-400  \n",
       "1                 Aircraft:Registration  B-HSU    B-HKV  \n",
       "2                     Aircraft:IATACode    NaN      74K  \n",
       "3                Aircraft:Configuration    NaN      359  \n",
       "4            AircraftRegistration2:Code  B-HSU    B-HKV  \n",
       "5            AircraftRegistration2:Name  B-HSU    B-HKV  \n",
       "6   AircraftType:CustomerAircraftDesign    NaN      NaN  \n",
       "7             AircraftType:Registration    NaN      NaN  \n",
       "8                 AircraftType:IATACode    NaN      NaN  \n",
       "9            AircraftType:Configuration    NaN      NaN  \n",
       "10                   AircraftType2:Code    32M      74K  \n",
       "11                   AircraftType2:Name    32M      74K  "
      ]
     },
     "execution_count": 103,
     "metadata": {},
     "output_type": "execute_result"
    }
   ],
   "source": [
    "merged"
   ]
  },
  {
   "cell_type": "markdown",
   "metadata": {},
   "source": [
    "### Columns have changed (original SP to new) but the data should be exact\n",
    "Compare data `Original_SP_<XXX>.csv` with `New_SP_0_Param_<XXX>.csv`\n",
    "<BR> Where `<XXX>` = Operator ICAO Code"
   ]
  },
  {
   "cell_type": "code",
   "execution_count": 104,
   "metadata": {
    "ExecuteTime": {
     "end_time": "2020-03-12T10:53:31.026303Z",
     "start_time": "2020-03-12T10:53:31.000303Z"
    }
   },
   "outputs": [],
   "source": [
    "# Columns have been fixed in the new version but the data should be the same so changing column names to new ones\n",
    "Original_SP_CPA_df.columns = New_SP_0_Param_CPA_df.columns\n",
    "Original_SP_SIA_df.columns = New_SP_0_Param_SIA_df.columns\n",
    "Original_SP_UPS_df.columns = New_SP_0_Param_UPS_df.columns"
   ]
  },
  {
   "cell_type": "code",
   "execution_count": 105,
   "metadata": {
    "ExecuteTime": {
     "end_time": "2020-03-12T10:53:32.692303Z",
     "start_time": "2020-03-12T10:53:31.028303Z"
    },
    "scrolled": true
   },
   "outputs": [
    {
     "name": "stdout",
     "output_type": "stream",
     "text": [
      "CPA - Difference Rows: 0\n",
      "SIA - Difference Rows: 0\n",
      "UPS - Difference Rows: 0\n"
     ]
    }
   ],
   "source": [
    "merged = Original_SP_CPA_df.merge(New_SP_0_Param_CPA_df, indicator=True, how='outer')\n",
    "print(\"CPA - Difference Rows:\",merged[merged['_merge'] != 'both'].shape[0])\n",
    "merged = Original_SP_SIA_df.merge(New_SP_0_Param_SIA_df, indicator=True, how='outer')\n",
    "print(\"SIA - Difference Rows:\",merged[merged['_merge'] != 'both'].shape[0])\n",
    "merged = Original_SP_UPS_df.merge(New_SP_0_Param_UPS_df, indicator=True, how='outer')\n",
    "print(\"UPS - Difference Rows:\",merged[merged['_merge'] != 'both'].shape[0])"
   ]
  },
  {
   "cell_type": "markdown",
   "metadata": {
    "ExecuteTime": {
     "end_time": "2020-03-10T13:58:15.465220Z",
     "start_time": "2020-03-10T13:58:15.463220Z"
    }
   },
   "source": [
    "### Previous column headers file should match the new headers file\n",
    "Compare data `New_SP_1_Param_UPS.csv` with `20191015-20191127 - Mapping.csv`"
   ]
  },
  {
   "cell_type": "code",
   "execution_count": 106,
   "metadata": {
    "ExecuteTime": {
     "end_time": "2020-03-12T10:53:32.696303Z",
     "start_time": "2020-03-12T10:53:32.692303Z"
    }
   },
   "outputs": [
    {
     "name": "stdout",
     "output_type": "stream",
     "text": [
      "UPS Mapping - Difference Rows: 0\n"
     ]
    }
   ],
   "source": [
    "merged = New_SP_1_Param_UPS_df.merge(Mapping_df, indicator=True, how='outer')\n",
    "print(\"UPS Mapping - Difference Rows:\",merged[merged['_merge'] != 'both'].shape[0])"
   ]
  },
  {
   "cell_type": "markdown",
   "metadata": {},
   "source": [
    "### Final output file should contain 45 days of data (Actual Departure Date)"
   ]
  },
  {
   "cell_type": "code",
   "execution_count": 107,
   "metadata": {
    "ExecuteTime": {
     "end_time": "2020-03-12T10:53:33.005303Z",
     "start_time": "2020-03-12T10:53:32.698303Z"
    }
   },
   "outputs": [
    {
     "name": "stdout",
     "output_type": "stream",
     "text": [
      "Earliest Date in file: 2020-01-25 00:03:00\n",
      "Latest Date in file: 2020-03-10 23:52:00\n",
      "Date difference in file 45 days 23:49:00\n"
     ]
    }
   ],
   "source": [
    "mindate = min(finaldf['ActualDepartureDatetime'].astype('datetime64[ns]'))\n",
    "maxdate = max(finaldf['ActualDepartureDatetime'].astype('datetime64[ns]'))\n",
    "\n",
    "print(\"Earliest Date in file:\", mindate)\n",
    "print(\"Latest Date in file:\", maxdate)\n",
    "print(\"Date difference in file\", maxdate - mindate )"
   ]
  }
 ],
 "metadata": {
  "hide_input": false,
  "kernelspec": {
   "display_name": "Python 3",
   "language": "python",
   "name": "python3"
  },
  "language_info": {
   "codemirror_mode": {
    "name": "ipython",
    "version": 3
   },
   "file_extension": ".py",
   "mimetype": "text/x-python",
   "name": "python",
   "nbconvert_exporter": "python",
   "pygments_lexer": "ipython3",
   "version": "3.7.4"
  },
  "toc": {
   "base_numbering": 1,
   "nav_menu": {},
   "number_sections": true,
   "sideBar": true,
   "skip_h1_title": true,
   "title_cell": "Table of Contents",
   "title_sidebar": "Contents",
   "toc_cell": true,
   "toc_position": {
    "height": "calc(100% - 180px)",
    "left": "10px",
    "top": "150px",
    "width": "357px"
   },
   "toc_section_display": true,
   "toc_window_display": false
  },
  "varInspector": {
   "cols": {
    "lenName": 16,
    "lenType": 16,
    "lenVar": 40
   },
   "kernels_config": {
    "python": {
     "delete_cmd_postfix": "",
     "delete_cmd_prefix": "del ",
     "library": "var_list.py",
     "varRefreshCmd": "print(var_dic_list())"
    },
    "r": {
     "delete_cmd_postfix": ") ",
     "delete_cmd_prefix": "rm(",
     "library": "var_list.r",
     "varRefreshCmd": "cat(var_dic_list()) "
    }
   },
   "types_to_exclude": [
    "module",
    "function",
    "builtin_function_or_method",
    "instance",
    "_Feature"
   ],
   "window_display": false
  }
 },
 "nbformat": 4,
 "nbformat_minor": 2
}
